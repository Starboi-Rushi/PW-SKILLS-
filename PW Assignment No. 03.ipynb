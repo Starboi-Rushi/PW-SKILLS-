{
 "cells": [
  {
   "cell_type": "markdown",
   "id": "5dd6e7d1",
   "metadata": {},
   "source": [
    "#  RUSHIKESH DEVIDAS BHAMARE"
   ]
  },
  {
   "cell_type": "markdown",
   "id": "39d9b271",
   "metadata": {},
   "source": [
    "Q1. Which keyword is used to create a function? Create a function to return a list of odd numbers in the\n",
    "range of 1 to 25."
   ]
  },
  {
   "cell_type": "markdown",
   "id": "be17d4a1",
   "metadata": {},
   "source": [
    "__The keyword used to create a function in Python, is \"def\". "
   ]
  },
  {
   "cell_type": "code",
   "execution_count": 2,
   "id": "bc7c196f",
   "metadata": {},
   "outputs": [
    {
     "data": {
      "text/plain": [
       "range(1, 25)"
      ]
     },
     "execution_count": 2,
     "metadata": {},
     "output_type": "execute_result"
    }
   ],
   "source": [
    "range(1,25)"
   ]
  },
  {
   "cell_type": "code",
   "execution_count": 6,
   "id": "07d7d664",
   "metadata": {},
   "outputs": [],
   "source": [
    "def find_odd():\n",
    "    l1 = []\n",
    "    for i in range(1,25):\n",
    "        if i%2 != 0 :\n",
    "            l1.append(i)\n",
    "    return l1        "
   ]
  },
  {
   "cell_type": "code",
   "execution_count": 7,
   "id": "f9906034",
   "metadata": {},
   "outputs": [
    {
     "data": {
      "text/plain": [
       "[1, 3, 5, 7, 9, 11, 13, 15, 17, 19, 21, 23]"
      ]
     },
     "execution_count": 7,
     "metadata": {},
     "output_type": "execute_result"
    }
   ],
   "source": [
    "find_odd()"
   ]
  },
  {
   "cell_type": "markdown",
   "id": "4b5f0e7b",
   "metadata": {},
   "source": [
    "Q2. Why *args and **kwargs is used in some functions? Create a function each for *args and **kwargs\n",
    "to demonstrate their use."
   ]
  },
  {
   "cell_type": "markdown",
   "id": "3acf93a3",
   "metadata": {},
   "source": [
    "The *args parameter allows a function to accept a variable number of positional arguments. It collects these arguments into a tuple within the function. "
   ]
  },
  {
   "cell_type": "code",
   "execution_count": 8,
   "id": "94667541",
   "metadata": {},
   "outputs": [],
   "source": [
    "def test10(*args):                               #One staric i.e. * gives you tuple\n",
    "    return args "
   ]
  },
  {
   "cell_type": "code",
   "execution_count": 9,
   "id": "3235b103",
   "metadata": {},
   "outputs": [
    {
     "data": {
      "text/plain": [
       "(1, 2, 3, 4, 5, 'ajit', 'anuj', 'Rushi', 4.33)"
      ]
     },
     "execution_count": 9,
     "metadata": {},
     "output_type": "execute_result"
    }
   ],
   "source": [
    "test10(1,2,3,4,5,\"ajit\",\"anuj\",\"Rushi\",4.33)"
   ]
  },
  {
   "cell_type": "markdown",
   "id": "c1cefb74",
   "metadata": {},
   "source": [
    "The **kwargs parameter allows a function to accept a variable number of keyword arguments. It collects these arguments into a dictionary within the function."
   ]
  },
  {
   "cell_type": "code",
   "execution_count": 10,
   "id": "a2c8f85d",
   "metadata": {},
   "outputs": [],
   "source": [
    "def test13(**kwargs):                                    # Double starric giives you a Dictionary\n",
    "    return kwargs"
   ]
  },
  {
   "cell_type": "code",
   "execution_count": 11,
   "id": "8b96ec39",
   "metadata": {},
   "outputs": [
    {
     "data": {
      "text/plain": [
       "{'a': [1, 2, 3], 'b': 'rushi', 'c': 12.44, 'd': True}"
      ]
     },
     "execution_count": 11,
     "metadata": {},
     "output_type": "execute_result"
    }
   ],
   "source": [
    "test13(a=[1,2,3],b=\"rushi\",c=12.44,d=True)"
   ]
  },
  {
   "cell_type": "markdown",
   "id": "99f5fbb8",
   "metadata": {},
   "source": [
    "Q3. What is an iterator in python? Name the method used to initialise the iterator object and the method\n",
    "used for iteration. Use these methods to print the first five elements of the given list [2, 4, 6, 8, 10, 12, 14,\n",
    "16, 18, 20]."
   ]
  },
  {
   "cell_type": "markdown",
   "id": "e05ff3bb",
   "metadata": {},
   "source": [
    "In Python, an iterator is an object that implements the iterator protocol, which consists of the iter() and next() methods"
   ]
  },
  {
   "cell_type": "code",
   "execution_count": 19,
   "id": "89c47523",
   "metadata": {},
   "outputs": [
    {
     "name": "stdout",
     "output_type": "stream",
     "text": [
      "2\n",
      "4\n",
      "6\n",
      "8\n",
      "10\n"
     ]
    }
   ],
   "source": [
    "l4 = [2, 4, 6, 8, 10, 12, 14, 16, 18, 20]\n",
    "l5 = iter(l4)\n",
    "\n",
    "for i in range(5):\n",
    "    i = next(l5)\n",
    "    print(i)\n"
   ]
  },
  {
   "cell_type": "markdown",
   "id": "6d87297d",
   "metadata": {},
   "source": [
    "Q4. What is a generator function in python? Why yield keyword is used? Give an example of a generator\n",
    "function."
   ]
  },
  {
   "cell_type": "markdown",
   "id": "f80402f8",
   "metadata": {},
   "source": [
    "When a generator function is called, it returns a generator object\n",
    "the yield keyword instead of the return keyword to generate a series of values"
   ]
  },
  {
   "cell_type": "code",
   "execution_count": 23,
   "id": "5ef1064b",
   "metadata": {},
   "outputs": [
    {
     "name": "stdout",
     "output_type": "stream",
     "text": [
      "1\n",
      "4\n",
      "9\n",
      "16\n",
      "25\n"
     ]
    }
   ],
   "source": [
    "l11 = [1,2,3,4,5]\n",
    "def sq_g(n):\n",
    "    for i in l11:\n",
    "        yield i**2\n",
    "m_g= sq_g(l11)\n",
    "\n",
    "for i in m_g:\n",
    "    print(i)\n"
   ]
  },
  {
   "cell_type": "markdown",
   "id": "a7f9431e",
   "metadata": {},
   "source": [
    "Q5. Create a generator function for prime numbers less than 1000. Use the next() method to print the\n",
    "first 20 prime numbers."
   ]
  },
  {
   "cell_type": "code",
   "execution_count": 24,
   "id": "13b1a6fa",
   "metadata": {},
   "outputs": [
    {
     "name": "stdout",
     "output_type": "stream",
     "text": [
      "2\n",
      "3\n",
      "5\n",
      "7\n",
      "11\n",
      "13\n",
      "17\n",
      "19\n",
      "23\n",
      "29\n",
      "31\n",
      "37\n",
      "41\n",
      "43\n",
      "47\n",
      "53\n",
      "59\n",
      "61\n",
      "67\n",
      "71\n"
     ]
    }
   ],
   "source": [
    "def prime_generator():\n",
    "    primes = []\n",
    "    num = 2\n",
    "    while True:\n",
    "        if all(num % prime != 0 for prime in primes):\n",
    "            primes.append(num)\n",
    "            yield num\n",
    "        num += 1\n",
    "my_generator = prime_generator()\n",
    "for _ in range(20):\n",
    "    prime = next(my_generator)\n",
    "    print(prime)\n"
   ]
  },
  {
   "cell_type": "markdown",
   "id": "d4eab7d2",
   "metadata": {},
   "source": [
    "Q6. Write a python program to print the first 10 Fibonacci numbers using a while loop."
   ]
  },
  {
   "cell_type": "code",
   "execution_count": 25,
   "id": "539464e4",
   "metadata": {},
   "outputs": [
    {
     "name": "stdout",
     "output_type": "stream",
     "text": [
      "0\n",
      "1\n",
      "1\n",
      "2\n",
      "3\n",
      "5\n",
      "8\n",
      "13\n",
      "21\n",
      "34\n"
     ]
    }
   ],
   "source": [
    "def fib_s(n):\n",
    "    fib_numbers = []\n",
    "    a, b = 0, 1\n",
    "    count = 0\n",
    "    while count < n:\n",
    "        fib_numbers.append(a)\n",
    "        a, b = b, a + b\n",
    "        count += 1\n",
    "    return fib_numbers\n",
    "fib_s = fib_s(10)\n",
    "for num in fib_s:\n",
    "    print(num)\n"
   ]
  },
  {
   "cell_type": "markdown",
   "id": "70a90da4",
   "metadata": {},
   "source": [
    "Q7. Write a List Comprehension to iterate through the given string: ‘pwskills’.\n",
    "Expected output: ['p', 'w', 's', 'k', 'i', 'l', 'l', 's']"
   ]
  },
  {
   "cell_type": "code",
   "execution_count": 26,
   "id": "3fd6245d",
   "metadata": {},
   "outputs": [],
   "source": [
    "s = \"pwskills\""
   ]
  },
  {
   "cell_type": "code",
   "execution_count": 32,
   "id": "b4d514fb",
   "metadata": {},
   "outputs": [
    {
     "data": {
      "text/plain": [
       "['p', 'w', 's', 'k', 'i', 'l', 'l', 's']"
      ]
     },
     "execution_count": 32,
     "metadata": {},
     "output_type": "execute_result"
    }
   ],
   "source": [
    "list(map(lambda s :s.lower(),s))"
   ]
  },
  {
   "cell_type": "markdown",
   "id": "555171cc",
   "metadata": {},
   "source": [
    "Q8. Write a python program to check whether a given number is Palindrome or not using a while loop."
   ]
  },
  {
   "cell_type": "markdown",
   "id": "6df9bf4c",
   "metadata": {},
   "source": [
    "DON'T KNOW"
   ]
  },
  {
   "cell_type": "markdown",
   "id": "71db8a15",
   "metadata": {},
   "source": [
    "Q9 . Write a code to print odd numbers from 1 to 100 using list comprehension."
   ]
  },
  {
   "cell_type": "code",
   "execution_count": 37,
   "id": "6849702a",
   "metadata": {},
   "outputs": [
    {
     "name": "stdout",
     "output_type": "stream",
     "text": [
      "[1, 3, 5, 7, 9, 11, 13, 15, 17, 19, 21, 23, 25, 27, 29, 31, 33, 35, 37, 39, 41, 43, 45, 47, 49, 51, 53, 55, 57, 59, 61, 63, 65, 67, 69, 71, 73, 75, 77, 79, 81, 83, 85, 87, 89, 91, 93, 95, 97, 99]\n"
     ]
    }
   ],
   "source": [
    "odd_numbers = [num for num in range(1, 101) if num % 2 != 0]\n",
    "print(odd_numbers)\n"
   ]
  },
  {
   "cell_type": "markdown",
   "id": "d6cf2d0e",
   "metadata": {},
   "source": [
    "THANK YOU"
   ]
  },
  {
   "cell_type": "code",
   "execution_count": null,
   "id": "e7aef46a",
   "metadata": {},
   "outputs": [],
   "source": []
  }
 ],
 "metadata": {
  "kernelspec": {
   "display_name": "Python 3 (ipykernel)",
   "language": "python",
   "name": "python3"
  },
  "language_info": {
   "codemirror_mode": {
    "name": "ipython",
    "version": 3
   },
   "file_extension": ".py",
   "mimetype": "text/x-python",
   "name": "python",
   "nbconvert_exporter": "python",
   "pygments_lexer": "ipython3",
   "version": "3.10.9"
  }
 },
 "nbformat": 4,
 "nbformat_minor": 5
}
