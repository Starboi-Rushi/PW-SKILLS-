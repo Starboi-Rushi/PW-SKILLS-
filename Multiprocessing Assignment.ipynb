{
 "cells": [
  {
   "cell_type": "markdown",
   "id": "0c88c65a-624e-4f4a-9f6e-7db11419687c",
   "metadata": {},
   "source": [
    "<a id=\"1\"></a>\n",
    "\n",
    "# <p style=\"padding: 10px; background-color: orange; margin: 10px; color: #000000; font-family: newtimeroman; font-size: 100%; text-align: center; border-radius: 10px; overflow: hidden; font-weight: 50;\">Multiprocessing Assignment</p>\n"
   ]
  },
  {
   "cell_type": "markdown",
   "id": "3f8da057-22d6-4b20-8ebf-7ec9920a8d45",
   "metadata": {},
   "source": [
    "**           **\n"
   ]
  },
  {
   "cell_type": "markdown",
   "id": "b4763707-31f6-441f-ab25-bbad207a4f86",
   "metadata": {},
   "source": [
    "**Q1. What is multiprocessing in python? Why is it useful?**"
   ]
  },
  {
   "cell_type": "markdown",
   "id": "8383c9fb-0559-4cb6-afe7-628365007a49",
   "metadata": {},
   "source": [
    "Multiprocessing in Python refers to the ability to run multiple processes (separate instances of a program) concurrently. Each process runs in its own memory space and has its own Python interpreter, allowing multiple tasks to be executed in parallel. Python provides the multiprocessing module to facilitate multiprocessing and parallel computing.\n",
    "\n",
    "Here are some key points about multiprocessing in Python:\n",
    "\n",
    "Parallelism: Multiprocessing is used to achieve parallelism, which is the execution of multiple tasks simultaneously. It is particularly useful for CPU-bound tasks, where the program spends a significant amount of time performing computations or tasks that don't involve waiting for external resources.\n",
    "\n",
    "GIL (Global Interpreter Lock): In the standard CPython interpreter (which is the most widely used Python interpreter), there is a Global Interpreter Lock (GIL) that prevents multiple native threads from executing Python code simultaneously. This means that in a multi-threaded Python program, only one thread can execute Python code at a time. Multiprocessing allows you to bypass the GIL by creating separate processes, each with its own Python interpreter, making it suitable for CPU-bound tasks.\n",
    "\n",
    "Utilizes Multiple CPU Cores: When you have a multi-core CPU, multiprocessing enables you to utilize all available CPU cores efficiently. Each process can run on a different core, maximizing CPU usage and speeding up computation-intensive tasks.\n",
    "\n",
    "Independence: Processes in multiprocessing are independent of each other. They do not share memory by default, which can make it easier to reason about and control concurrency.\n",
    "\n",
    "Communication Between Processes: Multiprocessing provides mechanisms for communication and synchronization between processes. For example, you can use Queue objects or Pipe objects to exchange data between processes. You can also use tools like Locks and Semaphores to control access to shared resources.\n",
    "\n",
    "Ease of Use: The multiprocessing module in Python provides a high-level, easy-to-use API for creating and managing processes, making it relatively simple to parallelize tasks."
   ]
  },
  {
   "cell_type": "code",
   "execution_count": 2,
   "id": "6d6c9ae4-d2b5-488e-882e-9c1f516067a7",
   "metadata": {},
   "outputs": [
    {
     "name": "stdout",
     "output_type": "stream",
     "text": [
      "[0, 1, 4, 9, 16, 25, 36, 49, 64, 81]\n",
      "All squares calculated with multiprocessing\n"
     ]
    }
   ],
   "source": [
    "import multiprocessing\n",
    "\n",
    "def square(n):\n",
    "    \"\"\"\n",
    "    This function returns square of a given number\n",
    "    \"\"\"\n",
    "    return n**2\n",
    "\n",
    "if __name__ == '__main__':\n",
    "    pool = multiprocessing.Pool(processes=5)\n",
    "\n",
    "    # Map the worker function to the numbers 0-3\n",
    "    # The map function will divide the work and distribute it among the processes\n",
    "    # Each process will execute the worker function with its assigned number\n",
    "    results = pool.map(square, range(10))\n",
    "    print(results)\n",
    "\n",
    "    # Close the pool and wait for the worker processes to finish\n",
    "    pool.close()\n",
    "    pool.join()\n",
    "\n",
    "    print('All squares calculated with multiprocessing')"
   ]
  },
  {
   "cell_type": "markdown",
   "id": "a453fbc8-0695-4ea1-8ab0-8dba479aaba1",
   "metadata": {},
   "source": [
    "**           **\n"
   ]
  },
  {
   "cell_type": "markdown",
   "id": "a172b796-9c7c-484c-b01f-c38005e0b726",
   "metadata": {},
   "source": [
    "**Q2. What are the differences between multiprocessing and multithreading?**"
   ]
  },
  {
   "cell_type": "markdown",
   "id": "416a2011-58ba-44be-86a6-444dd28273fb",
   "metadata": {},
   "source": [
    "**Below Table describes differences between Multiprocessing and Multithreading**"
   ]
  },
  {
   "cell_type": "markdown",
   "id": "69e0360e-d39c-4eca-a9f0-1fd3f617bd15",
   "metadata": {},
   "source": [
    "| Feature            | Multiprocessing                                | Multithreading                        |\n",
    "|--------------------|------------------------------------------------|--------------------------------------|\n",
    "| Execution model    | Multiple processes; Separate processor core used for each process | Multiple threads within a single process |\n",
    "| Parallelism        | True parallelism                               | Concurrency due to GIL                |\n",
    "| Resource usage     | Higher resource usage, slower startup times    | Lower resource usage, faster startup times |\n",
    "| Communication      | IPC mechanisms (pipes, queues, shared memory) | Shared memory, synchronization primitives |\n",
    "| Debugging          | More complex (multiple memory spaces)         | Easier (shared memory, single memory space) |\n",
    "| Best for           | CPU-bound tasks                                | I/O-bound tasks                       |\n"
   ]
  },
  {
   "cell_type": "markdown",
   "id": "184f254a-9adb-4f1f-9717-61211f204262",
   "metadata": {},
   "source": [
    "**           **\n"
   ]
  },
  {
   "cell_type": "markdown",
   "id": "621f144d-8830-4e74-9e99-113845f538eb",
   "metadata": {},
   "source": [
    "**Q3. Write a python code to create a process using the multiprocessing module.**"
   ]
  },
  {
   "cell_type": "code",
   "execution_count": 6,
   "id": "ee52a65e-9413-41c0-9858-d9fd95c77c62",
   "metadata": {},
   "outputs": [
    {
     "name": "stdout",
     "output_type": "stream",
     "text": [
      "Child process is running.\n",
      "Main process is done.\n"
     ]
    }
   ],
   "source": [
    "import multiprocessing\n",
    "\n",
    "def my_function():\n",
    "    \"\"\"This function will be executed by the child process.\"\"\"\n",
    "    print(\"Child process is running.\")\n",
    "\n",
    "if __name__ == \"__main__\":\n",
    "    # Create a multiprocessing Process object\n",
    "    process = multiprocessing.Process(target=my_function)\n",
    "\n",
    "    # Start the child process\n",
    "    process.start()\n",
    "\n",
    "    # Wait for the child process to complete\n",
    "    process.join()\n",
    "\n",
    "    print(\"Main process is done.\")\n"
   ]
  },
  {
   "cell_type": "markdown",
   "id": "dde8baa4-d4ca-4188-91ea-4db3366796f0",
   "metadata": {},
   "source": [
    "In this code:\n",
    "\n",
    "We import the multiprocessing module.\n",
    "\n",
    "We define a function my_function() which will be executed by the child process.\n",
    "\n",
    "Inside the if __name__ == \"__main__\": block, we create a multiprocessing.Process object called process. We specify the target argument as the function that the child process should execute, which is my_function in this case.\n",
    "\n",
    "We start the child process using process.start().\n",
    "\n",
    "We use process.join() to wait for the child process to complete. This ensures that the main process doesn't proceed until the child process has finished."
   ]
  },
  {
   "cell_type": "markdown",
   "id": "74e8950f-a5f5-427e-971e-924367498927",
   "metadata": {},
   "source": [
    "**           **\n"
   ]
  },
  {
   "cell_type": "markdown",
   "id": "23efe706-79fe-42c1-a0ba-5d41113192bc",
   "metadata": {},
   "source": [
    "**Q4. What is a multiprocessing pool in python? Why is it used?**"
   ]
  },
  {
   "cell_type": "markdown",
   "id": "b763c6a4-50e9-4b2f-8a73-2dd6be7e1c76",
   "metadata": {},
   "source": [
    "A multiprocessing pool in Python is a mechanism provided by the multiprocessing module for managing a pool of worker processes. It is used to distribute tasks across multiple processes concurrently, making it easier to parallelize and parallel compute tasks, especially in scenarios involving CPU-bound operations. The primary purposes of using a multiprocessing pool are as follows:\n",
    "\n",
    "**Parallel Processing**: A multiprocessing pool allows you to execute multiple instances of a function simultaneously. Each worker process in the pool can execute the same or different functions independently, which is particularly useful for parallelizing tasks that can be divided into smaller units of work.\n",
    "\n",
    "**Utilizing Multiple CPU Cores**: In a multi-core CPU environment, a multiprocessing pool can utilize all available CPU cores efficiently. Each worker process runs on a separate core, which can significantly speed up CPU-bound operations by taking full advantage of the available hardware resources.\n",
    "\n",
    "**Simplified Parallelism**: The multiprocessing pool abstracts much of the complexity of managing multiple processes, making it easier to work with parallelism. You don't need to manually create and manage individual processes; the pool handles the process creation and management for you."
   ]
  },
  {
   "cell_type": "code",
   "execution_count": 1,
   "id": "16890447-1cc1-4d3c-83a8-fc57a13e3884",
   "metadata": {},
   "outputs": [
    {
     "name": "stdout",
     "output_type": "stream",
     "text": [
      "Results: [2, 4, 6, 8, 10]\n"
     ]
    }
   ],
   "source": [
    "import multiprocessing\n",
    "\n",
    "def worker_function(number):\n",
    "    result = number * 2\n",
    "    return result\n",
    "\n",
    "if __name__ == \"__main__\":\n",
    "    # Create a pool of worker processes with 4 worker processes\n",
    "    pool = multiprocessing.Pool(processes=5)\n",
    "\n",
    "    # Define a list of numbers to process\n",
    "    numbers = [1, 2, 3, 4, 5]\n",
    "\n",
    "    # Distribute the work across the processes using map\n",
    "    results = pool.map(worker_function, numbers)\n",
    "\n",
    "    # Close the pool and wait for the work to finish\n",
    "    pool.close()\n",
    "    pool.join()\n",
    "\n",
    "    print(\"Results:\", results)\n"
   ]
  },
  {
   "cell_type": "markdown",
   "id": "eb49a061-75e6-4acc-9218-90a85870176f",
   "metadata": {},
   "source": [
    "**           **\n"
   ]
  },
  {
   "cell_type": "markdown",
   "id": "d9660450-7966-4e8e-b144-c8385167c219",
   "metadata": {},
   "source": [
    "**Q5. How can we create a pool of worker processes in python using the multiprocessing module?**"
   ]
  },
  {
   "cell_type": "code",
   "execution_count": 3,
   "id": "d1fdecda-3dd8-48c5-b073-251ec476782e",
   "metadata": {},
   "outputs": [],
   "source": [
    "# import multiprocessing\n",
    "import multiprocessing\n"
   ]
  },
  {
   "cell_type": "code",
   "execution_count": 4,
   "id": "9303035a-5d8f-42b2-8266-9b74816d7507",
   "metadata": {},
   "outputs": [],
   "source": [
    "# Def function\n",
    "def worker_function(number):\n",
    "    result = number * 2\n",
    "    return result"
   ]
  },
  {
   "cell_type": "code",
   "execution_count": 5,
   "id": "cf0432a6-941b-4ee4-bea1-28016e0ea13f",
   "metadata": {},
   "outputs": [],
   "source": [
    "#Create pool\n",
    "pool = multiprocessing.Pool(processes=5)"
   ]
  },
  {
   "cell_type": "code",
   "execution_count": 6,
   "id": "8b2ded40-a666-4157-9b1b-f7e15c30fa71",
   "metadata": {},
   "outputs": [],
   "source": [
    "# define task\n",
    "numbers = [1, 2, 3, 4, 5]"
   ]
  },
  {
   "cell_type": "code",
   "execution_count": 7,
   "id": "86260afd-4b3a-4570-b2f4-704b9769c42b",
   "metadata": {},
   "outputs": [],
   "source": [
    "# Use map for object to distribute the tasks to the worker processes\n",
    "results = pool.map(worker_function, numbers)"
   ]
  },
  {
   "cell_type": "code",
   "execution_count": 8,
   "id": "3b309730-04e7-4688-9ee6-144a4bd59511",
   "metadata": {},
   "outputs": [],
   "source": [
    "pool.close()\n",
    "pool.join()\n"
   ]
  },
  {
   "cell_type": "code",
   "execution_count": 9,
   "id": "56233e1f-7093-4bd3-8fb4-17ab40dc3d55",
   "metadata": {},
   "outputs": [
    {
     "name": "stdout",
     "output_type": "stream",
     "text": [
      "Results: [2, 4, 6, 8, 10]\n"
     ]
    }
   ],
   "source": [
    "print(\"Results:\", results)"
   ]
  },
  {
   "cell_type": "markdown",
   "id": "1452a8e9-9f25-4248-b556-ecc0296369d9",
   "metadata": {},
   "source": [
    "**           **\n"
   ]
  },
  {
   "cell_type": "markdown",
   "id": "d715ade9-4f09-4739-a1b3-eeedb0cef3c0",
   "metadata": {},
   "source": [
    "**Q6. Write a python program to create 4 processes, each process should print a different number using the\n",
    "multiprocessing module in python.**"
   ]
  },
  {
   "cell_type": "code",
   "execution_count": 10,
   "id": "e961bfe5-594e-4ee4-ab43-0a7addacb907",
   "metadata": {},
   "outputs": [
    {
     "name": "stdout",
     "output_type": "stream",
     "text": [
      "Process 4: The square of 4 is 16.Process 2: The square of 2 is 4.Process 1: The square of 1 is 1.Process 3: The square of 3 is 9.\n",
      "\n",
      "\n",
      "\n",
      "All processes have finished.\n"
     ]
    }
   ],
   "source": [
    "import multiprocessing\n",
    "\n",
    "def calculate_square(number):\n",
    "    result = number ** 2\n",
    "    print(f\"Process {number}: The square of {number} is {result}.\")\n",
    "\n",
    "if __name__ == \"__main__\":\n",
    "    # Create a list of numbers (1 to 4)\n",
    "    numbers = [1, 2, 3, 4]\n",
    "\n",
    "    # Create a pool of worker processes\n",
    "    pool = multiprocessing.Pool(processes=4)\n",
    "\n",
    "    # Use the pool to execute the calculate_square function for each number\n",
    "    pool.map(calculate_square, numbers)\n",
    "\n",
    "    # Close the pool and wait for the processes to finish\n",
    "    pool.close()\n",
    "    pool.join()\n",
    "\n",
    "    print(\"All processes have finished.\")\n"
   ]
  },
  {
   "cell_type": "markdown",
   "id": "c73d450b-62c4-47a7-8ae9-58b0c5bf7c17",
   "metadata": {},
   "source": [
    "In this program:\n",
    "\n",
    "We import the multiprocessing module.\n",
    "\n",
    "We define a print_number function that takes a number as an argument and prints a message indicating the process number and the number itself.\n",
    "\n",
    "Inside the if __name__ == \"__main__\": block, we create a list of numbers from 1 to 4.\n",
    "\n",
    "We create a pool of worker processes with the same number as the length of the numbers list.\n",
    "\n",
    "We use the pool.map() method to execute the print_number function for each number in the numbers list. The pool distributes the work among the processes."
   ]
  },
  {
   "cell_type": "code",
   "execution_count": null,
   "id": "0d9d80a2-5bf8-45dc-a2c0-d5d409694a3e",
   "metadata": {},
   "outputs": [],
   "source": []
  }
 ],
 "metadata": {
  "kernelspec": {
   "display_name": "Python 3 (ipykernel)",
   "language": "python",
   "name": "python3"
  },
  "language_info": {
   "codemirror_mode": {
    "name": "ipython",
    "version": 3
   },
   "file_extension": ".py",
   "mimetype": "text/x-python",
   "name": "python",
   "nbconvert_exporter": "python",
   "pygments_lexer": "ipython3",
   "version": "3.10.8"
  }
 },
 "nbformat": 4,
 "nbformat_minor": 5
}
