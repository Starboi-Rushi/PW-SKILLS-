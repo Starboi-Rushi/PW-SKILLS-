{
 "cells": [
  {
   "cell_type": "markdown",
   "id": "33d78b4a",
   "metadata": {},
   "source": [
    "Q1. How do you comment code in Python? What are the different types of comments?"
   ]
  },
  {
   "cell_type": "markdown",
   "id": "4d7243b7",
   "metadata": {},
   "source": [
    "  By adding comments to your code to provide explanations or notes that are not executed as part of the program.\n",
    " 1. To add comments in Python, you can use the hash symbol (#)."
   ]
  },
  {
   "cell_type": "code",
   "execution_count": 3,
   "id": "bfc330fd",
   "metadata": {
    "scrolled": true
   },
   "outputs": [],
   "source": [
    "# We can add Comment by using #\n",
    "# The part front of # can not be executed and treat as a extra part that can not be Run."
   ]
  },
  {
   "cell_type": "markdown",
   "id": "8b07494a",
   "metadata": {},
   "source": [
    "2. We can also add comment in python by using tripple quotes "
   ]
  },
  {
   "cell_type": "code",
   "execution_count": 7,
   "id": "5c3d98a7",
   "metadata": {},
   "outputs": [
    {
     "name": "stdout",
     "output_type": "stream",
     "text": [
      "(1, 2, 3, 4)\n"
     ]
    }
   ],
   "source": [
    "\"\"\" In this we are going to do \n",
    "add a multi statemet or multi line comment\"\"\"\n",
    "x=(1,2,3,4)\n",
    "print(x)"
   ]
  },
  {
   "cell_type": "markdown",
   "id": "14fb74b0",
   "metadata": {},
   "source": [
    "Q2. What are variables in Python? How do you declare and assign values to variables?"
   ]
  },
  {
   "cell_type": "markdown",
   "id": "d9346a52",
   "metadata": {},
   "source": [
    "Variables are used to store Data and also Variable is essentially a name that represents a memory location where a value is stored.To declare and assign values to variables in Python Assignment operator (=)\n",
    "Let's discuss with the help of example"
   ]
  },
  {
   "cell_type": "code",
   "execution_count": 10,
   "id": "279b0396",
   "metadata": {},
   "outputs": [],
   "source": [
    "a =\"Rushi Bhamare\""
   ]
  },
  {
   "cell_type": "code",
   "execution_count": 11,
   "id": "aec2398c",
   "metadata": {},
   "outputs": [
    {
     "data": {
      "text/plain": [
       "'Rushi Bhamare'"
      ]
     },
     "execution_count": 11,
     "metadata": {},
     "output_type": "execute_result"
    }
   ],
   "source": [
    "a                           # in this a is variable which assign value "
   ]
  },
  {
   "cell_type": "code",
   "execution_count": 12,
   "id": "2be3b0a7",
   "metadata": {},
   "outputs": [],
   "source": [
    "b = \"PW SKILLS\""
   ]
  },
  {
   "cell_type": "code",
   "execution_count": 13,
   "id": "7f7ed2c4",
   "metadata": {},
   "outputs": [
    {
     "data": {
      "text/plain": [
       "'PW SKILLS'"
      ]
     },
     "execution_count": 13,
     "metadata": {},
     "output_type": "execute_result"
    }
   ],
   "source": [
    "b"
   ]
  },
  {
   "cell_type": "code",
   "execution_count": 18,
   "id": "8caa4944",
   "metadata": {},
   "outputs": [],
   "source": [
    "a,b,c=14,34,33"
   ]
  },
  {
   "cell_type": "code",
   "execution_count": 19,
   "id": "731b6d5e",
   "metadata": {},
   "outputs": [
    {
     "data": {
      "text/plain": [
       "14"
      ]
     },
     "execution_count": 19,
     "metadata": {},
     "output_type": "execute_result"
    }
   ],
   "source": [
    "a"
   ]
  },
  {
   "cell_type": "code",
   "execution_count": 20,
   "id": "44160b52",
   "metadata": {},
   "outputs": [
    {
     "data": {
      "text/plain": [
       "34"
      ]
     },
     "execution_count": 20,
     "metadata": {},
     "output_type": "execute_result"
    }
   ],
   "source": [
    "b"
   ]
  },
  {
   "cell_type": "code",
   "execution_count": 21,
   "id": "06186d2f",
   "metadata": {},
   "outputs": [
    {
     "data": {
      "text/plain": [
       "33"
      ]
     },
     "execution_count": 21,
     "metadata": {},
     "output_type": "execute_result"
    }
   ],
   "source": [
    "c"
   ]
  },
  {
   "cell_type": "markdown",
   "id": "28295cec",
   "metadata": {},
   "source": [
    " Q3. How do you convert one data type to another in Python?"
   ]
  },
  {
   "cell_type": "markdown",
   "id": "70ab7a37",
   "metadata": {},
   "source": [
    "We can covert one data type in another data type by using method of type covnvesion \n",
    "int(): Converts a value to an integer.\n",
    "float(): Converts a value to a floating-point number.\n",
    "str(): Converts a value to a string.\n",
    "bool(): Converts a value to a boolean.\n",
    " many more\n",
    " Let's discuss with example"
   ]
  },
  {
   "cell_type": "code",
   "execution_count": 24,
   "id": "e36aad17",
   "metadata": {},
   "outputs": [],
   "source": [
    "a =24.55"
   ]
  },
  {
   "cell_type": "code",
   "execution_count": 25,
   "id": "4f6aac34",
   "metadata": {},
   "outputs": [
    {
     "data": {
      "text/plain": [
       "24.55"
      ]
     },
     "execution_count": 25,
     "metadata": {},
     "output_type": "execute_result"
    }
   ],
   "source": [
    "a"
   ]
  },
  {
   "cell_type": "code",
   "execution_count": 30,
   "id": "3112d1bb",
   "metadata": {},
   "outputs": [
    {
     "data": {
      "text/plain": [
       "float"
      ]
     },
     "execution_count": 30,
     "metadata": {},
     "output_type": "execute_result"
    }
   ],
   "source": [
    "type(a)"
   ]
  },
  {
   "cell_type": "code",
   "execution_count": 34,
   "id": "46ed3734",
   "metadata": {},
   "outputs": [],
   "source": [
    "b=str(a)"
   ]
  },
  {
   "cell_type": "code",
   "execution_count": 35,
   "id": "fab6fcbb",
   "metadata": {},
   "outputs": [
    {
     "data": {
      "text/plain": [
       "'24.55'"
      ]
     },
     "execution_count": 35,
     "metadata": {},
     "output_type": "execute_result"
    }
   ],
   "source": [
    "b"
   ]
  },
  {
   "cell_type": "code",
   "execution_count": 36,
   "id": "c7908036",
   "metadata": {},
   "outputs": [
    {
     "data": {
      "text/plain": [
       "str"
      ]
     },
     "execution_count": 36,
     "metadata": {},
     "output_type": "execute_result"
    }
   ],
   "source": [
    "type(b)"
   ]
  },
  {
   "cell_type": "code",
   "execution_count": 37,
   "id": "2145fa42",
   "metadata": {},
   "outputs": [],
   "source": [
    "c=int(a)"
   ]
  },
  {
   "cell_type": "code",
   "execution_count": 38,
   "id": "793a4b69",
   "metadata": {},
   "outputs": [
    {
     "data": {
      "text/plain": [
       "24"
      ]
     },
     "execution_count": 38,
     "metadata": {},
     "output_type": "execute_result"
    }
   ],
   "source": [
    "c"
   ]
  },
  {
   "cell_type": "code",
   "execution_count": 39,
   "id": "57cc778a",
   "metadata": {},
   "outputs": [
    {
     "data": {
      "text/plain": [
       "int"
      ]
     },
     "execution_count": 39,
     "metadata": {},
     "output_type": "execute_result"
    }
   ],
   "source": [
    "type(c)"
   ]
  },
  {
   "cell_type": "markdown",
   "id": "8b42dc33",
   "metadata": {},
   "source": [
    "Q4. How do you write and execute a Python script from the command line"
   ]
  },
  {
   "cell_type": "code",
   "execution_count": 19,
   "id": "b5711cd0",
   "metadata": {
    "scrolled": true
   },
   "outputs": [
    {
     "name": "stdout",
     "output_type": "stream",
     "text": [
      "[WinError 2] The system cannot find the file specified: 'downloads'\n",
      "C:\\Users\\bhama\\downloads\n"
     ]
    }
   ],
   "source": [
    "cd downloads"
   ]
  },
  {
   "cell_type": "markdown",
   "id": "fa50c5b6",
   "metadata": {},
   "source": [
    "python coursera Assignment.py"
   ]
  },
  {
   "cell_type": "markdown",
   "id": "aed1c29e",
   "metadata": {},
   "source": [
    "Q5. Given a list my_list = [1, 2, 3, 4, 5], write the code to slice the list and obtain the sub-list [2, 3]"
   ]
  },
  {
   "cell_type": "code",
   "execution_count": 40,
   "id": "dae3f860",
   "metadata": {},
   "outputs": [],
   "source": [
    "my_list = [1, 2, 3, 4, 5]"
   ]
  },
  {
   "cell_type": "code",
   "execution_count": 41,
   "id": "cc94ccc1",
   "metadata": {},
   "outputs": [
    {
     "data": {
      "text/plain": [
       "[1, 2, 3, 4, 5]"
      ]
     },
     "execution_count": 41,
     "metadata": {},
     "output_type": "execute_result"
    }
   ],
   "source": [
    "my_list"
   ]
  },
  {
   "cell_type": "code",
   "execution_count": 45,
   "id": "97e65704",
   "metadata": {},
   "outputs": [
    {
     "data": {
      "text/plain": [
       "[2, 3]"
      ]
     },
     "execution_count": 45,
     "metadata": {},
     "output_type": "execute_result"
    }
   ],
   "source": [
    "sub_list =my_list[1:3]\n",
    "sub_list"
   ]
  },
  {
   "cell_type": "markdown",
   "id": "5c54bd0f",
   "metadata": {},
   "source": [
    "Q6. What is a complex number in mathematics, and how is it represented in Python?"
   ]
  },
  {
   "cell_type": "markdown",
   "id": "e076631e",
   "metadata": {},
   "source": [
    "Complex number is nothing but the number that can be expressed in the form a + bi, where a and b are real numbers, and i is the imaginary unit defined as the square root of -1"
   ]
  },
  {
   "cell_type": "markdown",
   "id": "a26550c9",
   "metadata": {},
   "source": [
    "In python it can  be denoted by a+bj"
   ]
  },
  {
   "cell_type": "markdown",
   "id": "5e9138bd",
   "metadata": {},
   "source": [
    "i is replaced by j in python"
   ]
  },
  {
   "cell_type": "code",
   "execution_count": 25,
   "id": "da45013c",
   "metadata": {},
   "outputs": [],
   "source": [
    "a =3+4j"
   ]
  },
  {
   "cell_type": "markdown",
   "id": "0adf5bd5",
   "metadata": {},
   "source": [
    "where 3 is real part of complex number and 4 is imaginary part of complex number"
   ]
  },
  {
   "cell_type": "code",
   "execution_count": 27,
   "id": "1ac4cc97",
   "metadata": {},
   "outputs": [
    {
     "data": {
      "text/plain": [
       "(3+4j)"
      ]
     },
     "execution_count": 27,
     "metadata": {},
     "output_type": "execute_result"
    }
   ],
   "source": [
    "a"
   ]
  },
  {
   "cell_type": "code",
   "execution_count": 28,
   "id": "34b9494a",
   "metadata": {},
   "outputs": [
    {
     "data": {
      "text/plain": [
       "complex"
      ]
     },
     "execution_count": 28,
     "metadata": {},
     "output_type": "execute_result"
    }
   ],
   "source": [
    "type(a)"
   ]
  },
  {
   "cell_type": "code",
   "execution_count": 32,
   "id": "37c491c6",
   "metadata": {},
   "outputs": [
    {
     "data": {
      "text/plain": [
       "3.0"
      ]
     },
     "execution_count": 32,
     "metadata": {},
     "output_type": "execute_result"
    }
   ],
   "source": [
    "a.real"
   ]
  },
  {
   "cell_type": "code",
   "execution_count": 34,
   "id": "fed1a81b",
   "metadata": {},
   "outputs": [
    {
     "data": {
      "text/plain": [
       "4.0"
      ]
     },
     "execution_count": 34,
     "metadata": {},
     "output_type": "execute_result"
    }
   ],
   "source": [
    "a.imag"
   ]
  },
  {
   "cell_type": "markdown",
   "id": "f827825c",
   "metadata": {},
   "source": [
    "Q7. What is the correct way to declare a variable named age and assign the value 25 to it"
   ]
  },
  {
   "cell_type": "code",
   "execution_count": 35,
   "id": "6008d522",
   "metadata": {},
   "outputs": [],
   "source": [
    "age = 25"
   ]
  },
  {
   "cell_type": "code",
   "execution_count": 36,
   "id": "93f1b33c",
   "metadata": {},
   "outputs": [
    {
     "data": {
      "text/plain": [
       "25"
      ]
     },
     "execution_count": 36,
     "metadata": {},
     "output_type": "execute_result"
    }
   ],
   "source": [
    "age"
   ]
  },
  {
   "cell_type": "markdown",
   "id": "0a530386",
   "metadata": {},
   "source": [
    "Q8. Declare a variable named price and assign the value 9.99 to it. What data type does this variable \n",
    "belong to?"
   ]
  },
  {
   "cell_type": "code",
   "execution_count": 38,
   "id": "d6987c3c",
   "metadata": {},
   "outputs": [],
   "source": [
    "price = 9.99             # float"
   ]
  },
  {
   "cell_type": "code",
   "execution_count": 39,
   "id": "429d27bb",
   "metadata": {},
   "outputs": [
    {
     "data": {
      "text/plain": [
       "9.99"
      ]
     },
     "execution_count": 39,
     "metadata": {},
     "output_type": "execute_result"
    }
   ],
   "source": [
    "price"
   ]
  },
  {
   "cell_type": "code",
   "execution_count": 40,
   "id": "cb0dafbc",
   "metadata": {},
   "outputs": [
    {
     "data": {
      "text/plain": [
       "float"
      ]
     },
     "execution_count": 40,
     "metadata": {},
     "output_type": "execute_result"
    }
   ],
   "source": [
    "type(price)"
   ]
  },
  {
   "cell_type": "markdown",
   "id": "97b4791e",
   "metadata": {},
   "source": [
    "Q.9 Create a variable named name and assign your full name to it as a string. How would you print the \n",
    "value of this variable"
   ]
  },
  {
   "cell_type": "code",
   "execution_count": 41,
   "id": "2b5e0f5c",
   "metadata": {},
   "outputs": [],
   "source": [
    "name = \"Rushikesh Devidas Bhamare\""
   ]
  },
  {
   "cell_type": "code",
   "execution_count": 42,
   "id": "5428abbd",
   "metadata": {},
   "outputs": [
    {
     "data": {
      "text/plain": [
       "'Rushikesh Devidas Bhamare'"
      ]
     },
     "execution_count": 42,
     "metadata": {},
     "output_type": "execute_result"
    }
   ],
   "source": [
    "name"
   ]
  },
  {
   "cell_type": "code",
   "execution_count": 43,
   "id": "515d9ae0",
   "metadata": {},
   "outputs": [
    {
     "data": {
      "text/plain": [
       "str"
      ]
     },
     "execution_count": 43,
     "metadata": {},
     "output_type": "execute_result"
    }
   ],
   "source": [
    "type(name)"
   ]
  },
  {
   "cell_type": "markdown",
   "id": "62f10b59",
   "metadata": {},
   "source": [
    " Q10. Given the string \"Hello, World!\", extract the substring \"World\""
   ]
  },
  {
   "cell_type": "code",
   "execution_count": 45,
   "id": "ecb70a83",
   "metadata": {},
   "outputs": [],
   "source": [
    "a = \"Hello World\""
   ]
  },
  {
   "cell_type": "code",
   "execution_count": 48,
   "id": "9086d17e",
   "metadata": {},
   "outputs": [],
   "source": [
    "b =a[6:11]"
   ]
  },
  {
   "cell_type": "code",
   "execution_count": 49,
   "id": "29d4e668",
   "metadata": {},
   "outputs": [
    {
     "data": {
      "text/plain": [
       "'World'"
      ]
     },
     "execution_count": 49,
     "metadata": {},
     "output_type": "execute_result"
    }
   ],
   "source": [
    "b"
   ]
  },
  {
   "cell_type": "markdown",
   "id": "a156ec32",
   "metadata": {},
   "source": [
    "Q11. Create a variable named \"is_student\" and assign it a boolean value indicating whether you are \n",
    "currently a student or not"
   ]
  },
  {
   "cell_type": "code",
   "execution_count": 50,
   "id": "509bd6d1",
   "metadata": {},
   "outputs": [],
   "source": [
    "is_student = True"
   ]
  },
  {
   "cell_type": "code",
   "execution_count": 51,
   "id": "c2d85a38",
   "metadata": {},
   "outputs": [
    {
     "data": {
      "text/plain": [
       "True"
      ]
     },
     "execution_count": 51,
     "metadata": {},
     "output_type": "execute_result"
    }
   ],
   "source": [
    "is_student"
   ]
  },
  {
   "cell_type": "code",
   "execution_count": null,
   "id": "99e23cdf",
   "metadata": {},
   "outputs": [],
   "source": []
  }
 ],
 "metadata": {
  "kernelspec": {
   "display_name": "Python 3 (ipykernel)",
   "language": "python",
   "name": "python3"
  },
  "language_info": {
   "codemirror_mode": {
    "name": "ipython",
    "version": 3
   },
   "file_extension": ".py",
   "mimetype": "text/x-python",
   "name": "python",
   "nbconvert_exporter": "python",
   "pygments_lexer": "ipython3",
   "version": "3.10.9"
  }
 },
 "nbformat": 4,
 "nbformat_minor": 5
}
