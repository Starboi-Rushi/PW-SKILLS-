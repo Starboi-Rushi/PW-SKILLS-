{
 "cells": [
  {
   "cell_type": "markdown",
   "id": "2122500d",
   "metadata": {},
   "source": [
    "**Q1. What is a database? Differentiate between SQL and NoSQL databases.**"
   ]
  },
  {
   "cell_type": "markdown",
   "id": "848cd159",
   "metadata": {},
   "source": [
    "A database is a collection of data that is organized in a way that allows for efficient storage, retrieval, and manipulation of the data. There are two main types of databases: SQL (relational) and NoSQL (non-relational or distributed). The main differences between SQL and NoSQL databases are:\n",
    "\n",
    "\n",
    "SQL databases:\n",
    "Are primarily called Relational Databases (RDBMS).\n",
    "Are table-based, meaning that data is stored in tables with columns and rows.\n",
    "Follow ACID properties (Atomicity, Consistency, Isolation, and Durability).\n",
    "Are vertically scalable, meaning that more resources (CPU, RAM, etc.) can be added to a single server to increase its data load.\n",
    "Are better for multi-row transactions and applications that require a predefined schema.\n",
    "\n",
    "\n",
    "\n",
    "NoSQL databases:\n",
    "Are primarily called non-relational or distributed databases.\n",
    "Can be document-based, key-value pairs, graph databases, or wide-column stores.\n",
    "Do not follow a rigid schema but instead have more flexible structures to accommodate their data types.\n",
    "Are horizontally scalable, meaning that more servers can be added to increase their data load.\n",
    "Are better for unstructured and semi-structured data like documents or JSON.\n",
    "In summary, SQL databases are better suited for structured data with a predefined schema, while NoSQL databases are better suited for unstructured and semi-structured data. The choice between SQL and NoSQL databases depends on the specific needs of the application."
   ]
  },
  {
   "cell_type": "markdown",
   "id": "7601e7cf",
   "metadata": {},
   "source": [
    "**Q2: What is DDL? Explain why CREATE, DROP, ALTER, and TRUNCATE are used with an example.**"
   ]
  },
  {
   "cell_type": "markdown",
   "id": "50be7a37",
   "metadata": {},
   "source": [
    "DDL stands for Data Definition Language in the context of database management systems. It is a subset of SQL (Structured Query Language) used to define and manage the structure or schema of a database. DDL statements are responsible for creating, altering, and deleting database objects such as tables, indexes, and constraints.\n",
    "\n",
    "Here are explanations and examples of how CREATE, DROP, ALTER, and TRUNCATE are used in DDL:"
   ]
  },
  {
   "cell_type": "code",
   "execution_count": null,
   "id": "1c1ab280",
   "metadata": {},
   "outputs": [],
   "source": [
    "#Create table\n",
    "'''\n",
    "CREATE TABLE Customers (\n",
    "    CustomerID INT PRIMARY KEY,\n",
    "    Name VARCHAR(50),\n",
    "    \n",
    "    Email VARCHAR(100)\n",
    ");'''"
   ]
  },
  {
   "cell_type": "code",
   "execution_count": null,
   "id": "56714c84",
   "metadata": {},
   "outputs": [],
   "source": [
    "#Drop table\n",
    "'''\n",
    "DROP TABLE Customers;\n",
    "'''"
   ]
  },
  {
   "cell_type": "code",
   "execution_count": null,
   "id": "e7f44002",
   "metadata": {},
   "outputs": [],
   "source": [
    "# Alter table \n",
    "'''\n",
    "ALTER TABLE customer\n",
    "ADD phone_number VARCHAR(20);\n",
    "'''"
   ]
  },
  {
   "cell_type": "code",
   "execution_count": null,
   "id": "ccd2775c",
   "metadata": {},
   "outputs": [],
   "source": [
    "#Truncate table\n",
    "'''\n",
    "TRUNCATE TABLE Customers;\n",
    "'''"
   ]
  },
  {
   "cell_type": "markdown",
   "id": "b189ec77",
   "metadata": {},
   "source": [
    "**Q3. What is DML? Explain INSERT, UPDATE, and DELETE with an example.**"
   ]
  },
  {
   "cell_type": "markdown",
   "id": "514e85df",
   "metadata": {},
   "source": [
    "DML stands for Data Manipulation Language in the context of database management systems. It is a subset of SQL (Structured Query Language) used to interact with and manipulate data within a database. DML statements are responsible for inserting, updating, and deleting records in database tables.\n",
    "\n",
    "Here are explanations and examples of how INSERT, UPDATE, and DELETE are used in DML:"
   ]
  },
  {
   "cell_type": "code",
   "execution_count": null,
   "id": "8cfd9d16",
   "metadata": {},
   "outputs": [],
   "source": [
    "#Insert Table\n",
    "'''\n",
    "INSERT INTO Customers (CustomerID, Name, Email)\n",
    "VALUES (1, 'John Smith', 'john@example.com');\n",
    "'''"
   ]
  },
  {
   "cell_type": "code",
   "execution_count": null,
   "id": "bc7575e6",
   "metadata": {},
   "outputs": [],
   "source": [
    "#Update table\n",
    "'''\n",
    "UPDATE Customers\n",
    "SET Email = 'newemail@example.com'\n",
    "WHERE CustomerID = 1;\n",
    "'''"
   ]
  },
  {
   "cell_type": "code",
   "execution_count": null,
   "id": "6d38d535",
   "metadata": {},
   "outputs": [],
   "source": [
    "# Delete table\n",
    "'''\n",
    "DELETE FROM Customers\n",
    "WHERE CustomerID = 1;\n",
    "'''"
   ]
  },
  {
   "cell_type": "markdown",
   "id": "3589910d",
   "metadata": {},
   "source": [
    "**Q4. What is DQL? Explain SELECT with an example.**"
   ]
  },
  {
   "cell_type": "markdown",
   "id": "332570df",
   "metadata": {},
   "source": [
    "DQL stands for Data Query Language in the context of database management systems. It is a subset of SQL (Structured Query Language) used to retrieve and query data from a database. DQL is primarily concerned with selecting, filtering, and retrieving data from one or more database tables.\n",
    "\n",
    "The most fundamental DQL statement is SELECT, which is used to retrieve data from one or more tables in a database. Here's an explanation of how SELECT works with an example:"
   ]
  },
  {
   "cell_type": "code",
   "execution_count": null,
   "id": "8d4ab396",
   "metadata": {},
   "outputs": [],
   "source": [
    "'''\n",
    "SELECT column1, column2, ...\n",
    "FROM table_name\n",
    "WHERE condition;\n",
    "'''"
   ]
  },
  {
   "cell_type": "code",
   "execution_count": null,
   "id": "b8b575bf",
   "metadata": {},
   "outputs": [],
   "source": [
    "'''\n",
    "SELECT *\n",
    "FROM Customers;\n",
    "'''"
   ]
  },
  {
   "cell_type": "code",
   "execution_count": null,
   "id": "0dc66546",
   "metadata": {},
   "outputs": [],
   "source": [
    "'''\n",
    "SELECT Name, Email\n",
    "FROM Customers\n",
    "WHERE Age < 30;\n",
    "'''"
   ]
  },
  {
   "cell_type": "markdown",
   "id": "dec40979",
   "metadata": {},
   "source": [
    "**Q5. Explain Primary Key and Foreign Key.**"
   ]
  },
  {
   "cell_type": "markdown",
   "id": "e6742378",
   "metadata": {},
   "source": [
    "Primary Key (PK):\n",
    "A primary key is a field (or a set of fields) in a database table that uniquely identifies each row or record in that table. It serves as a unique identifier for the table, and no two rows can have the same value in the primary key column(s). Primary keys are used to enforce data integrity and ensure that there are no duplicate records in a table.\n",
    "\n",
    "Key characteristics of a primary key:\n",
    "\n",
    "Uniqueness: Each value in the primary key column(s) must be unique within the table.\n",
    "\n",
    "Not Null: A primary key column cannot contain null values because nulls are not considered unique.\n",
    "\n",
    "Indexed: Primary keys are automatically indexed by the database system to improve query performance.\n",
    "\n",
    "Immutable: The values in a primary key should not change over time, as they are used to identify and relate records."
   ]
  },
  {
   "cell_type": "markdown",
   "id": "2ca5ccb4",
   "metadata": {},
   "source": [
    "Foreign Key (FK):\n",
    "A foreign key is a field (or a set of fields) in one table that establishes a link or relationship with the primary key of another table. It is used to maintain referential integrity, which means that it ensures that the relationships between tables are valid and consistent.\n",
    "\n",
    "Key characteristics of a foreign key:\n",
    "\n",
    "References: A foreign key references the primary key of another table, indicating that there is a relationship between the two tables.\n",
    "\n",
    "Enforcement: It enforces referential integrity by preventing actions that would violate the relationship, such as deleting a parent record if it has dependent child records.\n",
    "\n",
    "Optional: A foreign key can contain null values, indicating that the relationship is optional. If it's not null, it must match a valid primary key value in the referenced table."
   ]
  },
  {
   "cell_type": "markdown",
   "id": "bbbd5ae0",
   "metadata": {},
   "source": [
    "**Q6. Write a python code to connect MySQL to python. Explain the cursor() and execute() method.**"
   ]
  },
  {
   "cell_type": "markdown",
   "id": "351efbfb",
   "metadata": {},
   "source": [
    "**NOTE:-- Hey i have postgreSQL so i connected postgreSQL instead of MySql in my local**"
   ]
  },
  {
   "cell_type": "code",
   "execution_count": 15,
   "id": "a9cba7be",
   "metadata": {},
   "outputs": [
    {
     "name": "stdout",
     "output_type": "stream",
     "text": [
      "Requirement already satisfied: psycopg2 in c:\\users\\bhama\\anaconda3\\lib\\site-packages (2.9.7)\n",
      "Note: you may need to restart the kernel to use updated packages.\n"
     ]
    }
   ],
   "source": [
    "pip install psycopg2\n"
   ]
  },
  {
   "cell_type": "code",
   "execution_count": null,
   "id": "90e056e7",
   "metadata": {},
   "outputs": [],
   "source": [
    "import psycopg2\n",
    "\n",
    "# Database connection parameters\n",
    "db_params = {\n",
    "    'dbname': 'testdb',\n",
    "    'user': 'root',\n",
    "    'password': 'Rushi@0610',\n",
    "    'host': 'localhost',  # or your PostgreSQL server host\n",
    "    'port': '5432'       # or your PostgreSQL server port\n",
    "}\n",
    "\n",
    "# Establish a connection to the database\n",
    "conn = psycopg2.connect(**db_params)\n",
    "\n",
    "# Create a cursor object\n",
    "cursor = conn.cursor()\n"
   ]
  },
  {
   "cell_type": "markdown",
   "id": "e63f590e",
   "metadata": {},
   "source": [
    "**Q7. Give the order of execution of SQL clauses in an SQL query.**"
   ]
  },
  {
   "cell_type": "markdown",
   "id": "3bf684f3",
   "metadata": {},
   "source": [
    "In SQL, the order of execution of SQL clauses in an SQL query is typically as follows:\n",
    "\n",
    "1. **FROM**: The `FROM` clause specifies the tables from which you are retrieving data. It is the first clause to be evaluated, and it identifies the source tables for the query.\n",
    "\n",
    "2. **WHERE**: The `WHERE` clause is used to filter the rows from the tables specified in the `FROM` clause. It is evaluated after the `FROM` clause, and it selects only those rows that meet the specified conditions.\n",
    "\n",
    "3. **GROUP BY**: If you are using the `GROUP BY` clause, it is evaluated after the `WHERE` clause. The `GROUP BY` clause groups the selected rows into sets based on one or more columns. Aggregation functions, such as `SUM`, `COUNT`, `AVG`, etc., are often used in conjunction with `GROUP BY` to summarize data within each group.\n",
    "\n",
    "4. **HAVING**: The `HAVING` clause is similar to the `WHERE` clause but is applied to the grouped results produced by the `GROUP BY` clause. It filters the grouped results based on conditions.\n",
    "\n",
    "5. **SELECT**: The `SELECT` clause specifies which columns you want to retrieve from the tables. It operates on the rows that have passed through the previous clauses (e.g., `FROM`, `WHERE`, `GROUP BY`, `HAVING`), and it determines the final set of columns that will be returned in the query result.\n",
    "\n",
    "6. **ORDER BY**: The `ORDER BY` clause is used to sort the rows in the result set based on one or more columns. It operates on the result set produced by the previous clauses and arranges the rows in the specified order.\n",
    "\n",
    "7. **LIMIT/OFFSET**: The `LIMIT` and `OFFSET` clauses, if used, restrict the number of rows returned by the query and control pagination. These clauses are typically applied after the `ORDER BY` clause.\n",
    "\n",
    "8. **UNION/INTERSECT/EXCEPT**: If your query involves set operations like `UNION`, `INTERSECT`, or `EXCEPT`, these operations are applied after the previous clauses and combine the results of multiple queries.\n",
    "\n",
    "9. **ALL/ANY/SOME**: If you are using comparison operators like `ALL`, `ANY`, or `SOME`, they are evaluated after the previous clauses. These operators are used in conjunction with subqueries to compare a value to a set of values.\n",
    "\n"
   ]
  },
  {
   "cell_type": "code",
   "execution_count": null,
   "id": "cec37ce7",
   "metadata": {},
   "outputs": [],
   "source": []
  }
 ],
 "metadata": {
  "kernelspec": {
   "display_name": "Python 3 (ipykernel)",
   "language": "python",
   "name": "python3"
  },
  "language_info": {
   "codemirror_mode": {
    "name": "ipython",
    "version": 3
   },
   "file_extension": ".py",
   "mimetype": "text/x-python",
   "name": "python",
   "nbconvert_exporter": "python",
   "pygments_lexer": "ipython3",
   "version": "3.10.9"
  }
 },
 "nbformat": 4,
 "nbformat_minor": 5
}
