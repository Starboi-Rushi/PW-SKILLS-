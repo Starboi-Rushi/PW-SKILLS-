{
 "cells": [
  {
   "cell_type": "markdown",
   "id": "c303e044",
   "metadata": {},
   "source": [
    "**Q1. What is Abstraction in OOps? Explain with an example.**"
   ]
  },
  {
   "cell_type": "markdown",
   "id": "74d2cf55",
   "metadata": {},
   "source": [
    "Abstraction is one of the fundamental concepts in Object-Oriented Programming (OOP). It refers to the process of simplifying complex reality by modeling classes based on real-world entities and hiding the unnecessary details from the user. In other words, abstraction allows you to focus on the essential properties and behaviors of an object while ignoring the non-essential aspects.\n",
    "An abstract class is a class that cannot be instantiated on its own and is meant to be subclassed by other classes."
   ]
  },
  {
   "cell_type": "code",
   "execution_count": 8,
   "id": "d2656c25",
   "metadata": {},
   "outputs": [],
   "source": [
    "from abc import ABC, abstractmethod\n",
    "\n",
    "class Shape(ABC):  # Abstract class\n",
    "    def __init__(self, name):\n",
    "        self.name = name\n",
    "\n",
    "    @abstractmethod\n",
    "    def area(self):\n",
    "        pass\n",
    "\n",
    "class Circle(Shape):\n",
    "    def __init__(self, name, radius):\n",
    "        super().__init__(name)\n",
    "        self.radius = radius\n",
    "\n",
    "    def area(self):\n",
    "        return 3.14159 * self.radius * self.radius\n",
    "\n",
    "class Rectangle(Shape):\n",
    "    def __init__(self, name, width, height):\n",
    "        super().__init__(name)\n",
    "        self.width = width\n",
    "        self.height = height\n",
    "\n",
    "    def area(self):\n",
    "        return self.width * self.height\n"
   ]
  },
  {
   "cell_type": "code",
   "execution_count": 10,
   "id": "60e3c6c4",
   "metadata": {},
   "outputs": [],
   "source": [
    "circle = Circle(\"circle\",5)"
   ]
  },
  {
   "cell_type": "code",
   "execution_count": 12,
   "id": "e9d538be",
   "metadata": {},
   "outputs": [
    {
     "data": {
      "text/plain": [
       "78.53975"
      ]
     },
     "execution_count": 12,
     "metadata": {},
     "output_type": "execute_result"
    }
   ],
   "source": [
    "circle.area()"
   ]
  },
  {
   "cell_type": "code",
   "execution_count": 14,
   "id": "b452baf7",
   "metadata": {},
   "outputs": [
    {
     "data": {
      "text/plain": [
       "'circle'"
      ]
     },
     "execution_count": 14,
     "metadata": {},
     "output_type": "execute_result"
    }
   ],
   "source": [
    "circle.name"
   ]
  },
  {
   "cell_type": "code",
   "execution_count": 15,
   "id": "e0298589",
   "metadata": {},
   "outputs": [
    {
     "data": {
      "text/plain": [
       "5"
      ]
     },
     "execution_count": 15,
     "metadata": {},
     "output_type": "execute_result"
    }
   ],
   "source": [
    "circle.radius"
   ]
  },
  {
   "cell_type": "code",
   "execution_count": 16,
   "id": "01f33224",
   "metadata": {},
   "outputs": [],
   "source": [
    "rect=Rectangle(\"Rect\",5,8)"
   ]
  },
  {
   "cell_type": "code",
   "execution_count": 17,
   "id": "724e34b2",
   "metadata": {},
   "outputs": [
    {
     "data": {
      "text/plain": [
       "40"
      ]
     },
     "execution_count": 17,
     "metadata": {},
     "output_type": "execute_result"
    }
   ],
   "source": [
    "rect.area()"
   ]
  },
  {
   "cell_type": "code",
   "execution_count": 18,
   "id": "fc5cd928",
   "metadata": {},
   "outputs": [
    {
     "data": {
      "text/plain": [
       "8"
      ]
     },
     "execution_count": 18,
     "metadata": {},
     "output_type": "execute_result"
    }
   ],
   "source": [
    "rect.height"
   ]
  },
  {
   "cell_type": "code",
   "execution_count": 19,
   "id": "985d13e4",
   "metadata": {},
   "outputs": [
    {
     "data": {
      "text/plain": [
       "'Rect'"
      ]
     },
     "execution_count": 19,
     "metadata": {},
     "output_type": "execute_result"
    }
   ],
   "source": [
    "rect.name"
   ]
  },
  {
   "cell_type": "code",
   "execution_count": 20,
   "id": "afaac258",
   "metadata": {},
   "outputs": [
    {
     "data": {
      "text/plain": [
       "5"
      ]
     },
     "execution_count": 20,
     "metadata": {},
     "output_type": "execute_result"
    }
   ],
   "source": [
    "rect.width"
   ]
  },
  {
   "cell_type": "markdown",
   "id": "b961f020",
   "metadata": {},
   "source": [
    "**Q2. Differentiate between Abstraction and Encapsulation. Explain with an example.**"
   ]
  },
  {
   "cell_type": "markdown",
   "id": "b5321c25",
   "metadata": {},
   "source": [
    "**Abstraction:**\n",
    "\n",
    "Abstraction focuses on presenting only the essential attributes and behaviors of an object while hiding the unnecessary details.\n",
    "It provides a high-level view of an object, emphasizing what an object does rather than how it does it.\n",
    "Abstraction is achieved through the use of abstract classes, interfaces, and methods."
   ]
  },
  {
   "cell_type": "markdown",
   "id": "79d7ea64",
   "metadata": {},
   "source": [
    "**Encapsulation:**\n",
    "\n",
    "Encapsulation is the practice of bundling data (attributes) and methods (functions) that operate on the data into a single unit, called a class.\n",
    "It restricts direct access to some of an object's components and only exposes the necessary interfaces to interact with the object.\n",
    "Encapsulation helps in preventing unauthorized access to an object's internal state, ensuring data integrity and better control over the behavior of an object."
   ]
  },
  {
   "cell_type": "code",
   "execution_count": 29,
   "id": "2d12dc0f",
   "metadata": {},
   "outputs": [],
   "source": [
    "from abc import ABC, abstractmethod\n",
    "\n",
    "class Vehicle(ABC):\n",
    "    def __init__(self, brand, model):\n",
    "        self.brand = brand\n",
    "        self.model = model\n",
    "\n",
    "    @abstractmethod\n",
    "    def start_engine(self):\n",
    "        pass\n"
   ]
  },
  {
   "cell_type": "code",
   "execution_count": 30,
   "id": "a582b047",
   "metadata": {},
   "outputs": [],
   "source": [
    "\n",
    "# Encapsulation: Concrete Class\n",
    "class Car(Vehicle):\n",
    "    def __init__(self, brand, model, fuel_type):\n",
    "        super().__init__(brand, model)\n",
    "        self.__fuel_type = fuel_type  # Encapsulated attribute\n",
    "\n",
    "    def start_engine(self):\n",
    "        print(f\"{self.brand} {self.model} engine started.\")\n",
    "\n",
    "    def get_fuel_type(self):\n",
    "        return self.__fuel_type\n",
    "\n",
    "    def set_fuel_type(self, fuel_type):\n",
    "        self.__fuel_type = fuel_type\n"
   ]
  },
  {
   "cell_type": "code",
   "execution_count": 31,
   "id": "a5cd302c",
   "metadata": {},
   "outputs": [],
   "source": [
    "car = Car(\"Toyota\", \"Camry\", \"Gasoline\")"
   ]
  },
  {
   "cell_type": "code",
   "execution_count": 32,
   "id": "51f8b213",
   "metadata": {},
   "outputs": [],
   "source": [
    "car.set_fuel_type(\"Petrol\")"
   ]
  },
  {
   "cell_type": "code",
   "execution_count": 33,
   "id": "cdeda914",
   "metadata": {},
   "outputs": [
    {
     "data": {
      "text/plain": [
       "'Petrol'"
      ]
     },
     "execution_count": 33,
     "metadata": {},
     "output_type": "execute_result"
    }
   ],
   "source": [
    "car.get_fuel_type()"
   ]
  },
  {
   "cell_type": "code",
   "execution_count": 34,
   "id": "ed953c06",
   "metadata": {},
   "outputs": [
    {
     "name": "stdout",
     "output_type": "stream",
     "text": [
      "Toyota Camry engine started.\n"
     ]
    }
   ],
   "source": [
    "car.start_engine()"
   ]
  },
  {
   "cell_type": "markdown",
   "id": "de8a6fcb",
   "metadata": {},
   "source": [
    "**Q3. What is abc module in python? Why is it used?**"
   ]
  },
  {
   "cell_type": "markdown",
   "id": "39013c9f",
   "metadata": {},
   "source": [
    " The abc module stands for \"Abstract Base Classes.\" It provides the infrastructure to create abstract base classes, which are classes meant to be subclassed by other classes. Abstract base classes allow you to define a common interface and shared characteristics for a group of related classes while enforcing certain methods to be implemented in the subclasses."
   ]
  },
  {
   "cell_type": "markdown",
   "id": "7c98a4f7",
   "metadata": {},
   "source": [
    "Abstract Base Classes (ABCs): An abstract base class is a class that cannot be instantiated and is intended to be subclassed. It defines a set of methods (both abstract and concrete) that the subclasses should implement. Abstract methods are declared using the @abstractmethod decorator and must be overridden by the subclasses."
   ]
  },
  {
   "cell_type": "code",
   "execution_count": 85,
   "id": "d9d6bc0c",
   "metadata": {},
   "outputs": [],
   "source": [
    "from abc import ABC, abstractmethod\n",
    "\n",
    "class Container(ABC):\n",
    "    def __init__(self):\n",
    "        self.items = []\n",
    "\n",
    "    @abstractmethod\n",
    "    def add(self, item):\n",
    "        pass\n",
    "\n",
    "    @abstractmethod\n",
    "    def remove(self, item):\n",
    "        pass\n",
    "\n",
    "class ListContainer(Container):\n",
    "    def add(self, item):\n",
    "        self.items.append(item)\n",
    "\n",
    "    def remove(self, item):\n",
    "        self.items.remove(item)\n"
   ]
  },
  {
   "cell_type": "code",
   "execution_count": 66,
   "id": "e19bbf53",
   "metadata": {},
   "outputs": [],
   "source": [
    "lc = ListContainer()"
   ]
  },
  {
   "cell_type": "code",
   "execution_count": 67,
   "id": "d5b5334e",
   "metadata": {},
   "outputs": [],
   "source": [
    "lc.add(6)"
   ]
  },
  {
   "cell_type": "code",
   "execution_count": 68,
   "id": "47a33e88",
   "metadata": {},
   "outputs": [
    {
     "data": {
      "text/plain": [
       "[6]"
      ]
     },
     "execution_count": 68,
     "metadata": {},
     "output_type": "execute_result"
    }
   ],
   "source": [
    "lc.items"
   ]
  },
  {
   "cell_type": "code",
   "execution_count": 69,
   "id": "2c909d00",
   "metadata": {},
   "outputs": [
    {
     "name": "stdout",
     "output_type": "stream",
     "text": [
      "List Container Items: [6, 10]\n"
     ]
    }
   ],
   "source": [
    "lc.add(5)\n",
    "lc.add(10)\n",
    "lc.remove(5)\n",
    "print(\"List Container Items:\", lc.items)"
   ]
  },
  {
   "cell_type": "markdown",
   "id": "946c4f76",
   "metadata": {},
   "source": [
    "**Q4. How can we achieve data abstraction?**"
   ]
  },
  {
   "cell_type": "markdown",
   "id": "8237a2cc",
   "metadata": {},
   "source": [
    "Data abstraction can be achieved in programming through the use of classes and objects. The primary goal of data abstraction is to present a simplified view of data and hide the complex implementation details from the user. This is typically done by defining classes that encapsulate data and provide methods to interact with that data, while keeping the internal representation hidden.\n",
    "\n",
    "Here's how you can achieve data abstraction in Python:\n",
    "\n",
    "Create a Class: Define a class that represents the abstraction you want to achieve. This class should encapsulate the data and behavior related to the abstraction.\n",
    "\n",
    "Use Access Modifiers: In Python, there are no strict access modifiers like in some other programming languages, but you can use naming conventions to indicate the level of visibility of attributes and methods. Prefix attributes you want to keep private with a single underscore (e.g., _data) to indicate that they are intended to be internal.\n",
    "\n",
    "Provide Public Methods: Create public methods that allow users to interact with the data in a controlled manner. These methods should encapsulate the logic for manipulating the data while hiding the internal implementation.\n",
    "\n",
    "Hide Implementation Details: Ensure that users of your class are not directly accessing or modifying the internal attributes. Encourage them to use the provided methods instead."
   ]
  },
  {
   "cell_type": "code",
   "execution_count": 87,
   "id": "ac421675",
   "metadata": {},
   "outputs": [
    {
     "name": "stdout",
     "output_type": "stream",
     "text": [
      "Deposited 500. New balance: 1500\n",
      "Withdrew 200. New balance: 1300\n",
      "Current balance: 1300\n"
     ]
    }
   ],
   "source": [
    "class BankAccount:\n",
    "    def __init__(self, account_number, balance):\n",
    "        self._account_number = account_number  # Encapsulated attribute\n",
    "        self._balance = balance\n",
    "\n",
    "    def deposit(self, amount):\n",
    "        if amount > 0:\n",
    "            self._balance += amount\n",
    "            print(f\"Deposited {amount}. New balance: {self._balance}\")\n",
    "        else:\n",
    "            print(\"Invalid deposit amount.\")\n",
    "\n",
    "    def withdraw(self, amount):\n",
    "        if 0 < amount <= self._balance:\n",
    "            self._balance -= amount\n",
    "            print(f\"Withdrew {amount}. New balance: {self._balance}\")\n",
    "        else:\n",
    "            print(\"Insufficient funds or invalid withdrawal amount.\")\n",
    "\n",
    "    def get_balance(self):\n",
    "        return self._balance\n",
    "\n",
    "# Using the class\n",
    "account = BankAccount(\"123456\", 1000)\n",
    "account.deposit(500)\n",
    "account.withdraw(200)\n",
    "print(\"Current balance:\", account.get_balance())\n"
   ]
  },
  {
   "cell_type": "markdown",
   "id": "5efe8389",
   "metadata": {},
   "source": [
    "**Q5. Can we create an instance of an abstract class? Explain your answer.**"
   ]
  },
  {
   "cell_type": "markdown",
   "id": "0200d8c8",
   "metadata": {},
   "source": [
    "No, you cannot create an instance of an abstract class in most programming languages, including Python. An abstract class is a class that is meant to be subclassed and serves as a blueprint for other classes. It contains one or more abstract methods, which are methods without implementation in the abstract class itself. The purpose of these methods is to define a common interface that subclasses must implement."
   ]
  },
  {
   "cell_type": "markdown",
   "id": "5c713906",
   "metadata": {},
   "source": [
    "In Python, if you try to create an instance of an abstract class that has abstract methods using the abc module, you will get a TypeError indicating that you cannot instantiate abstract classes directly."
   ]
  },
  {
   "cell_type": "code",
   "execution_count": null,
   "id": "e0b42866",
   "metadata": {},
   "outputs": [],
   "source": []
  }
 ],
 "metadata": {
  "kernelspec": {
   "display_name": "Python 3 (ipykernel)",
   "language": "python",
   "name": "python3"
  },
  "language_info": {
   "codemirror_mode": {
    "name": "ipython",
    "version": 3
   },
   "file_extension": ".py",
   "mimetype": "text/x-python",
   "name": "python",
   "nbconvert_exporter": "python",
   "pygments_lexer": "ipython3",
   "version": "3.10.9"
  }
 },
 "nbformat": 4,
 "nbformat_minor": 5
}
