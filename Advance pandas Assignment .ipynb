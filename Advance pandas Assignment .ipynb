{
 "cells": [
  {
   "cell_type": "markdown",
   "id": "31ffc4cf",
   "metadata": {},
   "source": [
    "<a id=\"1\"></a>\n",
    "\n",
    "# <p style=\"padding: 10px; background-color: orange; margin: 10px; color: #000000; font-family: newtimeroman; font-size: 100%; text-align: center; border-radius: 10px; overflow: hidden; font-weight: 50;\">Advance Pandas Assignment </p>\n"
   ]
  },
  {
   "cell_type": "markdown",
   "id": "80dd2d73",
   "metadata": {},
   "source": [
    "<a id=\"1\"></a>\n",
    "# <p style=\"padding: 10px; background-color: yellow; margin: 5px; color: #000000; font-family: newtimeroman; font-size: 60%; text-align: right; border-radius: 5px; overflow: hidden; font-weight: 50;\">RUSHI BHAMARE</p>\n"
   ]
  },
  {
   "cell_type": "markdown",
   "id": "ccf5ec8a",
   "metadata": {},
   "source": [
    "## Q1. List any five functions of the pandas library with execution."
   ]
  },
  {
   "cell_type": "code",
   "execution_count": 1,
   "id": "2b389a1f",
   "metadata": {},
   "outputs": [],
   "source": [
    "import pandas as pd"
   ]
  },
  {
   "cell_type": "markdown",
   "id": "cd713fd0",
   "metadata": {},
   "source": [
    "**1. read_csv()**: Used to read data from a CSV file into a pandas DataFrame."
   ]
  },
  {
   "cell_type": "code",
   "execution_count": 2,
   "id": "ef4a15cd",
   "metadata": {},
   "outputs": [
    {
     "name": "stdout",
     "output_type": "stream",
     "text": [
      "    Index  Organization Id                     Name  \\\n",
      "0       1  FAB0d41d5b5d22c              Ferrell LLC   \n",
      "1       2  6A7EdDEA9FaDC52  Mckinney, Riley and Day   \n",
      "2       3  0bFED1ADAE4bcC1               Hester Ltd   \n",
      "3       4  2bFC1Be8a4ce42f           Holder-Sellers   \n",
      "4       5  9eE8A6a4Eb96C24              Mayer Group   \n",
      "..    ...              ...                      ...   \n",
      "95     96  0a0bfFbBbB8eC7c             Holmes Group   \n",
      "96     97  BA6Cd9Dae2Efd62                 Good Ltd   \n",
      "97     98  E7df80C60Abd7f9        Clements-Espinoza   \n",
      "98     99  AFc285dbE2fEd24               Mendez Inc   \n",
      "99    100  e9eB5A60Cef8354           Watkins-Kaiser   \n",
      "\n",
      "                           Website                      Country  \\\n",
      "0               https://price.net/             Papua New Guinea   \n",
      "1   http://www.hall-buchanan.info/                      Finland   \n",
      "2        http://sullivan-reed.com/                        China   \n",
      "3              https://becker.com/                 Turkmenistan   \n",
      "4           http://www.brewer.com/                    Mauritius   \n",
      "..                             ...                          ...   \n",
      "95           https://mcdowell.org/                     Ethiopia   \n",
      "96               http://duffy.com/                     Anguilla   \n",
      "97         http://www.flowers.net/  Falkland Islands (Malvinas)   \n",
      "98          https://www.burke.net/              Kyrgyz Republic   \n",
      "99         http://www.herring.com/                         Togo   \n",
      "\n",
      "                                       Description  Founded  \\\n",
      "0              Horizontal empowering knowledgebase     1990   \n",
      "1              User-centric system-worthy leverage     2015   \n",
      "2                   Switchable scalable moratorium     1971   \n",
      "3   De-engineered systemic artificial intelligence     2004   \n",
      "4               Synchronized needs-based challenge     1991   \n",
      "..                                             ...      ...   \n",
      "95          Right-sized zero tolerance focus group     1975   \n",
      "96         Reverse-engineered composite moratorium     1971   \n",
      "97                         Progressive modular hub     1991   \n",
      "98                 User-friendly exuding migration     1993   \n",
      "99                   Synergistic background access     2009   \n",
      "\n",
      "                       Industry  Number of employees  \n",
      "0                      Plastics                 3498  \n",
      "1   Glass / Ceramics / Concrete                 4952  \n",
      "2                 Public Safety                 5287  \n",
      "3                    Automotive                  921  \n",
      "4                Transportation                 7870  \n",
      "..                          ...                  ...  \n",
      "95                  Photography                 2988  \n",
      "96            Consumer Services                 4292  \n",
      "97              Broadcast Media                  236  \n",
      "98         Education Management                  339  \n",
      "99           Financial Services                 2785  \n",
      "\n",
      "[100 rows x 9 columns]\n"
     ]
    }
   ],
   "source": [
    "df = pd.read_csv('https://media.githubusercontent.com/media/datablist/sample-csv-files/main/files/organizations/organizations-100.csv')\n",
    "print(df)"
   ]
  },
  {
   "cell_type": "markdown",
   "id": "11b90638",
   "metadata": {},
   "source": [
    "**2. head()**: Displays the first few rows (default is 5) of a DataFrame to quickly inspect the data."
   ]
  },
  {
   "cell_type": "code",
   "execution_count": 3,
   "id": "f3ad8c68",
   "metadata": {},
   "outputs": [
    {
     "data": {
      "text/html": [
       "<div>\n",
       "<style scoped>\n",
       "    .dataframe tbody tr th:only-of-type {\n",
       "        vertical-align: middle;\n",
       "    }\n",
       "\n",
       "    .dataframe tbody tr th {\n",
       "        vertical-align: top;\n",
       "    }\n",
       "\n",
       "    .dataframe thead th {\n",
       "        text-align: right;\n",
       "    }\n",
       "</style>\n",
       "<table border=\"1\" class=\"dataframe\">\n",
       "  <thead>\n",
       "    <tr style=\"text-align: right;\">\n",
       "      <th></th>\n",
       "      <th>Index</th>\n",
       "      <th>Organization Id</th>\n",
       "      <th>Name</th>\n",
       "      <th>Website</th>\n",
       "      <th>Country</th>\n",
       "      <th>Description</th>\n",
       "      <th>Founded</th>\n",
       "      <th>Industry</th>\n",
       "      <th>Number of employees</th>\n",
       "    </tr>\n",
       "  </thead>\n",
       "  <tbody>\n",
       "    <tr>\n",
       "      <th>0</th>\n",
       "      <td>1</td>\n",
       "      <td>FAB0d41d5b5d22c</td>\n",
       "      <td>Ferrell LLC</td>\n",
       "      <td>https://price.net/</td>\n",
       "      <td>Papua New Guinea</td>\n",
       "      <td>Horizontal empowering knowledgebase</td>\n",
       "      <td>1990</td>\n",
       "      <td>Plastics</td>\n",
       "      <td>3498</td>\n",
       "    </tr>\n",
       "    <tr>\n",
       "      <th>1</th>\n",
       "      <td>2</td>\n",
       "      <td>6A7EdDEA9FaDC52</td>\n",
       "      <td>Mckinney, Riley and Day</td>\n",
       "      <td>http://www.hall-buchanan.info/</td>\n",
       "      <td>Finland</td>\n",
       "      <td>User-centric system-worthy leverage</td>\n",
       "      <td>2015</td>\n",
       "      <td>Glass / Ceramics / Concrete</td>\n",
       "      <td>4952</td>\n",
       "    </tr>\n",
       "    <tr>\n",
       "      <th>2</th>\n",
       "      <td>3</td>\n",
       "      <td>0bFED1ADAE4bcC1</td>\n",
       "      <td>Hester Ltd</td>\n",
       "      <td>http://sullivan-reed.com/</td>\n",
       "      <td>China</td>\n",
       "      <td>Switchable scalable moratorium</td>\n",
       "      <td>1971</td>\n",
       "      <td>Public Safety</td>\n",
       "      <td>5287</td>\n",
       "    </tr>\n",
       "  </tbody>\n",
       "</table>\n",
       "</div>"
      ],
      "text/plain": [
       "   Index  Organization Id                     Name  \\\n",
       "0      1  FAB0d41d5b5d22c              Ferrell LLC   \n",
       "1      2  6A7EdDEA9FaDC52  Mckinney, Riley and Day   \n",
       "2      3  0bFED1ADAE4bcC1               Hester Ltd   \n",
       "\n",
       "                          Website           Country  \\\n",
       "0              https://price.net/  Papua New Guinea   \n",
       "1  http://www.hall-buchanan.info/           Finland   \n",
       "2       http://sullivan-reed.com/             China   \n",
       "\n",
       "                           Description  Founded                     Industry  \\\n",
       "0  Horizontal empowering knowledgebase     1990                     Plastics   \n",
       "1  User-centric system-worthy leverage     2015  Glass / Ceramics / Concrete   \n",
       "2       Switchable scalable moratorium     1971                Public Safety   \n",
       "\n",
       "   Number of employees  \n",
       "0                 3498  \n",
       "1                 4952  \n",
       "2                 5287  "
      ]
     },
     "execution_count": 3,
     "metadata": {},
     "output_type": "execute_result"
    }
   ],
   "source": [
    "df.head(3)"
   ]
  },
  {
   "cell_type": "markdown",
   "id": "1393b125",
   "metadata": {},
   "source": [
    "**3. describe()**: Provides summary statistics of numerical columns in the DataFrame."
   ]
  },
  {
   "cell_type": "code",
   "execution_count": 4,
   "id": "f8d2dc5b",
   "metadata": {},
   "outputs": [
    {
     "data": {
      "text/html": [
       "<div>\n",
       "<style scoped>\n",
       "    .dataframe tbody tr th:only-of-type {\n",
       "        vertical-align: middle;\n",
       "    }\n",
       "\n",
       "    .dataframe tbody tr th {\n",
       "        vertical-align: top;\n",
       "    }\n",
       "\n",
       "    .dataframe thead th {\n",
       "        text-align: right;\n",
       "    }\n",
       "</style>\n",
       "<table border=\"1\" class=\"dataframe\">\n",
       "  <thead>\n",
       "    <tr style=\"text-align: right;\">\n",
       "      <th></th>\n",
       "      <th>Index</th>\n",
       "      <th>Founded</th>\n",
       "      <th>Number of employees</th>\n",
       "    </tr>\n",
       "  </thead>\n",
       "  <tbody>\n",
       "    <tr>\n",
       "      <th>count</th>\n",
       "      <td>100.000000</td>\n",
       "      <td>100.000000</td>\n",
       "      <td>100.000000</td>\n",
       "    </tr>\n",
       "    <tr>\n",
       "      <th>mean</th>\n",
       "      <td>50.500000</td>\n",
       "      <td>1995.410000</td>\n",
       "      <td>4964.860000</td>\n",
       "    </tr>\n",
       "    <tr>\n",
       "      <th>std</th>\n",
       "      <td>29.011492</td>\n",
       "      <td>15.744228</td>\n",
       "      <td>2850.859799</td>\n",
       "    </tr>\n",
       "    <tr>\n",
       "      <th>min</th>\n",
       "      <td>1.000000</td>\n",
       "      <td>1970.000000</td>\n",
       "      <td>236.000000</td>\n",
       "    </tr>\n",
       "    <tr>\n",
       "      <th>25%</th>\n",
       "      <td>25.750000</td>\n",
       "      <td>1983.500000</td>\n",
       "      <td>2741.250000</td>\n",
       "    </tr>\n",
       "    <tr>\n",
       "      <th>50%</th>\n",
       "      <td>50.500000</td>\n",
       "      <td>1995.000000</td>\n",
       "      <td>4941.500000</td>\n",
       "    </tr>\n",
       "    <tr>\n",
       "      <th>75%</th>\n",
       "      <td>75.250000</td>\n",
       "      <td>2010.250000</td>\n",
       "      <td>7558.000000</td>\n",
       "    </tr>\n",
       "    <tr>\n",
       "      <th>max</th>\n",
       "      <td>100.000000</td>\n",
       "      <td>2021.000000</td>\n",
       "      <td>9995.000000</td>\n",
       "    </tr>\n",
       "  </tbody>\n",
       "</table>\n",
       "</div>"
      ],
      "text/plain": [
       "            Index      Founded  Number of employees\n",
       "count  100.000000   100.000000           100.000000\n",
       "mean    50.500000  1995.410000          4964.860000\n",
       "std     29.011492    15.744228          2850.859799\n",
       "min      1.000000  1970.000000           236.000000\n",
       "25%     25.750000  1983.500000          2741.250000\n",
       "50%     50.500000  1995.000000          4941.500000\n",
       "75%     75.250000  2010.250000          7558.000000\n",
       "max    100.000000  2021.000000          9995.000000"
      ]
     },
     "execution_count": 4,
     "metadata": {},
     "output_type": "execute_result"
    }
   ],
   "source": [
    "df.describe()"
   ]
  },
  {
   "cell_type": "markdown",
   "id": "2522387e",
   "metadata": {},
   "source": [
    "**4. groupby()**: Used for grouping and aggregating data based on one or more columns."
   ]
  },
  {
   "cell_type": "code",
   "execution_count": 5,
   "id": "1c8a2f1b",
   "metadata": {},
   "outputs": [
    {
     "name": "stdout",
     "output_type": "stream",
     "text": [
      "Name\n",
      "Arroyo Inc                       9067.0\n",
      "Ayala LLC                        7664.0\n",
      "Baker, Mccann and Macdonald      1638.0\n",
      "Bartlett-Arroyo                  3987.0\n",
      "Beasley, Greene and Mahoney       869.0\n",
      "                                  ...  \n",
      "Walls LLC                        1678.0\n",
      "Walton-Barnett                   1746.0\n",
      "Watkins-Kaiser                   2785.0\n",
      "Weiss and Sons                   5984.0\n",
      "Wilkinson, Charles and Arroyo     602.0\n",
      "Name: Number of employees, Length: 100, dtype: float64\n"
     ]
    }
   ],
   "source": [
    "grouped = df.groupby('Name')['Number of employees'].mean()\n",
    "print(grouped)\n"
   ]
  },
  {
   "cell_type": "markdown",
   "id": "8dbc1d94",
   "metadata": {},
   "source": [
    "**5. drop()**: Used to remove specified rows or columns from a DataFrame."
   ]
  },
  {
   "cell_type": "code",
   "execution_count": 6,
   "id": "19e27180",
   "metadata": {},
   "outputs": [],
   "source": [
    "# Drop Website"
   ]
  },
  {
   "cell_type": "code",
   "execution_count": 7,
   "id": "04817a2c",
   "metadata": {},
   "outputs": [],
   "source": [
    "drop_web = df.drop('Website',axis = 1)"
   ]
  },
  {
   "cell_type": "code",
   "execution_count": 8,
   "id": "8e9f7ca2",
   "metadata": {},
   "outputs": [
    {
     "data": {
      "text/html": [
       "<div>\n",
       "<style scoped>\n",
       "    .dataframe tbody tr th:only-of-type {\n",
       "        vertical-align: middle;\n",
       "    }\n",
       "\n",
       "    .dataframe tbody tr th {\n",
       "        vertical-align: top;\n",
       "    }\n",
       "\n",
       "    .dataframe thead th {\n",
       "        text-align: right;\n",
       "    }\n",
       "</style>\n",
       "<table border=\"1\" class=\"dataframe\">\n",
       "  <thead>\n",
       "    <tr style=\"text-align: right;\">\n",
       "      <th></th>\n",
       "      <th>Index</th>\n",
       "      <th>Organization Id</th>\n",
       "      <th>Name</th>\n",
       "      <th>Country</th>\n",
       "      <th>Description</th>\n",
       "      <th>Founded</th>\n",
       "      <th>Industry</th>\n",
       "      <th>Number of employees</th>\n",
       "    </tr>\n",
       "  </thead>\n",
       "  <tbody>\n",
       "    <tr>\n",
       "      <th>0</th>\n",
       "      <td>1</td>\n",
       "      <td>FAB0d41d5b5d22c</td>\n",
       "      <td>Ferrell LLC</td>\n",
       "      <td>Papua New Guinea</td>\n",
       "      <td>Horizontal empowering knowledgebase</td>\n",
       "      <td>1990</td>\n",
       "      <td>Plastics</td>\n",
       "      <td>3498</td>\n",
       "    </tr>\n",
       "    <tr>\n",
       "      <th>1</th>\n",
       "      <td>2</td>\n",
       "      <td>6A7EdDEA9FaDC52</td>\n",
       "      <td>Mckinney, Riley and Day</td>\n",
       "      <td>Finland</td>\n",
       "      <td>User-centric system-worthy leverage</td>\n",
       "      <td>2015</td>\n",
       "      <td>Glass / Ceramics / Concrete</td>\n",
       "      <td>4952</td>\n",
       "    </tr>\n",
       "    <tr>\n",
       "      <th>2</th>\n",
       "      <td>3</td>\n",
       "      <td>0bFED1ADAE4bcC1</td>\n",
       "      <td>Hester Ltd</td>\n",
       "      <td>China</td>\n",
       "      <td>Switchable scalable moratorium</td>\n",
       "      <td>1971</td>\n",
       "      <td>Public Safety</td>\n",
       "      <td>5287</td>\n",
       "    </tr>\n",
       "    <tr>\n",
       "      <th>3</th>\n",
       "      <td>4</td>\n",
       "      <td>2bFC1Be8a4ce42f</td>\n",
       "      <td>Holder-Sellers</td>\n",
       "      <td>Turkmenistan</td>\n",
       "      <td>De-engineered systemic artificial intelligence</td>\n",
       "      <td>2004</td>\n",
       "      <td>Automotive</td>\n",
       "      <td>921</td>\n",
       "    </tr>\n",
       "    <tr>\n",
       "      <th>4</th>\n",
       "      <td>5</td>\n",
       "      <td>9eE8A6a4Eb96C24</td>\n",
       "      <td>Mayer Group</td>\n",
       "      <td>Mauritius</td>\n",
       "      <td>Synchronized needs-based challenge</td>\n",
       "      <td>1991</td>\n",
       "      <td>Transportation</td>\n",
       "      <td>7870</td>\n",
       "    </tr>\n",
       "    <tr>\n",
       "      <th>...</th>\n",
       "      <td>...</td>\n",
       "      <td>...</td>\n",
       "      <td>...</td>\n",
       "      <td>...</td>\n",
       "      <td>...</td>\n",
       "      <td>...</td>\n",
       "      <td>...</td>\n",
       "      <td>...</td>\n",
       "    </tr>\n",
       "    <tr>\n",
       "      <th>95</th>\n",
       "      <td>96</td>\n",
       "      <td>0a0bfFbBbB8eC7c</td>\n",
       "      <td>Holmes Group</td>\n",
       "      <td>Ethiopia</td>\n",
       "      <td>Right-sized zero tolerance focus group</td>\n",
       "      <td>1975</td>\n",
       "      <td>Photography</td>\n",
       "      <td>2988</td>\n",
       "    </tr>\n",
       "    <tr>\n",
       "      <th>96</th>\n",
       "      <td>97</td>\n",
       "      <td>BA6Cd9Dae2Efd62</td>\n",
       "      <td>Good Ltd</td>\n",
       "      <td>Anguilla</td>\n",
       "      <td>Reverse-engineered composite moratorium</td>\n",
       "      <td>1971</td>\n",
       "      <td>Consumer Services</td>\n",
       "      <td>4292</td>\n",
       "    </tr>\n",
       "    <tr>\n",
       "      <th>97</th>\n",
       "      <td>98</td>\n",
       "      <td>E7df80C60Abd7f9</td>\n",
       "      <td>Clements-Espinoza</td>\n",
       "      <td>Falkland Islands (Malvinas)</td>\n",
       "      <td>Progressive modular hub</td>\n",
       "      <td>1991</td>\n",
       "      <td>Broadcast Media</td>\n",
       "      <td>236</td>\n",
       "    </tr>\n",
       "    <tr>\n",
       "      <th>98</th>\n",
       "      <td>99</td>\n",
       "      <td>AFc285dbE2fEd24</td>\n",
       "      <td>Mendez Inc</td>\n",
       "      <td>Kyrgyz Republic</td>\n",
       "      <td>User-friendly exuding migration</td>\n",
       "      <td>1993</td>\n",
       "      <td>Education Management</td>\n",
       "      <td>339</td>\n",
       "    </tr>\n",
       "    <tr>\n",
       "      <th>99</th>\n",
       "      <td>100</td>\n",
       "      <td>e9eB5A60Cef8354</td>\n",
       "      <td>Watkins-Kaiser</td>\n",
       "      <td>Togo</td>\n",
       "      <td>Synergistic background access</td>\n",
       "      <td>2009</td>\n",
       "      <td>Financial Services</td>\n",
       "      <td>2785</td>\n",
       "    </tr>\n",
       "  </tbody>\n",
       "</table>\n",
       "<p>100 rows × 8 columns</p>\n",
       "</div>"
      ],
      "text/plain": [
       "    Index  Organization Id                     Name  \\\n",
       "0       1  FAB0d41d5b5d22c              Ferrell LLC   \n",
       "1       2  6A7EdDEA9FaDC52  Mckinney, Riley and Day   \n",
       "2       3  0bFED1ADAE4bcC1               Hester Ltd   \n",
       "3       4  2bFC1Be8a4ce42f           Holder-Sellers   \n",
       "4       5  9eE8A6a4Eb96C24              Mayer Group   \n",
       "..    ...              ...                      ...   \n",
       "95     96  0a0bfFbBbB8eC7c             Holmes Group   \n",
       "96     97  BA6Cd9Dae2Efd62                 Good Ltd   \n",
       "97     98  E7df80C60Abd7f9        Clements-Espinoza   \n",
       "98     99  AFc285dbE2fEd24               Mendez Inc   \n",
       "99    100  e9eB5A60Cef8354           Watkins-Kaiser   \n",
       "\n",
       "                        Country  \\\n",
       "0              Papua New Guinea   \n",
       "1                       Finland   \n",
       "2                         China   \n",
       "3                  Turkmenistan   \n",
       "4                     Mauritius   \n",
       "..                          ...   \n",
       "95                     Ethiopia   \n",
       "96                     Anguilla   \n",
       "97  Falkland Islands (Malvinas)   \n",
       "98              Kyrgyz Republic   \n",
       "99                         Togo   \n",
       "\n",
       "                                       Description  Founded  \\\n",
       "0              Horizontal empowering knowledgebase     1990   \n",
       "1              User-centric system-worthy leverage     2015   \n",
       "2                   Switchable scalable moratorium     1971   \n",
       "3   De-engineered systemic artificial intelligence     2004   \n",
       "4               Synchronized needs-based challenge     1991   \n",
       "..                                             ...      ...   \n",
       "95          Right-sized zero tolerance focus group     1975   \n",
       "96         Reverse-engineered composite moratorium     1971   \n",
       "97                         Progressive modular hub     1991   \n",
       "98                 User-friendly exuding migration     1993   \n",
       "99                   Synergistic background access     2009   \n",
       "\n",
       "                       Industry  Number of employees  \n",
       "0                      Plastics                 3498  \n",
       "1   Glass / Ceramics / Concrete                 4952  \n",
       "2                 Public Safety                 5287  \n",
       "3                    Automotive                  921  \n",
       "4                Transportation                 7870  \n",
       "..                          ...                  ...  \n",
       "95                  Photography                 2988  \n",
       "96            Consumer Services                 4292  \n",
       "97              Broadcast Media                  236  \n",
       "98         Education Management                  339  \n",
       "99           Financial Services                 2785  \n",
       "\n",
       "[100 rows x 8 columns]"
      ]
     },
     "execution_count": 8,
     "metadata": {},
     "output_type": "execute_result"
    }
   ],
   "source": [
    "drop_web"
   ]
  },
  {
   "cell_type": "markdown",
   "id": "7d65ef6c",
   "metadata": {},
   "source": [
    "****"
   ]
  },
  {
   "cell_type": "markdown",
   "id": "868385f2",
   "metadata": {},
   "source": [
    "## Q2. Given a Pandas DataFrame df with columns 'A', 'B', and 'C', write a Python function to re-index the DataFrame with a new index that starts from 1 and increments by 2 for each row."
   ]
  },
  {
   "cell_type": "code",
   "execution_count": 9,
   "id": "cc715e4b",
   "metadata": {},
   "outputs": [
    {
     "name": "stdout",
     "output_type": "stream",
     "text": [
      "    A   B   C\n",
      "1  10  40  70\n",
      "3  20  50  80\n",
      "5  30  60  90\n"
     ]
    }
   ],
   "source": [
    "import pandas as pd\n",
    "\n",
    "def reindex_with_custom_increment(df):\n",
    "    # Reset the existing index\n",
    "    df = df.reset_index(drop=True)\n",
    "    \n",
    "    # Create a new index starting from 1 and incrementing by 2\n",
    "    new_index = pd.RangeIndex(start=1, stop=2 * len(df), step=2)\n",
    "    \n",
    "    df.index = new_index\n",
    "    \n",
    "    return df\n",
    "\n",
    "# Example DataFrame 'df' with columns 'A', 'B', and 'C'\n",
    "data = {'A': [10, 20, 30],\n",
    "        'B': [40, 50, 60],\n",
    "        'C': [70, 80, 90]}\n",
    "\n",
    "df = pd.DataFrame(data)\n",
    "\n",
    "new_df = reindex_with_custom_increment(df)\n",
    "\n",
    "print(new_df)\n"
   ]
  },
  {
   "cell_type": "markdown",
   "id": "bb50192d",
   "metadata": {},
   "source": [
    "****"
   ]
  },
  {
   "cell_type": "markdown",
   "id": "9c514ac2",
   "metadata": {},
   "source": [
    "## Q3. You have a Pandas DataFrame df with a column named 'Values'. Write a Python function that iterates over the DataFrame and calculates the sum of the first three values in the 'Values' column. The function should print the sum to the console."
   ]
  },
  {
   "cell_type": "code",
   "execution_count": 10,
   "id": "4a7a020b",
   "metadata": {},
   "outputs": [
    {
     "name": "stdout",
     "output_type": "stream",
     "text": [
      "Sum of the first three values: 60\n"
     ]
    }
   ],
   "source": [
    "import pandas as pd\n",
    "\n",
    "def calculate_sum_of_first_three_values(df):\n",
    "    \n",
    "    if 'Values' in df.columns:\n",
    "       \n",
    "        first_three_values_sum = df['Values'].iloc[:3].sum()\n",
    "        \n",
    "        # Print the sum to the console\n",
    "        print(\"Sum of the first three values:\", first_three_values_sum)\n",
    "    else:\n",
    "        print(\"DataFrame does not have a 'Values' column.\")\n",
    "\n",
    "# Example DataFrame 'df' with a 'Values' column\n",
    "data = {'Values': [10, 20, 30, 40, 50]}\n",
    "\n",
    "df = pd.DataFrame(data)\n",
    "\n",
    "calculate_sum_of_first_three_values(df)\n"
   ]
  },
  {
   "cell_type": "markdown",
   "id": "3e4b1f5b",
   "metadata": {},
   "source": [
    "*******"
   ]
  },
  {
   "cell_type": "markdown",
   "id": "beb686a3",
   "metadata": {},
   "source": [
    "## Q4. Given a Pandas DataFrame df with a column 'Text', write a Python function to create a new column 'Word_Count' that contains the number of words in each row of the 'Text' column."
   ]
  },
  {
   "cell_type": "code",
   "execution_count": 11,
   "id": "fd25fc48",
   "metadata": {},
   "outputs": [
    {
     "data": {
      "text/html": [
       "<div>\n",
       "<style scoped>\n",
       "    .dataframe tbody tr th:only-of-type {\n",
       "        vertical-align: middle;\n",
       "    }\n",
       "\n",
       "    .dataframe tbody tr th {\n",
       "        vertical-align: top;\n",
       "    }\n",
       "\n",
       "    .dataframe thead th {\n",
       "        text-align: right;\n",
       "    }\n",
       "</style>\n",
       "<table border=\"1\" class=\"dataframe\">\n",
       "  <thead>\n",
       "    <tr style=\"text-align: right;\">\n",
       "      <th></th>\n",
       "      <th>Text</th>\n",
       "      <th>Word_Count</th>\n",
       "    </tr>\n",
       "  </thead>\n",
       "  <tbody>\n",
       "    <tr>\n",
       "      <th>0</th>\n",
       "      <td>This is a sample sentence.</td>\n",
       "      <td>5</td>\n",
       "    </tr>\n",
       "    <tr>\n",
       "      <th>1</th>\n",
       "      <td>Let's do it now.</td>\n",
       "      <td>4</td>\n",
       "    </tr>\n",
       "    <tr>\n",
       "      <th>2</th>\n",
       "      <td>No more excuses.</td>\n",
       "      <td>3</td>\n",
       "    </tr>\n",
       "  </tbody>\n",
       "</table>\n",
       "</div>"
      ],
      "text/plain": [
       "                         Text  Word_Count\n",
       "0  This is a sample sentence.           5\n",
       "1            Let's do it now.           4\n",
       "2            No more excuses.           3"
      ]
     },
     "execution_count": 11,
     "metadata": {},
     "output_type": "execute_result"
    }
   ],
   "source": [
    "import pandas as pd\n",
    "\n",
    "def add_word_count_column(df):\n",
    "    # Create a new column 'Word_Count' by applying a lambda function to count words in each row\n",
    "    df['Word_Count'] = df['Text'].apply(lambda x: len(str(x).split()))\n",
    "    \n",
    "    return df\n",
    "\n",
    "data = {'Text': [\"This is a sample sentence.\", \"Let's do it now.\", \"No more excuses.\"]}\n",
    "df = pd.DataFrame(data)\n",
    "add_word_count_column(df)\n"
   ]
  },
  {
   "cell_type": "markdown",
   "id": "b9db68b5",
   "metadata": {},
   "source": [
    "****"
   ]
  },
  {
   "cell_type": "markdown",
   "id": "65c0ae58",
   "metadata": {},
   "source": [
    "## Q5. How are DataFrame.size() and DataFrame.shape() different?"
   ]
  },
  {
   "cell_type": "markdown",
   "id": "a6b270bf",
   "metadata": {},
   "source": [
    "#### DataFrame.shape:\n",
    "\n",
    "#### DataFrame.shape is an attribute that returns a tuple representing the dimensions of the DataFrame.\n",
    "#### It provides information about the number of rows and columns in the DataFrame.\n",
    "#### The tuple returned has two elements: (number_of_rows, number_of_columns).\n",
    "#### For example, if you have a DataFrame called df, you can use df.shape to get the dimensions like this:"
   ]
  },
  {
   "cell_type": "code",
   "execution_count": 17,
   "id": "dd892be7",
   "metadata": {},
   "outputs": [],
   "source": [
    "rows, columns = df.shape"
   ]
  },
  {
   "cell_type": "code",
   "execution_count": 18,
   "id": "26798257",
   "metadata": {},
   "outputs": [
    {
     "data": {
      "text/plain": [
       "(3, 2)"
      ]
     },
     "execution_count": 18,
     "metadata": {},
     "output_type": "execute_result"
    }
   ],
   "source": [
    "rows, columns"
   ]
  },
  {
   "cell_type": "markdown",
   "id": "fb303c7c",
   "metadata": {},
   "source": [
    "#### DataFrame.size:\n",
    "\n",
    "#### DataFrame.size is an attribute that returns the total number of elements in the DataFrame.\n",
    "#### It calculates the size by multiplying the number of rows by the number of columns.\n",
    "#### It represents the total number of cells in the DataFrame, including all the values and empty cells.\n",
    "#### For example, if you have a DataFrame called df, you can use df.size to get the total number of elements."
   ]
  },
  {
   "cell_type": "code",
   "execution_count": 19,
   "id": "d41732cf",
   "metadata": {},
   "outputs": [
    {
     "data": {
      "text/plain": [
       "6"
      ]
     },
     "execution_count": 19,
     "metadata": {},
     "output_type": "execute_result"
    }
   ],
   "source": [
    "df.size"
   ]
  },
  {
   "cell_type": "markdown",
   "id": "7087443a",
   "metadata": {},
   "source": [
    "****"
   ]
  },
  {
   "cell_type": "markdown",
   "id": "31aa54fb",
   "metadata": {},
   "source": [
    "## Q6. Which function of pandas do we use to read an excel file?"
   ]
  },
  {
   "cell_type": "markdown",
   "id": "39e5edc6",
   "metadata": {},
   "source": [
    "import pandas as pd\n",
    "\n",
    "df = pd.read_excel('your_excel_file.xlsx')"
   ]
  },
  {
   "cell_type": "code",
   "execution_count": 21,
   "id": "052a07e3",
   "metadata": {},
   "outputs": [],
   "source": [
    "import pandas as pd\n",
    "\n",
    "df = pd.read_excel('plant_data.xlsx')"
   ]
  },
  {
   "cell_type": "code",
   "execution_count": 22,
   "id": "5ace47c0",
   "metadata": {},
   "outputs": [
    {
     "data": {
      "text/html": [
       "<div>\n",
       "<style scoped>\n",
       "    .dataframe tbody tr th:only-of-type {\n",
       "        vertical-align: middle;\n",
       "    }\n",
       "\n",
       "    .dataframe tbody tr th {\n",
       "        vertical-align: top;\n",
       "    }\n",
       "\n",
       "    .dataframe thead th {\n",
       "        text-align: right;\n",
       "    }\n",
       "</style>\n",
       "<table border=\"1\" class=\"dataframe\">\n",
       "  <thead>\n",
       "    <tr style=\"text-align: right;\">\n",
       "      <th></th>\n",
       "      <th>Sr. No.</th>\n",
       "      <th>Plant</th>\n",
       "      <th>Plant Address</th>\n",
       "    </tr>\n",
       "  </thead>\n",
       "  <tbody>\n",
       "    <tr>\n",
       "      <th>0</th>\n",
       "      <td>1</td>\n",
       "      <td>Plant I</td>\n",
       "      <td>Plot No. 133, Sector-24, Faridabad-121005, Har...</td>\n",
       "    </tr>\n",
       "    <tr>\n",
       "      <th>1</th>\n",
       "      <td>2</td>\n",
       "      <td>Plant II</td>\n",
       "      <td>71-72, MIDC, Satpur, Nashik - 422007, Maharashtra</td>\n",
       "    </tr>\n",
       "    <tr>\n",
       "      <th>2</th>\n",
       "      <td>3</td>\n",
       "      <td>Plant III</td>\n",
       "      <td>Plot No. B-2, Survey No.1, Tata Motors Vendor ...</td>\n",
       "    </tr>\n",
       "    <tr>\n",
       "      <th>3</th>\n",
       "      <td>4</td>\n",
       "      <td>Plant IV</td>\n",
       "      <td>Plot No. 118, Sector-59, HSIIDC, Industrial Es...</td>\n",
       "    </tr>\n",
       "    <tr>\n",
       "      <th>4</th>\n",
       "      <td>5</td>\n",
       "      <td>Plant V</td>\n",
       "      <td>A-4, Industrial Estate, Kosi Kalan - 281403, D...</td>\n",
       "    </tr>\n",
       "    <tr>\n",
       "      <th>5</th>\n",
       "      <td>6</td>\n",
       "      <td>Plant VI</td>\n",
       "      <td>Plot No. 157-E, Sector-3, Pithampur Industrial...</td>\n",
       "    </tr>\n",
       "    <tr>\n",
       "      <th>6</th>\n",
       "      <td>7</td>\n",
       "      <td>Plant VII</td>\n",
       "      <td>Plot No. SP-891, Pathredi Industrial Area, Bhi...</td>\n",
       "    </tr>\n",
       "    <tr>\n",
       "      <th>7</th>\n",
       "      <td>8</td>\n",
       "      <td>Plant VIII</td>\n",
       "      <td>Plot No. 80, Sector-3, Pithampur industrial Ar...</td>\n",
       "    </tr>\n",
       "    <tr>\n",
       "      <th>8</th>\n",
       "      <td>9</td>\n",
       "      <td>Plant IX</td>\n",
       "      <td>C-1/2, MIDC, Chakan Telegaon road, Chakan, Pun...</td>\n",
       "    </tr>\n",
       "    <tr>\n",
       "      <th>9</th>\n",
       "      <td>10</td>\n",
       "      <td>Plant X</td>\n",
       "      <td>A-1/6, MVML Vendor Park, Chakan, Pune-410501, ...</td>\n",
       "    </tr>\n",
       "    <tr>\n",
       "      <th>10</th>\n",
       "      <td>11</td>\n",
       "      <td>Plant XI</td>\n",
       "      <td>Plot no 1, Ford Suppliers Park, S.P.Koil post,...</td>\n",
       "    </tr>\n",
       "    <tr>\n",
       "      <th>11</th>\n",
       "      <td>12</td>\n",
       "      <td>Plant XII</td>\n",
       "      <td>RNS 1, Renault- Nissan Suppliers Park, Orgadam...</td>\n",
       "    </tr>\n",
       "    <tr>\n",
       "      <th>12</th>\n",
       "      <td>13</td>\n",
       "      <td>Plant XIII</td>\n",
       "      <td>Plot No. AV-13, Ford Supplier Park, BOL, Indus...</td>\n",
       "    </tr>\n",
       "  </tbody>\n",
       "</table>\n",
       "</div>"
      ],
      "text/plain": [
       "    Sr. No.       Plant                                      Plant Address\n",
       "0         1     Plant I  Plot No. 133, Sector-24, Faridabad-121005, Har...\n",
       "1         2    Plant II  71-72, MIDC, Satpur, Nashik - 422007, Maharashtra\n",
       "2         3   Plant III  Plot No. B-2, Survey No.1, Tata Motors Vendor ...\n",
       "3         4    Plant IV  Plot No. 118, Sector-59, HSIIDC, Industrial Es...\n",
       "4         5     Plant V  A-4, Industrial Estate, Kosi Kalan - 281403, D...\n",
       "5         6    Plant VI  Plot No. 157-E, Sector-3, Pithampur Industrial...\n",
       "6         7   Plant VII  Plot No. SP-891, Pathredi Industrial Area, Bhi...\n",
       "7         8  Plant VIII  Plot No. 80, Sector-3, Pithampur industrial Ar...\n",
       "8         9    Plant IX  C-1/2, MIDC, Chakan Telegaon road, Chakan, Pun...\n",
       "9        10     Plant X  A-1/6, MVML Vendor Park, Chakan, Pune-410501, ...\n",
       "10       11    Plant XI  Plot no 1, Ford Suppliers Park, S.P.Koil post,...\n",
       "11       12   Plant XII  RNS 1, Renault- Nissan Suppliers Park, Orgadam...\n",
       "12       13  Plant XIII  Plot No. AV-13, Ford Supplier Park, BOL, Indus..."
      ]
     },
     "execution_count": 22,
     "metadata": {},
     "output_type": "execute_result"
    }
   ],
   "source": [
    "df"
   ]
  },
  {
   "cell_type": "markdown",
   "id": "6181e5d8",
   "metadata": {},
   "source": [
    "****"
   ]
  },
  {
   "cell_type": "markdown",
   "id": "01110d23",
   "metadata": {},
   "source": [
    "## Q7. You have a Pandas DataFrame df that contains a column named 'Email' that contains email addresses in the format 'username@domain.com'. Write a Python function that creates a new column 'Username' in df that contains only the username part of each email address."
   ]
  },
  {
   "cell_type": "code",
   "execution_count": 39,
   "id": "7728d4fa",
   "metadata": {},
   "outputs": [],
   "source": [
    "import pandas as pd\n",
    "\n",
    "\n",
    "data = {'Email': ['bhamarerushi@gmail.com', 'bhamareaksh@gmail.com', 'rahulp67@gmail.com','vaibh23@gmail.com','rahul233455@gmail.com']}\n",
    "df = pd.DataFrame(data)\n",
    "\n",
    "def extract_username(email):\n",
    "    return email.split('@')[0]\n",
    "\n",
    "df['Username'] = df['Email'].apply(extract_username)"
   ]
  },
  {
   "cell_type": "code",
   "execution_count": 40,
   "id": "8a9e7adb",
   "metadata": {},
   "outputs": [
    {
     "data": {
      "text/html": [
       "<div>\n",
       "<style scoped>\n",
       "    .dataframe tbody tr th:only-of-type {\n",
       "        vertical-align: middle;\n",
       "    }\n",
       "\n",
       "    .dataframe tbody tr th {\n",
       "        vertical-align: top;\n",
       "    }\n",
       "\n",
       "    .dataframe thead th {\n",
       "        text-align: right;\n",
       "    }\n",
       "</style>\n",
       "<table border=\"1\" class=\"dataframe\">\n",
       "  <thead>\n",
       "    <tr style=\"text-align: right;\">\n",
       "      <th></th>\n",
       "      <th>Email</th>\n",
       "      <th>Username</th>\n",
       "    </tr>\n",
       "  </thead>\n",
       "  <tbody>\n",
       "    <tr>\n",
       "      <th>0</th>\n",
       "      <td>bhamarerushi@gmail.com</td>\n",
       "      <td>bhamarerushi</td>\n",
       "    </tr>\n",
       "    <tr>\n",
       "      <th>1</th>\n",
       "      <td>bhamareaksh@gmail.com</td>\n",
       "      <td>bhamareaksh</td>\n",
       "    </tr>\n",
       "    <tr>\n",
       "      <th>2</th>\n",
       "      <td>rahulp67@gmail.com</td>\n",
       "      <td>rahulp67</td>\n",
       "    </tr>\n",
       "    <tr>\n",
       "      <th>3</th>\n",
       "      <td>vaibh23@gmail.com</td>\n",
       "      <td>vaibh23</td>\n",
       "    </tr>\n",
       "    <tr>\n",
       "      <th>4</th>\n",
       "      <td>rahul233455@gmail.com</td>\n",
       "      <td>rahul233455</td>\n",
       "    </tr>\n",
       "  </tbody>\n",
       "</table>\n",
       "</div>"
      ],
      "text/plain": [
       "                    Email      Username\n",
       "0  bhamarerushi@gmail.com  bhamarerushi\n",
       "1   bhamareaksh@gmail.com   bhamareaksh\n",
       "2      rahulp67@gmail.com      rahulp67\n",
       "3       vaibh23@gmail.com       vaibh23\n",
       "4   rahul233455@gmail.com   rahul233455"
      ]
     },
     "execution_count": 40,
     "metadata": {},
     "output_type": "execute_result"
    }
   ],
   "source": [
    "df"
   ]
  },
  {
   "cell_type": "markdown",
   "id": "75618611",
   "metadata": {},
   "source": [
    "## Q8. You have a Pandas DataFrame df with columns 'A', 'B', and 'C'. Write a Python function that selects all rows where the value in column 'A' is greater than 5 and the value in column 'B' is less than 10. The function should return a new DataFrame that contains only the selected rows."
   ]
  },
  {
   "cell_type": "code",
   "execution_count": 43,
   "id": "7effbe41",
   "metadata": {},
   "outputs": [],
   "source": [
    "import pandas as pd\n",
    "\n",
    "data = {'A': [3, 7, 2, 8, 6, 7, 8],\n",
    "        'B': [9, 5, 4, 3, 12, 13, 14],\n",
    "        'C': [15, 8, 7, 2, 10, 21, 13]}\n",
    "df = pd.DataFrame(data)\n",
    "\n",
    "def condition_1(df):\n",
    "    selected_rows = df[(df['A'] > 5) & (df['B'] < 10)]\n",
    "    return selected_rows\n",
    "\n",
    "select_rows = condition_1(df)"
   ]
  },
  {
   "cell_type": "code",
   "execution_count": 44,
   "id": "1a4954db",
   "metadata": {},
   "outputs": [
    {
     "data": {
      "text/html": [
       "<div>\n",
       "<style scoped>\n",
       "    .dataframe tbody tr th:only-of-type {\n",
       "        vertical-align: middle;\n",
       "    }\n",
       "\n",
       "    .dataframe tbody tr th {\n",
       "        vertical-align: top;\n",
       "    }\n",
       "\n",
       "    .dataframe thead th {\n",
       "        text-align: right;\n",
       "    }\n",
       "</style>\n",
       "<table border=\"1\" class=\"dataframe\">\n",
       "  <thead>\n",
       "    <tr style=\"text-align: right;\">\n",
       "      <th></th>\n",
       "      <th>A</th>\n",
       "      <th>B</th>\n",
       "      <th>C</th>\n",
       "    </tr>\n",
       "  </thead>\n",
       "  <tbody>\n",
       "    <tr>\n",
       "      <th>1</th>\n",
       "      <td>7</td>\n",
       "      <td>5</td>\n",
       "      <td>8</td>\n",
       "    </tr>\n",
       "    <tr>\n",
       "      <th>3</th>\n",
       "      <td>8</td>\n",
       "      <td>3</td>\n",
       "      <td>2</td>\n",
       "    </tr>\n",
       "  </tbody>\n",
       "</table>\n",
       "</div>"
      ],
      "text/plain": [
       "   A  B  C\n",
       "1  7  5  8\n",
       "3  8  3  2"
      ]
     },
     "execution_count": 44,
     "metadata": {},
     "output_type": "execute_result"
    }
   ],
   "source": [
    "select_rows"
   ]
  },
  {
   "cell_type": "markdown",
   "id": "ef516c8e",
   "metadata": {},
   "source": [
    "*****"
   ]
  },
  {
   "cell_type": "markdown",
   "id": "7bf20aef",
   "metadata": {},
   "source": [
    "## Q9. Given a Pandas DataFrame df with a column 'Values', write a Python function to calculate the mean, median, and standard deviation of the values in the 'Values' column."
   ]
  },
  {
   "cell_type": "code",
   "execution_count": 47,
   "id": "16ca3a19",
   "metadata": {},
   "outputs": [],
   "source": [
    "data = {'Values': [10, 15, 20, 25, 30, 34, 38, 43, 44, 50, 58, 61]}\n",
    "df = pd.DataFrame(data)\n",
    "\n",
    "# Function to calculate mean, median, and standard deviation\n",
    "def calculate_stats(df):\n",
    "    mean_value = df['Values'].mean()\n",
    "    median_value = df['Values'].median()\n",
    "    std_deviation = df['Values'].std()\n",
    "    \n",
    "    return mean_value, median_value, std_deviation"
   ]
  },
  {
   "cell_type": "code",
   "execution_count": 49,
   "id": "8fef7805",
   "metadata": {},
   "outputs": [],
   "source": [
    "mean, median, std_dev = calculate_stats(df)"
   ]
  },
  {
   "cell_type": "code",
   "execution_count": 50,
   "id": "2ac546d2",
   "metadata": {},
   "outputs": [
    {
     "data": {
      "text/plain": [
       "(35.666666666666664, 36.0, 16.389205612416383)"
      ]
     },
     "execution_count": 50,
     "metadata": {},
     "output_type": "execute_result"
    }
   ],
   "source": [
    "mean, median, std_dev"
   ]
  },
  {
   "cell_type": "code",
   "execution_count": 52,
   "id": "42cf4bbf",
   "metadata": {},
   "outputs": [
    {
     "name": "stdout",
     "output_type": "stream",
     "text": [
      "Mean: 35.666666666666664\n",
      "Median: 36.0\n",
      "Standard Deviation: 16.389205612416383\n"
     ]
    }
   ],
   "source": [
    "print(\"Mean:\", mean)\n",
    "print(\"Median:\", median)\n",
    "print(\"Standard Deviation:\", std_dev)"
   ]
  },
  {
   "cell_type": "markdown",
   "id": "fcb69a15",
   "metadata": {},
   "source": [
    "****"
   ]
  },
  {
   "cell_type": "markdown",
   "id": "e2565a78",
   "metadata": {},
   "source": [
    "## Q10. Given a Pandas DataFrame df with a column 'Sales' and a column 'Date', write a Python function to create a new column 'MovingAverage' that contains the moving average of the sales for the past 7 days for each row in the DataFrame. The moving average should be calculated using a window of size 7 and should include the current day."
   ]
  },
  {
   "cell_type": "code",
   "execution_count": 63,
   "id": "d67f2dbe",
   "metadata": {},
   "outputs": [],
   "source": [
    "import pandas as pd\n",
    "\n",
    "# Sample DataFrame\n",
    "data = {'Date': pd.date_range(start='2023-09-11', periods=10, freq='D'),\n",
    "        'Sales': [10, 15, 20, 25, 30, 35, 40, 45, 50, 55]}\n",
    "df = pd.DataFrame(data)\n",
    "\n",
    "# Function to calculate the moving average\n",
    "def calculate_moving_average(df, window_size=7):\n",
    "    df['MovingAverage'] = df['Sales'].rolling(window=window_size, min_periods=1).mean()\n",
    "    return df\n",
    "\n",
    "df = calculate_moving_average(df)"
   ]
  },
  {
   "cell_type": "code",
   "execution_count": 64,
   "id": "f1b2f011",
   "metadata": {},
   "outputs": [
    {
     "data": {
      "text/html": [
       "<div>\n",
       "<style scoped>\n",
       "    .dataframe tbody tr th:only-of-type {\n",
       "        vertical-align: middle;\n",
       "    }\n",
       "\n",
       "    .dataframe tbody tr th {\n",
       "        vertical-align: top;\n",
       "    }\n",
       "\n",
       "    .dataframe thead th {\n",
       "        text-align: right;\n",
       "    }\n",
       "</style>\n",
       "<table border=\"1\" class=\"dataframe\">\n",
       "  <thead>\n",
       "    <tr style=\"text-align: right;\">\n",
       "      <th></th>\n",
       "      <th>Date</th>\n",
       "      <th>Sales</th>\n",
       "      <th>MovingAverage</th>\n",
       "    </tr>\n",
       "  </thead>\n",
       "  <tbody>\n",
       "    <tr>\n",
       "      <th>0</th>\n",
       "      <td>2023-09-11</td>\n",
       "      <td>10</td>\n",
       "      <td>10.0</td>\n",
       "    </tr>\n",
       "    <tr>\n",
       "      <th>1</th>\n",
       "      <td>2023-09-12</td>\n",
       "      <td>15</td>\n",
       "      <td>12.5</td>\n",
       "    </tr>\n",
       "    <tr>\n",
       "      <th>2</th>\n",
       "      <td>2023-09-13</td>\n",
       "      <td>20</td>\n",
       "      <td>15.0</td>\n",
       "    </tr>\n",
       "    <tr>\n",
       "      <th>3</th>\n",
       "      <td>2023-09-14</td>\n",
       "      <td>25</td>\n",
       "      <td>17.5</td>\n",
       "    </tr>\n",
       "    <tr>\n",
       "      <th>4</th>\n",
       "      <td>2023-09-15</td>\n",
       "      <td>30</td>\n",
       "      <td>20.0</td>\n",
       "    </tr>\n",
       "    <tr>\n",
       "      <th>5</th>\n",
       "      <td>2023-09-16</td>\n",
       "      <td>35</td>\n",
       "      <td>22.5</td>\n",
       "    </tr>\n",
       "    <tr>\n",
       "      <th>6</th>\n",
       "      <td>2023-09-17</td>\n",
       "      <td>40</td>\n",
       "      <td>25.0</td>\n",
       "    </tr>\n",
       "    <tr>\n",
       "      <th>7</th>\n",
       "      <td>2023-09-18</td>\n",
       "      <td>45</td>\n",
       "      <td>30.0</td>\n",
       "    </tr>\n",
       "    <tr>\n",
       "      <th>8</th>\n",
       "      <td>2023-09-19</td>\n",
       "      <td>50</td>\n",
       "      <td>35.0</td>\n",
       "    </tr>\n",
       "    <tr>\n",
       "      <th>9</th>\n",
       "      <td>2023-09-20</td>\n",
       "      <td>55</td>\n",
       "      <td>40.0</td>\n",
       "    </tr>\n",
       "  </tbody>\n",
       "</table>\n",
       "</div>"
      ],
      "text/plain": [
       "        Date  Sales  MovingAverage\n",
       "0 2023-09-11     10           10.0\n",
       "1 2023-09-12     15           12.5\n",
       "2 2023-09-13     20           15.0\n",
       "3 2023-09-14     25           17.5\n",
       "4 2023-09-15     30           20.0\n",
       "5 2023-09-16     35           22.5\n",
       "6 2023-09-17     40           25.0\n",
       "7 2023-09-18     45           30.0\n",
       "8 2023-09-19     50           35.0\n",
       "9 2023-09-20     55           40.0"
      ]
     },
     "execution_count": 64,
     "metadata": {},
     "output_type": "execute_result"
    }
   ],
   "source": [
    "df"
   ]
  },
  {
   "cell_type": "markdown",
   "id": "4e26113b",
   "metadata": {},
   "source": [
    "*****"
   ]
  },
  {
   "cell_type": "markdown",
   "id": "38d83b1b",
   "metadata": {},
   "source": [
    "## Q11. You have a Pandas DataFrame df with a column 'Date'. Write a Python function that creates a new column 'Weekday' in the DataFrame. The 'Weekday' column should contain the weekday name (e.g. Monday, Tuesday) corresponding to each date in the 'Date' column."
   ]
  },
  {
   "cell_type": "code",
   "execution_count": 66,
   "id": "18f9008e",
   "metadata": {},
   "outputs": [],
   "source": [
    "import pandas as pd\n",
    "\n",
    "data = {'Date': pd.date_range(start='2023-09-11', periods=20, freq='D')}\n",
    "df = pd.DataFrame(data)\n",
    "\n",
    "def weekday_column(df):\n",
    "    df['Weekday'] = df['Date'].dt.strftime('%A')\n",
    "    return df\n",
    "\n",
    "# Call the function to create the 'Weekday' column\n",
    "df = weekday_column(df)"
   ]
  },
  {
   "cell_type": "code",
   "execution_count": 67,
   "id": "737915d5",
   "metadata": {},
   "outputs": [
    {
     "data": {
      "text/html": [
       "<div>\n",
       "<style scoped>\n",
       "    .dataframe tbody tr th:only-of-type {\n",
       "        vertical-align: middle;\n",
       "    }\n",
       "\n",
       "    .dataframe tbody tr th {\n",
       "        vertical-align: top;\n",
       "    }\n",
       "\n",
       "    .dataframe thead th {\n",
       "        text-align: right;\n",
       "    }\n",
       "</style>\n",
       "<table border=\"1\" class=\"dataframe\">\n",
       "  <thead>\n",
       "    <tr style=\"text-align: right;\">\n",
       "      <th></th>\n",
       "      <th>Date</th>\n",
       "      <th>Weekday</th>\n",
       "    </tr>\n",
       "  </thead>\n",
       "  <tbody>\n",
       "    <tr>\n",
       "      <th>0</th>\n",
       "      <td>2023-09-11</td>\n",
       "      <td>Monday</td>\n",
       "    </tr>\n",
       "    <tr>\n",
       "      <th>1</th>\n",
       "      <td>2023-09-12</td>\n",
       "      <td>Tuesday</td>\n",
       "    </tr>\n",
       "    <tr>\n",
       "      <th>2</th>\n",
       "      <td>2023-09-13</td>\n",
       "      <td>Wednesday</td>\n",
       "    </tr>\n",
       "    <tr>\n",
       "      <th>3</th>\n",
       "      <td>2023-09-14</td>\n",
       "      <td>Thursday</td>\n",
       "    </tr>\n",
       "    <tr>\n",
       "      <th>4</th>\n",
       "      <td>2023-09-15</td>\n",
       "      <td>Friday</td>\n",
       "    </tr>\n",
       "    <tr>\n",
       "      <th>5</th>\n",
       "      <td>2023-09-16</td>\n",
       "      <td>Saturday</td>\n",
       "    </tr>\n",
       "    <tr>\n",
       "      <th>6</th>\n",
       "      <td>2023-09-17</td>\n",
       "      <td>Sunday</td>\n",
       "    </tr>\n",
       "    <tr>\n",
       "      <th>7</th>\n",
       "      <td>2023-09-18</td>\n",
       "      <td>Monday</td>\n",
       "    </tr>\n",
       "    <tr>\n",
       "      <th>8</th>\n",
       "      <td>2023-09-19</td>\n",
       "      <td>Tuesday</td>\n",
       "    </tr>\n",
       "    <tr>\n",
       "      <th>9</th>\n",
       "      <td>2023-09-20</td>\n",
       "      <td>Wednesday</td>\n",
       "    </tr>\n",
       "    <tr>\n",
       "      <th>10</th>\n",
       "      <td>2023-09-21</td>\n",
       "      <td>Thursday</td>\n",
       "    </tr>\n",
       "    <tr>\n",
       "      <th>11</th>\n",
       "      <td>2023-09-22</td>\n",
       "      <td>Friday</td>\n",
       "    </tr>\n",
       "    <tr>\n",
       "      <th>12</th>\n",
       "      <td>2023-09-23</td>\n",
       "      <td>Saturday</td>\n",
       "    </tr>\n",
       "    <tr>\n",
       "      <th>13</th>\n",
       "      <td>2023-09-24</td>\n",
       "      <td>Sunday</td>\n",
       "    </tr>\n",
       "    <tr>\n",
       "      <th>14</th>\n",
       "      <td>2023-09-25</td>\n",
       "      <td>Monday</td>\n",
       "    </tr>\n",
       "    <tr>\n",
       "      <th>15</th>\n",
       "      <td>2023-09-26</td>\n",
       "      <td>Tuesday</td>\n",
       "    </tr>\n",
       "    <tr>\n",
       "      <th>16</th>\n",
       "      <td>2023-09-27</td>\n",
       "      <td>Wednesday</td>\n",
       "    </tr>\n",
       "    <tr>\n",
       "      <th>17</th>\n",
       "      <td>2023-09-28</td>\n",
       "      <td>Thursday</td>\n",
       "    </tr>\n",
       "    <tr>\n",
       "      <th>18</th>\n",
       "      <td>2023-09-29</td>\n",
       "      <td>Friday</td>\n",
       "    </tr>\n",
       "    <tr>\n",
       "      <th>19</th>\n",
       "      <td>2023-09-30</td>\n",
       "      <td>Saturday</td>\n",
       "    </tr>\n",
       "  </tbody>\n",
       "</table>\n",
       "</div>"
      ],
      "text/plain": [
       "         Date    Weekday\n",
       "0  2023-09-11     Monday\n",
       "1  2023-09-12    Tuesday\n",
       "2  2023-09-13  Wednesday\n",
       "3  2023-09-14   Thursday\n",
       "4  2023-09-15     Friday\n",
       "5  2023-09-16   Saturday\n",
       "6  2023-09-17     Sunday\n",
       "7  2023-09-18     Monday\n",
       "8  2023-09-19    Tuesday\n",
       "9  2023-09-20  Wednesday\n",
       "10 2023-09-21   Thursday\n",
       "11 2023-09-22     Friday\n",
       "12 2023-09-23   Saturday\n",
       "13 2023-09-24     Sunday\n",
       "14 2023-09-25     Monday\n",
       "15 2023-09-26    Tuesday\n",
       "16 2023-09-27  Wednesday\n",
       "17 2023-09-28   Thursday\n",
       "18 2023-09-29     Friday\n",
       "19 2023-09-30   Saturday"
      ]
     },
     "execution_count": 67,
     "metadata": {},
     "output_type": "execute_result"
    }
   ],
   "source": [
    "df"
   ]
  },
  {
   "cell_type": "markdown",
   "id": "07a09fc2",
   "metadata": {},
   "source": [
    "## Q12. Given a Pandas DataFrame df with a column 'Date' that contains timestamps, write a Python function to select all rows where the date is between '2023-01-01' and '2023-01-31'."
   ]
  },
  {
   "cell_type": "code",
   "execution_count": 71,
   "id": "b600ca81",
   "metadata": {},
   "outputs": [],
   "source": [
    "import pandas as pd\n",
    "\n",
    "#DataFrame\n",
    "data = {'Date': pd.date_range(start='2023-01-01', periods=50, freq='D')}\n",
    "df = pd.DataFrame(data)\n",
    "def select_rows_in_date_range(df, start_date, end_date):\n",
    "    mask = (df['Date'] >= start_date) & (df['Date'] <= end_date)\n",
    "    selected_rows = df[mask]\n",
    "    return selected_rows\n",
    "\n",
    "start_date = '2023-01-01'\n",
    "end_date = '2023-01-31'\n",
    "\n",
    "# Call the function\n",
    "selected_df = select_rows_in_date_range(df, start_date, end_date)"
   ]
  },
  {
   "cell_type": "code",
   "execution_count": 72,
   "id": "1bfb978e",
   "metadata": {},
   "outputs": [
    {
     "data": {
      "text/html": [
       "<div>\n",
       "<style scoped>\n",
       "    .dataframe tbody tr th:only-of-type {\n",
       "        vertical-align: middle;\n",
       "    }\n",
       "\n",
       "    .dataframe tbody tr th {\n",
       "        vertical-align: top;\n",
       "    }\n",
       "\n",
       "    .dataframe thead th {\n",
       "        text-align: right;\n",
       "    }\n",
       "</style>\n",
       "<table border=\"1\" class=\"dataframe\">\n",
       "  <thead>\n",
       "    <tr style=\"text-align: right;\">\n",
       "      <th></th>\n",
       "      <th>Date</th>\n",
       "    </tr>\n",
       "  </thead>\n",
       "  <tbody>\n",
       "    <tr>\n",
       "      <th>0</th>\n",
       "      <td>2023-01-01</td>\n",
       "    </tr>\n",
       "    <tr>\n",
       "      <th>1</th>\n",
       "      <td>2023-01-02</td>\n",
       "    </tr>\n",
       "    <tr>\n",
       "      <th>2</th>\n",
       "      <td>2023-01-03</td>\n",
       "    </tr>\n",
       "    <tr>\n",
       "      <th>3</th>\n",
       "      <td>2023-01-04</td>\n",
       "    </tr>\n",
       "    <tr>\n",
       "      <th>4</th>\n",
       "      <td>2023-01-05</td>\n",
       "    </tr>\n",
       "    <tr>\n",
       "      <th>5</th>\n",
       "      <td>2023-01-06</td>\n",
       "    </tr>\n",
       "    <tr>\n",
       "      <th>6</th>\n",
       "      <td>2023-01-07</td>\n",
       "    </tr>\n",
       "    <tr>\n",
       "      <th>7</th>\n",
       "      <td>2023-01-08</td>\n",
       "    </tr>\n",
       "    <tr>\n",
       "      <th>8</th>\n",
       "      <td>2023-01-09</td>\n",
       "    </tr>\n",
       "    <tr>\n",
       "      <th>9</th>\n",
       "      <td>2023-01-10</td>\n",
       "    </tr>\n",
       "    <tr>\n",
       "      <th>10</th>\n",
       "      <td>2023-01-11</td>\n",
       "    </tr>\n",
       "    <tr>\n",
       "      <th>11</th>\n",
       "      <td>2023-01-12</td>\n",
       "    </tr>\n",
       "    <tr>\n",
       "      <th>12</th>\n",
       "      <td>2023-01-13</td>\n",
       "    </tr>\n",
       "    <tr>\n",
       "      <th>13</th>\n",
       "      <td>2023-01-14</td>\n",
       "    </tr>\n",
       "    <tr>\n",
       "      <th>14</th>\n",
       "      <td>2023-01-15</td>\n",
       "    </tr>\n",
       "    <tr>\n",
       "      <th>15</th>\n",
       "      <td>2023-01-16</td>\n",
       "    </tr>\n",
       "    <tr>\n",
       "      <th>16</th>\n",
       "      <td>2023-01-17</td>\n",
       "    </tr>\n",
       "    <tr>\n",
       "      <th>17</th>\n",
       "      <td>2023-01-18</td>\n",
       "    </tr>\n",
       "    <tr>\n",
       "      <th>18</th>\n",
       "      <td>2023-01-19</td>\n",
       "    </tr>\n",
       "    <tr>\n",
       "      <th>19</th>\n",
       "      <td>2023-01-20</td>\n",
       "    </tr>\n",
       "    <tr>\n",
       "      <th>20</th>\n",
       "      <td>2023-01-21</td>\n",
       "    </tr>\n",
       "    <tr>\n",
       "      <th>21</th>\n",
       "      <td>2023-01-22</td>\n",
       "    </tr>\n",
       "    <tr>\n",
       "      <th>22</th>\n",
       "      <td>2023-01-23</td>\n",
       "    </tr>\n",
       "    <tr>\n",
       "      <th>23</th>\n",
       "      <td>2023-01-24</td>\n",
       "    </tr>\n",
       "    <tr>\n",
       "      <th>24</th>\n",
       "      <td>2023-01-25</td>\n",
       "    </tr>\n",
       "    <tr>\n",
       "      <th>25</th>\n",
       "      <td>2023-01-26</td>\n",
       "    </tr>\n",
       "    <tr>\n",
       "      <th>26</th>\n",
       "      <td>2023-01-27</td>\n",
       "    </tr>\n",
       "    <tr>\n",
       "      <th>27</th>\n",
       "      <td>2023-01-28</td>\n",
       "    </tr>\n",
       "    <tr>\n",
       "      <th>28</th>\n",
       "      <td>2023-01-29</td>\n",
       "    </tr>\n",
       "    <tr>\n",
       "      <th>29</th>\n",
       "      <td>2023-01-30</td>\n",
       "    </tr>\n",
       "    <tr>\n",
       "      <th>30</th>\n",
       "      <td>2023-01-31</td>\n",
       "    </tr>\n",
       "  </tbody>\n",
       "</table>\n",
       "</div>"
      ],
      "text/plain": [
       "         Date\n",
       "0  2023-01-01\n",
       "1  2023-01-02\n",
       "2  2023-01-03\n",
       "3  2023-01-04\n",
       "4  2023-01-05\n",
       "5  2023-01-06\n",
       "6  2023-01-07\n",
       "7  2023-01-08\n",
       "8  2023-01-09\n",
       "9  2023-01-10\n",
       "10 2023-01-11\n",
       "11 2023-01-12\n",
       "12 2023-01-13\n",
       "13 2023-01-14\n",
       "14 2023-01-15\n",
       "15 2023-01-16\n",
       "16 2023-01-17\n",
       "17 2023-01-18\n",
       "18 2023-01-19\n",
       "19 2023-01-20\n",
       "20 2023-01-21\n",
       "21 2023-01-22\n",
       "22 2023-01-23\n",
       "23 2023-01-24\n",
       "24 2023-01-25\n",
       "25 2023-01-26\n",
       "26 2023-01-27\n",
       "27 2023-01-28\n",
       "28 2023-01-29\n",
       "29 2023-01-30\n",
       "30 2023-01-31"
      ]
     },
     "execution_count": 72,
     "metadata": {},
     "output_type": "execute_result"
    }
   ],
   "source": [
    "selected_df"
   ]
  },
  {
   "cell_type": "markdown",
   "id": "d70aac22",
   "metadata": {},
   "source": [
    "*****"
   ]
  },
  {
   "cell_type": "markdown",
   "id": "9a51107f",
   "metadata": {},
   "source": [
    "## Q13. To use the basic functions of pandas, what is the first and foremost necessary library that needs to be imported?"
   ]
  },
  {
   "cell_type": "code",
   "execution_count": 74,
   "id": "73a9b6d8",
   "metadata": {},
   "outputs": [],
   "source": [
    "import pandas as pd\n"
   ]
  },
  {
   "cell_type": "markdown",
   "id": "bca6797c",
   "metadata": {},
   "source": [
    "#### By convention, Pandas is commonly imported as pd, which allows you to use Pandas functions and classes with the pd prefix in your code. This is the standard practice when working with Pandas in Python."
   ]
  },
  {
   "cell_type": "markdown",
   "id": "8ed6422b",
   "metadata": {},
   "source": [
    "<a id=\"1\"></a>\n",
    "\n",
    "# <p style=\"padding: 10px; background-color: orange; margin: 10px; color: #000000; font-family: newtimeroman; font-size: 100%; text-align: center; border-radius: 10px; overflow: hidden; font-weight: 50;\">Thank You </p>\n"
   ]
  }
 ],
 "metadata": {
  "kernelspec": {
   "display_name": "Python 3 (ipykernel)",
   "language": "python",
   "name": "python3"
  },
  "language_info": {
   "codemirror_mode": {
    "name": "ipython",
    "version": 3
   },
   "file_extension": ".py",
   "mimetype": "text/x-python",
   "name": "python",
   "nbconvert_exporter": "python",
   "pygments_lexer": "ipython3",
   "version": "3.10.9"
  }
 },
 "nbformat": 4,
 "nbformat_minor": 5
}
