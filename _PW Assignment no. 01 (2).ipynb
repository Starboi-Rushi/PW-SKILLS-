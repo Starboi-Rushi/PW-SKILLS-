{
 "cells": [
  {
   "cell_type": "markdown",
   "id": "b9a4f751",
   "metadata": {},
   "source": [
    "Q1. Create one variable containing following type of data:\n",
    "(i) string\n",
    "(ii) list\n",
    "(iii) float\n",
    "(iv) tuple"
   ]
  },
  {
   "cell_type": "code",
   "execution_count": 2,
   "id": "9b940511",
   "metadata": {},
   "outputs": [],
   "source": [
    "a =\"Rushi\"                 # string"
   ]
  },
  {
   "cell_type": "code",
   "execution_count": 3,
   "id": "f02c6f93",
   "metadata": {},
   "outputs": [
    {
     "data": {
      "text/plain": [
       "'Rushi'"
      ]
     },
     "execution_count": 3,
     "metadata": {},
     "output_type": "execute_result"
    }
   ],
   "source": [
    "a"
   ]
  },
  {
   "cell_type": "code",
   "execution_count": 4,
   "id": "91bde784",
   "metadata": {},
   "outputs": [
    {
     "data": {
      "text/plain": [
       "str"
      ]
     },
     "execution_count": 4,
     "metadata": {},
     "output_type": "execute_result"
    }
   ],
   "source": [
    "type(a)"
   ]
  },
  {
   "cell_type": "code",
   "execution_count": 6,
   "id": "e4e2b17e",
   "metadata": {},
   "outputs": [],
   "source": [
    "l=[1,2,3,4,4.5,\"rushi\",True]                 #list"
   ]
  },
  {
   "cell_type": "code",
   "execution_count": 7,
   "id": "cba487ec",
   "metadata": {},
   "outputs": [
    {
     "data": {
      "text/plain": [
       "[1, 2, 3, 4, 4.5, 'rushi', True]"
      ]
     },
     "execution_count": 7,
     "metadata": {},
     "output_type": "execute_result"
    }
   ],
   "source": [
    "l"
   ]
  },
  {
   "cell_type": "code",
   "execution_count": 8,
   "id": "e000e04a",
   "metadata": {},
   "outputs": [
    {
     "data": {
      "text/plain": [
       "list"
      ]
     },
     "execution_count": 8,
     "metadata": {},
     "output_type": "execute_result"
    }
   ],
   "source": [
    "type(l)"
   ]
  },
  {
   "cell_type": "code",
   "execution_count": 9,
   "id": "4594634d",
   "metadata": {},
   "outputs": [],
   "source": [
    "b = 4.6"
   ]
  },
  {
   "cell_type": "code",
   "execution_count": 10,
   "id": "c17ded64",
   "metadata": {},
   "outputs": [
    {
     "data": {
      "text/plain": [
       "4.6"
      ]
     },
     "execution_count": 10,
     "metadata": {},
     "output_type": "execute_result"
    }
   ],
   "source": [
    "b"
   ]
  },
  {
   "cell_type": "code",
   "execution_count": 11,
   "id": "b889c197",
   "metadata": {},
   "outputs": [
    {
     "data": {
      "text/plain": [
       "float"
      ]
     },
     "execution_count": 11,
     "metadata": {},
     "output_type": "execute_result"
    }
   ],
   "source": [
    "type(b)"
   ]
  },
  {
   "cell_type": "code",
   "execution_count": 15,
   "id": "3e097c70",
   "metadata": {},
   "outputs": [],
   "source": [
    "t =(1,2,3,4,4.5,\"Rushi\",True)                     # tuple"
   ]
  },
  {
   "cell_type": "code",
   "execution_count": 16,
   "id": "127dd96f",
   "metadata": {},
   "outputs": [
    {
     "data": {
      "text/plain": [
       "(1, 2, 3, 4, 4.5, 'Rushi', True)"
      ]
     },
     "execution_count": 16,
     "metadata": {},
     "output_type": "execute_result"
    }
   ],
   "source": [
    "t"
   ]
  },
  {
   "cell_type": "code",
   "execution_count": 17,
   "id": "68a7f888",
   "metadata": {},
   "outputs": [
    {
     "data": {
      "text/plain": [
       "tuple"
      ]
     },
     "execution_count": 17,
     "metadata": {},
     "output_type": "execute_result"
    }
   ],
   "source": [
    "type(t)"
   ]
  },
  {
   "cell_type": "markdown",
   "id": "1e185614",
   "metadata": {},
   "source": [
    "Q2. Given are some following variables containing data:\n",
    "(i) var1 = ‘ ‘\n",
    "(ii) var2 = ‘[ DS , ML , Python]’\n",
    "(iii) var3 = [ ‘DS’ , ’ML’ , ‘Python’ ]\n",
    "(iv) var4 = 1.\n",
    "What will be the data type of the above given variable."
   ]
  },
  {
   "cell_type": "markdown",
   "id": "a578ede0",
   "metadata": {},
   "source": [
    "ANS--\n",
    "\n",
    "data types\n",
    "1.string\n",
    "2.list with any data type\n",
    "3. list with string\n",
    "4. Numeric i.e. integer"
   ]
  },
  {
   "cell_type": "markdown",
   "id": "10738d36",
   "metadata": {},
   "source": [
    "Q3. Explain the use of the following operators using an example:\n",
    "(i) /\n",
    "(ii) %\n",
    "(iii) //\n",
    "(iv) **"
   ]
  },
  {
   "cell_type": "code",
   "execution_count": 22,
   "id": "2dc8323a",
   "metadata": {},
   "outputs": [],
   "source": [
    "a= 50\n",
    "b=10"
   ]
  },
  {
   "cell_type": "code",
   "execution_count": 23,
   "id": "a2b760e0",
   "metadata": {},
   "outputs": [
    {
     "data": {
      "text/plain": [
       "5.0"
      ]
     },
     "execution_count": 23,
     "metadata": {},
     "output_type": "execute_result"
    }
   ],
   "source": [
    "a/b            # division"
   ]
  },
  {
   "cell_type": "code",
   "execution_count": 24,
   "id": "5849ef16",
   "metadata": {},
   "outputs": [
    {
     "data": {
      "text/plain": [
       "0"
      ]
     },
     "execution_count": 24,
     "metadata": {},
     "output_type": "execute_result"
    }
   ],
   "source": [
    "a%b            # modulus function gives remainder"
   ]
  },
  {
   "cell_type": "code",
   "execution_count": 25,
   "id": "c4838687",
   "metadata": {},
   "outputs": [
    {
     "data": {
      "text/plain": [
       "5"
      ]
     },
     "execution_count": 25,
     "metadata": {},
     "output_type": "execute_result"
    }
   ],
   "source": [
    "a//b                         # basic regular division"
   ]
  },
  {
   "cell_type": "code",
   "execution_count": 26,
   "id": "3f0ac3dd",
   "metadata": {},
   "outputs": [
    {
     "data": {
      "text/plain": [
       "97656250000000000"
      ]
     },
     "execution_count": 26,
     "metadata": {},
     "output_type": "execute_result"
    }
   ],
   "source": [
    "a**b                   # exponential function"
   ]
  },
  {
   "cell_type": "markdown",
   "id": "52f7e369",
   "metadata": {},
   "source": [
    "Q.4Create a list of length 10 of your choice containing multiple types of data. Using for loop print the\n",
    "element and its data type."
   ]
  },
  {
   "cell_type": "code",
   "execution_count": 28,
   "id": "08a52507",
   "metadata": {},
   "outputs": [],
   "source": [
    "l=[1,2,3,4,5.6,8.9,True,\"Rushi\",\"Aksh\",False]"
   ]
  },
  {
   "cell_type": "code",
   "execution_count": 29,
   "id": "db30d265",
   "metadata": {},
   "outputs": [
    {
     "name": "stdout",
     "output_type": "stream",
     "text": [
      "1\n",
      "2\n",
      "3\n",
      "4\n",
      "5.6\n",
      "8.9\n",
      "True\n",
      "Rushi\n",
      "Aksh\n",
      "False\n"
     ]
    }
   ],
   "source": [
    "for i in l :\n",
    "    print(i)"
   ]
  },
  {
   "cell_type": "markdown",
   "id": "35ebab37",
   "metadata": {},
   "source": [
    "Q.5 Using a while loop, verify if the number A is purely divisible by number B and if so then how many\n",
    "times it can be divisible."
   ]
  },
  {
   "cell_type": "code",
   "execution_count": 2,
   "id": "505861b9",
   "metadata": {},
   "outputs": [
    {
     "name": "stdout",
     "output_type": "stream",
     "text": [
      "100 is divisible by 5 2 times.\n"
     ]
    }
   ],
   "source": [
    "def count_divisions(a, b):\n",
    "    count = 0  # Variable to keep track of the number of divisions\n",
    "\n",
    "    while a % b == 0:\n",
    "        count += 1\n",
    "        a //= b\n",
    "\n",
    "    return count\n",
    "number_a = 100\n",
    "number_b = 5\n",
    "divisions = count_divisions(number_a, number_b)\n",
    "print(f\"{number_a} is divisible by {number_b} {divisions} times.\")\n"
   ]
  },
  {
   "cell_type": "markdown",
   "id": "484c39f7",
   "metadata": {},
   "source": [
    "Q.6 Create a list containing 25 int type data. Using for loop and if-else condition print if the element is\n",
    "divisible by 3 or not."
   ]
  },
  {
   "cell_type": "code",
   "execution_count": 13,
   "id": "bb34fe65",
   "metadata": {},
   "outputs": [],
   "source": [
    "l =list[range(1,26)]"
   ]
  },
  {
   "cell_type": "code",
   "execution_count": 11,
   "id": "6d786f80",
   "metadata": {},
   "outputs": [
    {
     "name": "stdout",
     "output_type": "stream",
     "text": [
      "1 is not divisible by 3\n",
      "2 is not divisible by 3\n",
      "3 is divisible by 3\n",
      "4 is not divisible by 3\n",
      "5 is not divisible by 3\n",
      "6 is divisible by 3\n",
      "7 is not divisible by 3\n",
      "8 is not divisible by 3\n",
      "9 is divisible by 3\n",
      "10 is not divisible by 3\n",
      "11 is not divisible by 3\n",
      "12 is divisible by 3\n",
      "13 is not divisible by 3\n",
      "14 is not divisible by 3\n",
      "15 is divisible by 3\n",
      "16 is not divisible by 3\n",
      "17 is not divisible by 3\n",
      "18 is divisible by 3\n",
      "19 is not divisible by 3\n",
      "20 is not divisible by 3\n",
      "21 is divisible by 3\n",
      "22 is not divisible by 3\n",
      "23 is not divisible by 3\n",
      "24 is divisible by 3\n",
      "25 is not divisible by 3\n"
     ]
    }
   ],
   "source": [
    "numbers = list(range(1, 26))\n",
    "for number in numbers:\n",
    "    if number % 3 == 0:\n",
    "        print(f\"{number} is divisible by 3\")\n",
    "    else:\n",
    "        print(f\"{number} is not divisible by 3\")\n"
   ]
  },
  {
   "cell_type": "markdown",
   "id": "dfb20d7f",
   "metadata": {},
   "source": [
    " Q.7 What do you understand about mutable and immutable data types? Give examples for both showing\n",
    "this property."
   ]
  },
  {
   "cell_type": "code",
   "execution_count": null,
   "id": "9fa2201a",
   "metadata": {},
   "outputs": [],
   "source": [
    "MUTABLE --  mutable objects are objects whose state can be modified after they are created. \n",
    "            This means that you can change their values, add or remove elements, or modify their internal structure.\n",
    "   EXAMPLE-- LIST,SET \n",
    "IMMUTABLE -- immutable objects are objects whose state cannot be modified after they are created.\n",
    "            This means that once an immutable object is created, you cannot change its value or internal state.  \n",
    " EXAMPLE-- TUPLE "
   ]
  }
 ],
 "metadata": {
  "kernelspec": {
   "display_name": "Python 3 (ipykernel)",
   "language": "python",
   "name": "python3"
  },
  "language_info": {
   "codemirror_mode": {
    "name": "ipython",
    "version": 3
   },
   "file_extension": ".py",
   "mimetype": "text/x-python",
   "name": "python",
   "nbconvert_exporter": "python",
   "pygments_lexer": "ipython3",
   "version": "3.10.9"
  }
 },
 "nbformat": 4,
 "nbformat_minor": 5
}
