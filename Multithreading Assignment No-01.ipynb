{
 "cells": [
  {
   "cell_type": "markdown",
   "id": "e6747d93",
   "metadata": {},
   "source": [
    "**Q.1 What is multithreading in python? why is it used? Name the module used to handle threads in python.**"
   ]
  },
  {
   "cell_type": "markdown",
   "id": "e8af9a74",
   "metadata": {},
   "source": [
    "**Multithreading in Python:**\n",
    "Multithreading in Python refers to the concurrent execution of multiple threads within a single process. A thread is a lightweight sub-process that allows a program to perform multiple tasks simultaneously, sharing the same memory space. Each thread operates independently but can interact with other threads through shared data.\n",
    "By utilizing multithreading, you can make better use of available CPU cores and prevent the program from being blocked by long-running tasks.\n",
    "\n",
    "**Module for Handling Threads:**\n",
    "The threading module in Python is used to handle threads. It provides a high-level interface for creating, starting, and managing threads. The threading module offers synchronization mechanisms such as locks, conditions, semaphores, and events to help coordinate thread execution and prevent issues like race conditions."
   ]
  },
  {
   "cell_type": "code",
   "execution_count": 4,
   "id": "69cc167f",
   "metadata": {},
   "outputs": [
    {
     "name": "stdout",
     "output_type": "stream",
     "text": [
      "Number 1\n",
      "Number 2\n",
      "Number 3\n",
      "Number 4\n",
      "Number 5\n",
      "Letter a\n",
      "Letter b\n",
      "Letter c\n",
      "Letter d\n",
      "Letter e\n",
      "Both threads have finished.\n"
     ]
    }
   ],
   "source": [
    "import threading\n",
    "\n",
    "def print_numbers():\n",
    "    for i in range(1, 6):\n",
    "        print(\"Number\",i)\n",
    "\n",
    "def print_letters():\n",
    "    for letter in 'abcde':\n",
    "        print(\"Letter\",letter)\n",
    "\n",
    "if __name__ == \"__main__\":\n",
    "    thread1 = threading.Thread(target=print_numbers)\n",
    "    thread2 = threading.Thread(target=print_letters)\n",
    "\n",
    "    thread1.start()\n",
    "    thread2.start()\n",
    "\n",
    "    thread1.join()\n",
    "    thread2.join()\n",
    "\n",
    "    print(\"Both threads have finished.\")\n"
   ]
  },
  {
   "cell_type": "markdown",
   "id": "d3ca5d4e",
   "metadata": {},
   "source": [
    "**Q2.Why threading module used? Write the use of the following functions**\n",
    " 1. activeCount()\n",
    " 2. currentThread()\n",
    " 3. enumerate()"
   ]
  },
  {
   "cell_type": "markdown",
   "id": "e546bde3",
   "metadata": {},
   "source": [
    "The threading module in Python is used to implement multithreading, which allows concurrent execution of multiple threads within a single process. It is used to take advantage of the available CPU cores and to perform tasks simultaneously, particularly in scenarios involving I/O-bound operations. The threading module provides a high-level interface to create, manage, and synchronize threads, making it easier to work with multithreading in Python "
   ]
  },
  {
   "cell_type": "code",
   "execution_count": 13,
   "id": "dea3043c",
   "metadata": {},
   "outputs": [
    {
     "name": "stdout",
     "output_type": "stream",
     "text": [
      "Thread is running.\n",
      "Thread is running.\n",
      "Thread is running.\n",
      "Thread is running.\n",
      "Thread is running.\n",
      "Number of active threads: 6\n"
     ]
    },
    {
     "name": "stderr",
     "output_type": "stream",
     "text": [
      "C:\\Users\\bhama\\AppData\\Local\\Temp\\ipykernel_25996\\778225037.py:14: DeprecationWarning: activeCount() is deprecated, use active_count() instead\n",
      "  print(\"Number of active threads:\", threading.activeCount())\n"
     ]
    }
   ],
   "source": [
    "'activeCount(): This function returns the number of Thread objects currently alive '\n",
    "\n",
    "import threading\n",
    "\n",
    "def task():\n",
    "    print(\"Thread is running.\")\n",
    "\n",
    "threads = []\n",
    "for i in range(5):\n",
    "    thread = threading.Thread(target=task)\n",
    "    threads.append(thread)\n",
    "    thread.start()\n",
    "\n",
    "print(\"Number of active threads:\", threading.activeCount())\n"
   ]
  },
  {
   "cell_type": "code",
   "execution_count": 16,
   "id": "0463a3dc",
   "metadata": {},
   "outputs": [
    {
     "name": "stdout",
     "output_type": "stream",
     "text": [
      "Current thread name: Thread-24 (get_current_thread_name)\n"
     ]
    },
    {
     "name": "stderr",
     "output_type": "stream",
     "text": [
      "C:\\Users\\bhama\\AppData\\Local\\Temp\\ipykernel_25996\\2450957078.py:4: DeprecationWarning: currentThread() is deprecated, use current_thread() instead\n",
      "  current_thread = threading.currentThread()\n",
      "C:\\Users\\bhama\\AppData\\Local\\Temp\\ipykernel_25996\\2450957078.py:5: DeprecationWarning: getName() is deprecated, get the name attribute instead\n",
      "  print(\"Current thread name:\", current_thread.getName())\n"
     ]
    }
   ],
   "source": [
    "'currentThread(): This function returns the current Thread object corresponding to the calling thread.'\n",
    "\n",
    "def get_current_thread_name():\n",
    "    current_thread = threading.currentThread()\n",
    "    print(\"Current thread name:\", current_thread.getName())\n",
    "\n",
    "thread = threading.Thread(target=get_current_thread_name)\n",
    "thread.start()\n",
    "thread.join()\n"
   ]
  },
  {
   "cell_type": "code",
   "execution_count": 20,
   "id": "82bd8ced",
   "metadata": {},
   "outputs": [
    {
     "name": "stdout",
     "output_type": "stream",
     "text": [
      "List of active threads:\n",
      "MainThread\n",
      "IOPub\n",
      "Heartbeat\n",
      "Control\n",
      "IPythonHistorySavingThread\n",
      "Thread-4\n"
     ]
    },
    {
     "name": "stderr",
     "output_type": "stream",
     "text": [
      "C:\\Users\\bhama\\AppData\\Local\\Temp\\ipykernel_25996\\3568569856.py:8: DeprecationWarning: getName() is deprecated, get the name attribute instead\n",
      "  print(thread.getName())\n"
     ]
    }
   ],
   "source": [
    "'enumerate(): This function returns a list of all Thread objects currently alive.'\n",
    "\n",
    "import threading\n",
    "\n",
    "thread_list = threading.enumerate()\n",
    "print(\"List of active threads:\")\n",
    "for thread in thread_list:\n",
    "    print(thread.getName())\n"
   ]
  },
  {
   "cell_type": "markdown",
   "id": "1b3ba70f",
   "metadata": {},
   "source": [
    "**Q3. Explain the following functions**\n",
    "1. run()\n",
    "2. start()\n",
    "3. join()\n",
    "4. isAlive()\n"
   ]
  },
  {
   "cell_type": "markdown",
   "id": "b0ca5558",
   "metadata": {},
   "source": [
    "**run():** This method is used to specify the code that will be executed within a thread. It is not typically called directly. Instead, it's overridden in a custom class that inherits from the Thread class, and the code to be executed in the thread is placed within this method."
   ]
  },
  {
   "cell_type": "markdown",
   "id": "a7c5b50f",
   "metadata": {},
   "source": [
    "**start():** This method is used to start the execution of a thread. It initiates the thread's run() method and runs the thread's target function (if specified). The start() method creates a new operating system thread and invokes the run() method within that thread."
   ]
  },
  {
   "cell_type": "markdown",
   "id": "0483238d",
   "metadata": {},
   "source": [
    "**join():** This method blocks the calling thread until the thread on which it's called completes its execution. It's used to ensure that the main program or other threads wait for a specific thread to finish before proceeding."
   ]
  },
  {
   "cell_type": "markdown",
   "id": "d7ce0780",
   "metadata": {},
   "source": [
    "**isAlive():** This method returns True if the thread is currently running or in the process of terminating, and False if the thread has completed its execution or hasn't started yet. It's a way to check the status of a thread."
   ]
  },
  {
   "cell_type": "markdown",
   "id": "724f37c9",
   "metadata": {},
   "source": [
    "**Q4. Write a python program to create two threads. Thread one must print the list of squares and thread\n",
    "two must print the list of cubes.**"
   ]
  },
  {
   "cell_type": "code",
   "execution_count": 26,
   "id": "d0748fe9",
   "metadata": {},
   "outputs": [
    {
     "name": "stdout",
     "output_type": "stream",
     "text": [
      "Square of 1 1\n",
      "Square of 2 4\n",
      "Square of 3 9\n",
      "Square of 4 16\n",
      "Square of 5 25\n",
      "Cube of 1 1\n",
      "Cube of 2 8\n",
      "Cube of 3 27\n",
      "Cube of 4 64\n",
      "Cube of 5 125\n",
      "Both threads have finished.\n"
     ]
    }
   ],
   "source": [
    "import threading\n",
    "\n",
    "def print_squares(numbers):\n",
    "    for number in numbers:\n",
    "        print(\"Square of\" ,number, number ** 2)\n",
    "\n",
    "def print_cubes(numbers):\n",
    "    for number in numbers:\n",
    "        print(\"Cube of\" ,number , number ** 3 )\n",
    "\n",
    "if __name__ == \"__main__\":\n",
    "    numbers = [1, 2, 3, 4, 5]\n",
    "\n",
    "    thread1 = threading.Thread(target=print_squares, args=(numbers,))\n",
    "    thread2 = threading.Thread(target=print_cubes, args=(numbers,))\n",
    "\n",
    "    thread1.start()\n",
    "    thread2.start()\n",
    "\n",
    "    thread1.join()\n",
    "    thread2.join()\n",
    "\n",
    "    print(\"Both threads have finished.\")\n"
   ]
  },
  {
   "cell_type": "markdown",
   "id": "f759c8d5",
   "metadata": {},
   "source": [
    "**Q5. State advantages and disadvantages of multithreading.**"
   ]
  },
  {
   "cell_type": "markdown",
   "id": "0064c765",
   "metadata": {},
   "source": [
    "**Advantages of Multithreading:**\n",
    "\n",
    "1. **Improved Performance:** Multithreading allows programs to utilize multiple CPU cores, which can lead to improved performance for tasks that can be parallelized. This is particularly beneficial for tasks involving I/O operations, as threads can continue executing while others are waiting for I/O.\n",
    "\n",
    "2. **Concurrency:** Multithreading enables concurrent execution of tasks, making it possible for multiple parts of a program to run simultaneously. This can lead to better responsiveness, especially in user interface applications.\n",
    "\n",
    "3. **Resource Sharing:** Threads within the same process share the same memory space, which makes it easier to share data between threads. This can lead to efficient communication and data sharing compared to separate processes.\n",
    "\n",
    "4. **Efficient for I/O Operations:** Multithreading is particularly useful for tasks involving I/O operations, such as reading/writing files or making network requests. While one thread is waiting for I/O, other threads can continue to execute.\n",
    "\n",
    "5. **Reduced Overhead:** Threads are lighter weight than processes since they share memory space. Creating and managing threads usually involve less overhead compared to creating separate processes.\n",
    "\n",
    "**Disadvantages of Multithreading:**\n",
    "\n",
    "1. **Complexity:** Multithreading introduces complexities due to potential race conditions, deadlocks, and synchronization issues. Managing threads requires careful consideration of shared resources and proper synchronization mechanisms.\n",
    "\n",
    "2. **Debugging Challenges:** Debugging multithreaded programs can be more challenging due to the non-deterministic nature of thread execution. Race conditions and timing-dependent bugs can be difficult to reproduce and diagnose.\n",
    "\n",
    "3. **Limited Parallelism:** In some cases, the Global Interpreter Lock (GIL) in Python's CPython implementation can limit the parallel execution of threads for CPU-bound tasks. This can reduce the expected performance gains from multithreading.\n",
    "\n",
    "4. **Increased Memory Usage:** Threads within the same process share memory, which can lead to increased memory consumption, especially if multiple threads are dealing with large data structures.\n",
    "\n",
    "5. **Performance Bottlenecks:** Multithreading might not always lead to performance improvements, especially if a program is limited by factors other than CPU utilization, such as I/O speed, network latency, or external resource limitations.\n",
    "\n",
    "6. **Synchronization Overhead:** Introducing synchronization mechanisms (locks, semaphores, etc.) to manage shared resources can introduce overhead and potentially reduce the benefits of parallel execution.\n"
   ]
  },
  {
   "cell_type": "markdown",
   "id": "4b743d53",
   "metadata": {},
   "source": [
    "**Q6. Explain deadlocks and race conditions.**"
   ]
  },
  {
   "cell_type": "markdown",
   "id": "a45c2ddb",
   "metadata": {},
   "source": [
    "**Deadlocks:**\n",
    "\n",
    "A deadlock occurs in a multithreaded or multiprocess environment when two or more threads or processes are unable to proceed because each is waiting for a resource that the other(s) holds. Essentially, it's a situation where multiple entities are stuck in a circular waiting state, preventing any of them from making progress.\n",
    "\n",
    "Deadlocks typically involve the following four conditions, known as the \"deadlock conditions\":\n",
    "\n",
    "1. **Mutual Exclusion:** At least one resource must be held in a non-sharable mode (exclusive access), meaning only one thread or process can use it at a time.\n",
    "\n",
    "2. **Hold and Wait:** A thread/process holds at least one resource and waits for additional resources that are currently held by other threads/processes.\n",
    "\n",
    "3. **No Preemption:** Resources cannot be forcibly taken away from a thread/process; they must be released voluntarily.\n",
    "\n",
    "4. **Circular Wait:** A circular chain of two or more threads/processes exists, where each thread/process is waiting for a resource held by another thread/process in the chain.\n",
    "\n",
    "Deadlocks can lead to a program freezing or becoming unresponsive, and they are challenging to detect and resolve.\n",
    "\n",
    "**Race Conditions:**\n",
    "\n",
    "A race condition occurs when two or more threads or processes access shared data or resources concurrently, and the final outcome depends on the timing and order of their execution. It's like a \"race\" to access and modify shared resources, and the result may be unpredictable or incorrect if not properly synchronized.\n",
    "\n",
    "Race conditions can lead to data inconsistencies, unexpected behavior, and bugs that are difficult to reproduce and debug. They occur when operations on shared data are not properly synchronized or coordinated.\n"
   ]
  }
 ],
 "metadata": {
  "kernelspec": {
   "display_name": "Python 3 (ipykernel)",
   "language": "python",
   "name": "python3"
  },
  "language_info": {
   "codemirror_mode": {
    "name": "ipython",
    "version": 3
   },
   "file_extension": ".py",
   "mimetype": "text/x-python",
   "name": "python",
   "nbconvert_exporter": "python",
   "pygments_lexer": "ipython3",
   "version": "3.10.9"
  }
 },
 "nbformat": 4,
 "nbformat_minor": 5
}
