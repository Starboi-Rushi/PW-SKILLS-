{
 "cells": [
  {
   "cell_type": "markdown",
   "id": "74cde081",
   "metadata": {},
   "source": [
    "<a id=\"1\"></a>\n",
    "\n",
    "# <p style=\"padding: 10px; background-color: orange; margin: 10px; color: #000000; font-family: newtimeroman; font-size: 100%; text-align: center; border-radius: 10px; overflow: hidden; font-weight: 50;\">Pandas Basic</p>\n"
   ]
  },
  {
   "cell_type": "markdown",
   "id": "6f81c014",
   "metadata": {},
   "source": [
    "<a id=\"1\"></a>\n",
    "# <p style=\"padding: 10px; background-color: yellow; margin: 5px; color: #000000; font-family: newtimeroman; font-size: 60%; text-align: right; border-radius: 5px; overflow: hidden; font-weight: 50;\">RUSHI BHAMARE</p>\n"
   ]
  },
  {
   "cell_type": "markdown",
   "id": "bfc303d5",
   "metadata": {},
   "source": [
    "## Q1. Create a Pandas Series that contains the following data: 4, 8, 15, 16, 23, and 42. Then, print the series."
   ]
  },
  {
   "cell_type": "code",
   "execution_count": 1,
   "id": "25d6e414",
   "metadata": {},
   "outputs": [],
   "source": [
    "import pandas as pd\n",
    "\n",
    "data = [4, 8, 15, 16, 23, 42]\n",
    "my_series = pd.Series(data)"
   ]
  },
  {
   "cell_type": "code",
   "execution_count": 2,
   "id": "77b0487d",
   "metadata": {},
   "outputs": [
    {
     "name": "stdout",
     "output_type": "stream",
     "text": [
      "0     4\n",
      "1     8\n",
      "2    15\n",
      "3    16\n",
      "4    23\n",
      "5    42\n",
      "dtype: int64\n"
     ]
    }
   ],
   "source": [
    "print(my_series)"
   ]
  },
  {
   "cell_type": "markdown",
   "id": "1224d1f4",
   "metadata": {},
   "source": [
    "*****"
   ]
  },
  {
   "cell_type": "markdown",
   "id": "117d3db2",
   "metadata": {},
   "source": [
    "## Q2. Create a variable of list type containing 10 elements in it, and apply pandas.Series function on the variable print it."
   ]
  },
  {
   "cell_type": "code",
   "execution_count": 3,
   "id": "106ef387",
   "metadata": {},
   "outputs": [],
   "source": [
    "import pandas as pd\n",
    "\n",
    "my_list = [10, 20, 30, 40, 50, 60, 70, 80, 90, 100]\n",
    "\n",
    "my_series = pd.Series(my_list)"
   ]
  },
  {
   "cell_type": "code",
   "execution_count": 4,
   "id": "d44147cb",
   "metadata": {},
   "outputs": [
    {
     "name": "stdout",
     "output_type": "stream",
     "text": [
      "0     10\n",
      "1     20\n",
      "2     30\n",
      "3     40\n",
      "4     50\n",
      "5     60\n",
      "6     70\n",
      "7     80\n",
      "8     90\n",
      "9    100\n",
      "dtype: int64\n"
     ]
    }
   ],
   "source": [
    "print(my_series)"
   ]
  },
  {
   "cell_type": "markdown",
   "id": "13762042",
   "metadata": {},
   "source": [
    "## Q3. Create a Pandas DataFrame that contains the following data: Then, print the DataFrame."
   ]
  },
  {
   "cell_type": "code",
   "execution_count": 5,
   "id": "3cf51eef",
   "metadata": {},
   "outputs": [],
   "source": [
    "data = {\n",
    "    'Name': ['Amit', 'Priya', 'Rajesh', 'Neha', 'Suresh', 'Deepa', 'Sanjay', 'Pooja', 'Vikram', 'Anjali'],\n",
    "    'City': ['Mumbai', 'Delhi', 'Bangalore', 'Chennai', 'Kolkata', 'Hyderabad', 'Pune', 'Ahmedabad', 'Jaipur', 'Lucknow']\n",
    "}"
   ]
  },
  {
   "cell_type": "code",
   "execution_count": 6,
   "id": "a6c0a3d5",
   "metadata": {},
   "outputs": [],
   "source": [
    "# Create a DataFrame\n",
    "df = pd.DataFrame(data)"
   ]
  },
  {
   "cell_type": "code",
   "execution_count": 7,
   "id": "068db412",
   "metadata": {},
   "outputs": [
    {
     "name": "stdout",
     "output_type": "stream",
     "text": [
      "     Name       City\n",
      "0    Amit     Mumbai\n",
      "1   Priya      Delhi\n",
      "2  Rajesh  Bangalore\n",
      "3    Neha    Chennai\n",
      "4  Suresh    Kolkata\n",
      "5   Deepa  Hyderabad\n",
      "6  Sanjay       Pune\n",
      "7   Pooja  Ahmedabad\n",
      "8  Vikram     Jaipur\n",
      "9  Anjali    Lucknow\n"
     ]
    }
   ],
   "source": [
    "print(df)"
   ]
  },
  {
   "cell_type": "markdown",
   "id": "6bad8964",
   "metadata": {},
   "source": [
    "## Q4. What is ‘DataFrame’ in pandas and how is it different from pandas.series? Explain with an example."
   ]
  },
  {
   "cell_type": "markdown",
   "id": "ab47f2ff",
   "metadata": {},
   "source": [
    "#### In Pandas, a DataFrame is a two-dimensional, size-mutable, and heterogeneous tabular data structure. It can be thought of as a spreadsheet or a SQL table, where data is organized into rows and columns. Each column can have a different data type, making it suitable for handling structured data. DataFrames are one of the most commonly used data structures in Pandas."
   ]
  },
  {
   "cell_type": "markdown",
   "id": "6f7f5dba",
   "metadata": {},
   "source": [
    "## DataFrame:\n",
    "\n",
    "#### 1.Two-dimensional data structure.\n",
    "#### 2.Can hold multiple columns of data.\n",
    "#### 3.Columns can have different data types.\n",
    "#### 4.Has both row and column indices.\n",
    "##### 5.Suitable for representing and working with structured datasets."
   ]
  },
  {
   "cell_type": "markdown",
   "id": "fd6ab6f7",
   "metadata": {},
   "source": [
    "#### On the other hand, a Series is a one-dimensional labeled array-like object in Pandas. It is essentially a single column of data with associated labels or indices. A DataFrame is made up of multiple Series objects, where each Series represents a column. You can think of a Series as a single variable or attribute, whereas a DataFrame contains multiple variables or attributes organized in a tabular format."
   ]
  },
  {
   "cell_type": "code",
   "execution_count": 8,
   "id": "72a16270",
   "metadata": {},
   "outputs": [
    {
     "name": "stdout",
     "output_type": "stream",
     "text": [
      "     Name       City\n",
      "0    Amit     Mumbai\n",
      "1   Priya      Delhi\n",
      "2  Rajesh  Bangalore\n",
      "3    Neha    Chennai\n",
      "4  Suresh    Kolkata\n",
      "5   Deepa  Hyderabad\n",
      "6  Sanjay       Pune\n",
      "7   Pooja  Ahmedabad\n",
      "8  Vikram     Jaipur\n",
      "9  Anjali    Lucknow\n"
     ]
    }
   ],
   "source": [
    "# Dataframe\n",
    "\n",
    "data = {\n",
    "    'Name': ['Amit', 'Priya', 'Rajesh', 'Neha', 'Suresh', 'Deepa', 'Sanjay', 'Pooja', 'Vikram', 'Anjali'],\n",
    "    'City': ['Mumbai', 'Delhi', 'Bangalore', 'Chennai', 'Kolkata', 'Hyderabad', 'Pune', 'Ahmedabad', 'Jaipur', 'Lucknow']\n",
    "}\n",
    "\n",
    "# Create a DataFrame\n",
    "df = pd.DataFrame(data)\n",
    "\n",
    "# Print the DataFrame\n",
    "print(df)"
   ]
  },
  {
   "cell_type": "code",
   "execution_count": 9,
   "id": "013534d2",
   "metadata": {},
   "outputs": [
    {
     "name": "stdout",
     "output_type": "stream",
     "text": [
      "0    25\n",
      "1    30\n",
      "2    35\n",
      "3    40\n",
      "4    45\n",
      "Name: Age, dtype: int64\n"
     ]
    }
   ],
   "source": [
    "# Series\n",
    "ages = pd.Series([25, 30, 35, 40, 45], name='Age')\n",
    "print(ages)"
   ]
  },
  {
   "cell_type": "markdown",
   "id": "439c9560",
   "metadata": {},
   "source": [
    "## Q5. What are some common functions you can use to manipulate data in a Pandas DataFrame? Can you give an example of when you might use one of these functions?"
   ]
  },
  {
   "cell_type": "code",
   "execution_count": 10,
   "id": "b48497ed",
   "metadata": {},
   "outputs": [],
   "source": [
    "import pandas as pd\n",
    "import random\n",
    "\n",
    "names = ['Amit', 'Priya', 'Rajesh', 'Neha', 'Suresh', 'Deepa', 'Sanjay', 'Pooja', 'Vikram', 'Anjali',\n",
    "                'Rahul', 'Kavita', 'Sunil', 'Meena', 'Arun', 'Swati', 'Vinod', 'Manju', 'Ramesh', 'Sarika',\n",
    "                'Ravi', 'Sheetal', 'Alok', 'Neelam', 'Mohan']\n",
    "cities = ['Mumbai', 'Delhi', 'Bangalore', 'Chennai', 'Kolkata', 'Hyderabad', 'Pune', 'Ahmedabad', 'Jaipur', 'Lucknow',\n",
    "                 'Bhopal', 'Kochi', 'Surat', 'Nagpur', 'Indore', 'Vadodara', 'Coimbatore', 'Ludhiana', 'Agra', 'Varanasi',\n",
    "                 'Patna', 'Nashik', 'Dehradun', 'Jamshedpur', 'Mysore']\n",
    "ages = [random.randint(20, 60) for _ in range(25)]\n",
    "\n",
    "# Create a DataFrame\n",
    "data = {\n",
    "    'Name': random.sample(names, 25),\n",
    "    'City': random.sample(cities, 25),\n",
    "    'Age': ages\n",
    "}\n",
    "\n",
    "df = pd.DataFrame(data)\n"
   ]
  },
  {
   "cell_type": "markdown",
   "id": "7ccc7e36",
   "metadata": {},
   "source": [
    "## Sorting:\n",
    "\n",
    "#### sort_values(): Sorts the DataFrame by one or more columns."
   ]
  },
  {
   "cell_type": "code",
   "execution_count": 11,
   "id": "25ac54ef",
   "metadata": {},
   "outputs": [],
   "source": [
    "# Sort the DataFrame by 'Age' in descending order\n",
    "sorted_data = df.sort_values(by='Age', ascending=False)"
   ]
  },
  {
   "cell_type": "code",
   "execution_count": 12,
   "id": "853e11cb",
   "metadata": {},
   "outputs": [
    {
     "name": "stdout",
     "output_type": "stream",
     "text": [
      "       Name        City  Age\n",
      "8    Sarika       Kochi   59\n",
      "10     Ravi      Nagpur   59\n",
      "18     Arun  Jamshedpur   55\n",
      "13   Kavita    Dehradun   54\n",
      "7    Vikram    Ludhiana   54\n",
      "5      Alok     Chennai   52\n",
      "17   Sanjay        Pune   52\n",
      "16    Swati        Agra   52\n",
      "11     Amit      Nashik   52\n",
      "0     Manju   Bangalore   51\n",
      "3     Pooja    Vadodara   51\n",
      "15   Anjali   Ahmedabad   50\n",
      "19   Neelam     Kolkata   47\n",
      "12  Sheetal   Hyderabad   47\n",
      "21   Suresh      Jaipur   42\n",
      "22    Priya       Patna   42\n",
      "23     Neha      Mysore   40\n",
      "6     Vinod       Delhi   36\n",
      "1     Sunil  Coimbatore   31\n",
      "2     Rahul      Bhopal   31\n",
      "24   Rajesh      Mumbai   31\n",
      "14    Meena     Lucknow   30\n",
      "20    Deepa       Surat   25\n",
      "4     Mohan      Indore   24\n",
      "9    Ramesh    Varanasi   23\n"
     ]
    }
   ],
   "source": [
    "print(sorted_data)"
   ]
  },
  {
   "cell_type": "markdown",
   "id": "fd321a4a",
   "metadata": {},
   "source": [
    "## Grouping and Aggregation:\n",
    "\n",
    "#### groupby(): Groups data based on one or more columns for aggregation."
   ]
  },
  {
   "cell_type": "code",
   "execution_count": 13,
   "id": "36a918f7",
   "metadata": {},
   "outputs": [],
   "source": [
    "# Group data by 'City' and calculate the average age in each city\n",
    "city_avg_age = df.groupby('City')['Age'].mean()\n"
   ]
  },
  {
   "cell_type": "code",
   "execution_count": 14,
   "id": "16f8b3a4",
   "metadata": {},
   "outputs": [
    {
     "name": "stdout",
     "output_type": "stream",
     "text": [
      "City\n",
      "Agra          52.0\n",
      "Ahmedabad     50.0\n",
      "Bangalore     51.0\n",
      "Bhopal        31.0\n",
      "Chennai       52.0\n",
      "Coimbatore    31.0\n",
      "Dehradun      54.0\n",
      "Delhi         36.0\n",
      "Hyderabad     47.0\n",
      "Indore        24.0\n",
      "Jaipur        42.0\n",
      "Jamshedpur    55.0\n",
      "Kochi         59.0\n",
      "Kolkata       47.0\n",
      "Lucknow       30.0\n",
      "Ludhiana      54.0\n",
      "Mumbai        31.0\n",
      "Mysore        40.0\n",
      "Nagpur        59.0\n",
      "Nashik        52.0\n",
      "Patna         42.0\n",
      "Pune          52.0\n",
      "Surat         25.0\n",
      "Vadodara      51.0\n",
      "Varanasi      23.0\n",
      "Name: Age, dtype: float64\n"
     ]
    }
   ],
   "source": [
    "print(city_avg_age)"
   ]
  },
  {
   "cell_type": "markdown",
   "id": "bf21a7af",
   "metadata": {},
   "source": [
    "## Aggregation Functions:\n",
    "\n",
    "#### sum(), mean(), median(), max(), min(), etc.: Compute summary statistics for one or more columns."
   ]
  },
  {
   "cell_type": "code",
   "execution_count": 15,
   "id": "5d49bdd1",
   "metadata": {},
   "outputs": [
    {
     "name": "stdout",
     "output_type": "stream",
     "text": [
      "43.6\n"
     ]
    }
   ],
   "source": [
    "# Calculate the mean age of all individuals in the DataFrame\n",
    "mean_age = df['Age'].mean()\n",
    "print(mean_age)"
   ]
  },
  {
   "cell_type": "markdown",
   "id": "b6379fe8",
   "metadata": {},
   "source": [
    "## Data Cleaning:\n",
    "\n",
    "#### drop(): Remove rows or columns from the DataFrame."
   ]
  },
  {
   "cell_type": "code",
   "execution_count": 16,
   "id": "8d68a548",
   "metadata": {},
   "outputs": [],
   "source": [
    "# Remove rows with missing values in any column\n",
    "cleaned_data = df.dropna()"
   ]
  },
  {
   "cell_type": "code",
   "execution_count": 22,
   "id": "2e7a1872",
   "metadata": {},
   "outputs": [
    {
     "name": "stdout",
     "output_type": "stream",
     "text": [
      "       Name        City  Age\n",
      "0     Manju   Bangalore   51\n",
      "1     Sunil  Coimbatore   31\n",
      "2     Rahul      Bhopal   31\n",
      "3     Pooja    Vadodara   51\n",
      "4     Mohan      Indore   24\n",
      "5      Alok     Chennai   52\n",
      "6     Vinod       Delhi   36\n",
      "7    Vikram    Ludhiana   54\n",
      "8    Sarika       Kochi   59\n",
      "9    Ramesh    Varanasi   23\n",
      "10     Ravi      Nagpur   59\n",
      "11     Amit      Nashik   52\n",
      "12  Sheetal   Hyderabad   47\n",
      "13   Kavita    Dehradun   54\n",
      "14    Meena     Lucknow   30\n",
      "15   Anjali   Ahmedabad   50\n",
      "16    Swati        Agra   52\n",
      "17   Sanjay        Pune   52\n",
      "18     Arun  Jamshedpur   55\n",
      "19   Neelam     Kolkata   47\n",
      "20    Deepa       Surat   25\n",
      "21   Suresh      Jaipur   42\n",
      "22    Priya       Patna   42\n",
      "23     Neha      Mysore   40\n",
      "24   Rajesh      Mumbai   31\n"
     ]
    }
   ],
   "source": [
    "print(cleaned_data)"
   ]
  },
  {
   "cell_type": "markdown",
   "id": "6af8dbad",
   "metadata": {},
   "source": [
    "## Adding and Deleting Columns:\n",
    "\n",
    "#### assign(): Add new columns to a DataFrame.\n",
    "#### drop(): Delete columns from a DataFrame."
   ]
  },
  {
   "cell_type": "code",
   "execution_count": 23,
   "id": "ac0b505d",
   "metadata": {},
   "outputs": [],
   "source": [
    "df = df.assign(income = [random.randint(40000, 90000) for i in range(25)])"
   ]
  },
  {
   "cell_type": "code",
   "execution_count": 21,
   "id": "ff9779a1",
   "metadata": {},
   "outputs": [
    {
     "data": {
      "text/html": [
       "<div>\n",
       "<style scoped>\n",
       "    .dataframe tbody tr th:only-of-type {\n",
       "        vertical-align: middle;\n",
       "    }\n",
       "\n",
       "    .dataframe tbody tr th {\n",
       "        vertical-align: top;\n",
       "    }\n",
       "\n",
       "    .dataframe thead th {\n",
       "        text-align: right;\n",
       "    }\n",
       "</style>\n",
       "<table border=\"1\" class=\"dataframe\">\n",
       "  <thead>\n",
       "    <tr style=\"text-align: right;\">\n",
       "      <th></th>\n",
       "      <th>Income</th>\n",
       "      <th>income</th>\n",
       "    </tr>\n",
       "  </thead>\n",
       "  <tbody>\n",
       "    <tr>\n",
       "      <th>0</th>\n",
       "      <td>75951</td>\n",
       "      <td>70048</td>\n",
       "    </tr>\n",
       "    <tr>\n",
       "      <th>1</th>\n",
       "      <td>60448</td>\n",
       "      <td>68550</td>\n",
       "    </tr>\n",
       "    <tr>\n",
       "      <th>2</th>\n",
       "      <td>46424</td>\n",
       "      <td>61906</td>\n",
       "    </tr>\n",
       "    <tr>\n",
       "      <th>3</th>\n",
       "      <td>50437</td>\n",
       "      <td>47078</td>\n",
       "    </tr>\n",
       "    <tr>\n",
       "      <th>4</th>\n",
       "      <td>73282</td>\n",
       "      <td>84156</td>\n",
       "    </tr>\n",
       "    <tr>\n",
       "      <th>5</th>\n",
       "      <td>65958</td>\n",
       "      <td>72845</td>\n",
       "    </tr>\n",
       "    <tr>\n",
       "      <th>6</th>\n",
       "      <td>61991</td>\n",
       "      <td>85989</td>\n",
       "    </tr>\n",
       "    <tr>\n",
       "      <th>7</th>\n",
       "      <td>82408</td>\n",
       "      <td>44823</td>\n",
       "    </tr>\n",
       "    <tr>\n",
       "      <th>8</th>\n",
       "      <td>51885</td>\n",
       "      <td>71276</td>\n",
       "    </tr>\n",
       "    <tr>\n",
       "      <th>9</th>\n",
       "      <td>56800</td>\n",
       "      <td>76094</td>\n",
       "    </tr>\n",
       "    <tr>\n",
       "      <th>10</th>\n",
       "      <td>66195</td>\n",
       "      <td>47592</td>\n",
       "    </tr>\n",
       "    <tr>\n",
       "      <th>11</th>\n",
       "      <td>77981</td>\n",
       "      <td>78427</td>\n",
       "    </tr>\n",
       "    <tr>\n",
       "      <th>12</th>\n",
       "      <td>72798</td>\n",
       "      <td>66899</td>\n",
       "    </tr>\n",
       "    <tr>\n",
       "      <th>13</th>\n",
       "      <td>87216</td>\n",
       "      <td>64095</td>\n",
       "    </tr>\n",
       "    <tr>\n",
       "      <th>14</th>\n",
       "      <td>84495</td>\n",
       "      <td>72330</td>\n",
       "    </tr>\n",
       "    <tr>\n",
       "      <th>15</th>\n",
       "      <td>66118</td>\n",
       "      <td>66113</td>\n",
       "    </tr>\n",
       "    <tr>\n",
       "      <th>16</th>\n",
       "      <td>63266</td>\n",
       "      <td>57379</td>\n",
       "    </tr>\n",
       "    <tr>\n",
       "      <th>17</th>\n",
       "      <td>62006</td>\n",
       "      <td>62896</td>\n",
       "    </tr>\n",
       "    <tr>\n",
       "      <th>18</th>\n",
       "      <td>55078</td>\n",
       "      <td>43920</td>\n",
       "    </tr>\n",
       "    <tr>\n",
       "      <th>19</th>\n",
       "      <td>72583</td>\n",
       "      <td>65261</td>\n",
       "    </tr>\n",
       "    <tr>\n",
       "      <th>20</th>\n",
       "      <td>76462</td>\n",
       "      <td>68224</td>\n",
       "    </tr>\n",
       "    <tr>\n",
       "      <th>21</th>\n",
       "      <td>79422</td>\n",
       "      <td>57403</td>\n",
       "    </tr>\n",
       "    <tr>\n",
       "      <th>22</th>\n",
       "      <td>46401</td>\n",
       "      <td>50250</td>\n",
       "    </tr>\n",
       "    <tr>\n",
       "      <th>23</th>\n",
       "      <td>88824</td>\n",
       "      <td>84766</td>\n",
       "    </tr>\n",
       "    <tr>\n",
       "      <th>24</th>\n",
       "      <td>52892</td>\n",
       "      <td>68829</td>\n",
       "    </tr>\n",
       "  </tbody>\n",
       "</table>\n",
       "</div>"
      ],
      "text/plain": [
       "    Income  income\n",
       "0    75951   70048\n",
       "1    60448   68550\n",
       "2    46424   61906\n",
       "3    50437   47078\n",
       "4    73282   84156\n",
       "5    65958   72845\n",
       "6    61991   85989\n",
       "7    82408   44823\n",
       "8    51885   71276\n",
       "9    56800   76094\n",
       "10   66195   47592\n",
       "11   77981   78427\n",
       "12   72798   66899\n",
       "13   87216   64095\n",
       "14   84495   72330\n",
       "15   66118   66113\n",
       "16   63266   57379\n",
       "17   62006   62896\n",
       "18   55078   43920\n",
       "19   72583   65261\n",
       "20   76462   68224\n",
       "21   79422   57403\n",
       "22   46401   50250\n",
       "23   88824   84766\n",
       "24   52892   68829"
      ]
     },
     "execution_count": 21,
     "metadata": {},
     "output_type": "execute_result"
    }
   ],
   "source": [
    "df"
   ]
  },
  {
   "cell_type": "code",
   "execution_count": 24,
   "id": "81158577",
   "metadata": {},
   "outputs": [],
   "source": [
    "df = df.drop(columns='income')"
   ]
  },
  {
   "cell_type": "code",
   "execution_count": 25,
   "id": "e1bc9f96",
   "metadata": {},
   "outputs": [
    {
     "data": {
      "text/html": [
       "<div>\n",
       "<style scoped>\n",
       "    .dataframe tbody tr th:only-of-type {\n",
       "        vertical-align: middle;\n",
       "    }\n",
       "\n",
       "    .dataframe tbody tr th {\n",
       "        vertical-align: top;\n",
       "    }\n",
       "\n",
       "    .dataframe thead th {\n",
       "        text-align: right;\n",
       "    }\n",
       "</style>\n",
       "<table border=\"1\" class=\"dataframe\">\n",
       "  <thead>\n",
       "    <tr style=\"text-align: right;\">\n",
       "      <th></th>\n",
       "      <th>Income</th>\n",
       "    </tr>\n",
       "  </thead>\n",
       "  <tbody>\n",
       "    <tr>\n",
       "      <th>0</th>\n",
       "      <td>75951</td>\n",
       "    </tr>\n",
       "    <tr>\n",
       "      <th>1</th>\n",
       "      <td>60448</td>\n",
       "    </tr>\n",
       "    <tr>\n",
       "      <th>2</th>\n",
       "      <td>46424</td>\n",
       "    </tr>\n",
       "    <tr>\n",
       "      <th>3</th>\n",
       "      <td>50437</td>\n",
       "    </tr>\n",
       "    <tr>\n",
       "      <th>4</th>\n",
       "      <td>73282</td>\n",
       "    </tr>\n",
       "    <tr>\n",
       "      <th>5</th>\n",
       "      <td>65958</td>\n",
       "    </tr>\n",
       "    <tr>\n",
       "      <th>6</th>\n",
       "      <td>61991</td>\n",
       "    </tr>\n",
       "    <tr>\n",
       "      <th>7</th>\n",
       "      <td>82408</td>\n",
       "    </tr>\n",
       "    <tr>\n",
       "      <th>8</th>\n",
       "      <td>51885</td>\n",
       "    </tr>\n",
       "    <tr>\n",
       "      <th>9</th>\n",
       "      <td>56800</td>\n",
       "    </tr>\n",
       "    <tr>\n",
       "      <th>10</th>\n",
       "      <td>66195</td>\n",
       "    </tr>\n",
       "    <tr>\n",
       "      <th>11</th>\n",
       "      <td>77981</td>\n",
       "    </tr>\n",
       "    <tr>\n",
       "      <th>12</th>\n",
       "      <td>72798</td>\n",
       "    </tr>\n",
       "    <tr>\n",
       "      <th>13</th>\n",
       "      <td>87216</td>\n",
       "    </tr>\n",
       "    <tr>\n",
       "      <th>14</th>\n",
       "      <td>84495</td>\n",
       "    </tr>\n",
       "    <tr>\n",
       "      <th>15</th>\n",
       "      <td>66118</td>\n",
       "    </tr>\n",
       "    <tr>\n",
       "      <th>16</th>\n",
       "      <td>63266</td>\n",
       "    </tr>\n",
       "    <tr>\n",
       "      <th>17</th>\n",
       "      <td>62006</td>\n",
       "    </tr>\n",
       "    <tr>\n",
       "      <th>18</th>\n",
       "      <td>55078</td>\n",
       "    </tr>\n",
       "    <tr>\n",
       "      <th>19</th>\n",
       "      <td>72583</td>\n",
       "    </tr>\n",
       "    <tr>\n",
       "      <th>20</th>\n",
       "      <td>76462</td>\n",
       "    </tr>\n",
       "    <tr>\n",
       "      <th>21</th>\n",
       "      <td>79422</td>\n",
       "    </tr>\n",
       "    <tr>\n",
       "      <th>22</th>\n",
       "      <td>46401</td>\n",
       "    </tr>\n",
       "    <tr>\n",
       "      <th>23</th>\n",
       "      <td>88824</td>\n",
       "    </tr>\n",
       "    <tr>\n",
       "      <th>24</th>\n",
       "      <td>52892</td>\n",
       "    </tr>\n",
       "  </tbody>\n",
       "</table>\n",
       "</div>"
      ],
      "text/plain": [
       "    Income\n",
       "0    75951\n",
       "1    60448\n",
       "2    46424\n",
       "3    50437\n",
       "4    73282\n",
       "5    65958\n",
       "6    61991\n",
       "7    82408\n",
       "8    51885\n",
       "9    56800\n",
       "10   66195\n",
       "11   77981\n",
       "12   72798\n",
       "13   87216\n",
       "14   84495\n",
       "15   66118\n",
       "16   63266\n",
       "17   62006\n",
       "18   55078\n",
       "19   72583\n",
       "20   76462\n",
       "21   79422\n",
       "22   46401\n",
       "23   88824\n",
       "24   52892"
      ]
     },
     "execution_count": 25,
     "metadata": {},
     "output_type": "execute_result"
    }
   ],
   "source": [
    "df"
   ]
  },
  {
   "cell_type": "markdown",
   "id": "9cae378b",
   "metadata": {},
   "source": [
    "## Q6. Which of the following is mutable in nature Series, DataFrame, Panel?"
   ]
  },
  {
   "cell_type": "markdown",
   "id": "3e8e5753",
   "metadata": {},
   "source": [
    "#### Among the options given (Series, DataFrame, Panel), both Series and DataFrame are mutable in nature.\n",
    "\n",
    "#### Series: A Pandas Series is mutable, meaning you can change its values or modify it after creation. You can update specific elements, append new values, or delete elements from a Series.\n",
    "\n",
    "#### DataFrame: Similarly, a Pandas DataFrame is mutable. You can modify the data in individual cells, add or remove columns and rows, or perform various data manipulation operations on a DataFrame."
   ]
  },
  {
   "cell_type": "markdown",
   "id": "523c7547",
   "metadata": {},
   "source": [
    "## Q7. Create a DataFrame using multiple Series. Explain with an example."
   ]
  },
  {
   "cell_type": "code",
   "execution_count": 28,
   "id": "7409a86e",
   "metadata": {},
   "outputs": [
    {
     "name": "stdout",
     "output_type": "stream",
     "text": [
      "     Name  Age       City\n",
      "0    Amit   28     Mumbai\n",
      "1   Priya   32      Delhi\n",
      "2  Rajesh   25  Bangalore\n",
      "3    Neha   30    Chennai\n",
      "4  Suresh   35    Kolkata\n"
     ]
    }
   ],
   "source": [
    "import pandas as pd\n",
    "\n",
    "# Sample names, ages, and cities in Series\n",
    "names = pd.Series(['Amit', 'Priya', 'Rajesh', 'Neha', 'Suresh'])\n",
    "ages = pd.Series([28, 32, 25, 30, 35])\n",
    "cities = pd.Series(['Mumbai', 'Delhi', 'Bangalore', 'Chennai', 'Kolkata'])\n",
    "\n",
    "# Create a DataFrame using the Series\n",
    "data1 = {\n",
    "    'Name': names,\n",
    "    'Age': ages,\n",
    "    'City': cities\n",
    "}\n",
    "\n",
    "indian_df = pd.DataFrame(data1)\n",
    "\n",
    "# Print the DataFrame\n",
    "print(indian_df)\n"
   ]
  },
  {
   "cell_type": "code",
   "execution_count": null,
   "id": "ca71b208",
   "metadata": {},
   "outputs": [],
   "source": []
  }
 ],
 "metadata": {
  "kernelspec": {
   "display_name": "Python 3 (ipykernel)",
   "language": "python",
   "name": "python3"
  },
  "language_info": {
   "codemirror_mode": {
    "name": "ipython",
    "version": 3
   },
   "file_extension": ".py",
   "mimetype": "text/x-python",
   "name": "python",
   "nbconvert_exporter": "python",
   "pygments_lexer": "ipython3",
   "version": "3.10.9"
  }
 },
 "nbformat": 4,
 "nbformat_minor": 5
}
