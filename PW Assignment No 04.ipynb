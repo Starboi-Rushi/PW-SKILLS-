{
 "cells": [
  {
   "cell_type": "markdown",
   "id": "79a0dc0b",
   "metadata": {},
   "source": [
    "__Q1. Create a python program to sort the given list of tuples based on integer value using a\n",
    "lambda function.__"
   ]
  },
  {
   "cell_type": "code",
   "execution_count": 15,
   "id": "c5ba0871",
   "metadata": {},
   "outputs": [
    {
     "name": "stdout",
     "output_type": "stream",
     "text": [
      "('Virat Kohli', 24936)\n",
      "('Jack Kallis', 25534)\n",
      "('Ricky Ponting', 27483)\n",
      "('Sachin Tendulkar', 34357)\n"
     ]
    }
   ],
   "source": [
    "data =[('Sachin Tendulkar', 34357), ('Ricky Ponting', 27483), ('Jack Kallis', 25534), ('Virat Kohli', 24936)]\n",
    "sorted_data = sorted(data, key=lambda x: x[1])\n",
    "for i in sorted_data:\n",
    "    print(i)\n"
   ]
  },
  {
   "cell_type": "markdown",
   "id": "eab5ed06",
   "metadata": {},
   "source": [
    "__Q2. Write a Python Program to find the squares of all the numbers in the given list of integers using\n",
    "lambda and map functions.\n",
    "[1, 2, 3, 4, 5, 6, 7, 8, 9, 10]__"
   ]
  },
  {
   "cell_type": "code",
   "execution_count": 17,
   "id": "5cd012eb",
   "metadata": {},
   "outputs": [
    {
     "data": {
      "text/plain": [
       "[1, 4, 9, 16, 25, 36, 49, 64, 81, 100]"
      ]
     },
     "execution_count": 17,
     "metadata": {},
     "output_type": "execute_result"
    }
   ],
   "source": [
    "n = [1,2,3,4,5,6,7,8,9,10]\n",
    "list(map(lambda n : n**2 , n))"
   ]
  },
  {
   "cell_type": "markdown",
   "id": "25f60aa9",
   "metadata": {},
   "source": [
    "__Q3. Write a python program to convert the given list of integers into a tuple of strings. Use map and\n",
    "lambda functions__"
   ]
  },
  {
   "cell_type": "code",
   "execution_count": 20,
   "id": "df8ffc05",
   "metadata": {},
   "outputs": [
    {
     "data": {
      "text/plain": [
       "['1', '2', '3', '4', '5', '6', '7', '8', '9', '10']"
      ]
     },
     "execution_count": 20,
     "metadata": {},
     "output_type": "execute_result"
    }
   ],
   "source": [
    "int_1 = [1,2,3,4,5,6,7,8,9,10]\n",
    "list(map(lambda int_1 : str(int_1),int_1))"
   ]
  },
  {
   "cell_type": "markdown",
   "id": "f2ace179",
   "metadata": {},
   "source": [
    "__Q4. Write a python program using reduce function to compute the product of a list containing numbers\n",
    "from 1 to 25.__"
   ]
  },
  {
   "cell_type": "code",
   "execution_count": 25,
   "id": "4e579141",
   "metadata": {},
   "outputs": [
    {
     "data": {
      "text/plain": [
       "620448401733239439360000"
      ]
     },
     "execution_count": 25,
     "metadata": {},
     "output_type": "execute_result"
    }
   ],
   "source": [
    "from functools import reduce\n",
    "l8 = list(range(1,25))\n",
    "reduce(lambda x,y :x*y,l8 )"
   ]
  },
  {
   "cell_type": "markdown",
   "id": "e17788a7",
   "metadata": {},
   "source": [
    "__Q5. Write a python program to filter the numbers in a given list that are divisible by 2 and 3 using the\n",
    "filter function.\n",
    "[2, 3, 6, 9, 27, 60, 90, 120, 55, 46]__"
   ]
  },
  {
   "cell_type": "code",
   "execution_count": 29,
   "id": "34881c7a",
   "metadata": {},
   "outputs": [
    {
     "data": {
      "text/plain": [
       "[6, 60, 90, 120]"
      ]
     },
     "execution_count": 29,
     "metadata": {},
     "output_type": "execute_result"
    }
   ],
   "source": [
    "l22 = [2, 3, 6, 9, 27, 60, 90, 120, 55, 46]\n",
    "list(filter(lambda l22 : l22%2 == 0 and l22% 3 == 0,l22))"
   ]
  },
  {
   "cell_type": "markdown",
   "id": "523ac589",
   "metadata": {},
   "source": [
    "__Q6. Write a python program to find palindromes in the given list of strings using lambda and filter\n",
    "function.\n",
    "['python', 'php', 'aba', 'radar', 'level']__"
   ]
  },
  {
   "cell_type": "code",
   "execution_count": 32,
   "id": "ebc4de53",
   "metadata": {},
   "outputs": [
    {
     "data": {
      "text/plain": [
       "['php', 'aba', 'radar', 'level']"
      ]
     },
     "execution_count": 32,
     "metadata": {},
     "output_type": "execute_result"
    }
   ],
   "source": [
    "s =  ['python', 'php', 'aba', 'radar', 'level']\n",
    "list(filter(lambda s :s==s[::-1],s))"
   ]
  },
  {
   "cell_type": "code",
   "execution_count": null,
   "id": "b457fb28",
   "metadata": {},
   "outputs": [],
   "source": []
  }
 ],
 "metadata": {
  "kernelspec": {
   "display_name": "Python 3 (ipykernel)",
   "language": "python",
   "name": "python3"
  },
  "language_info": {
   "codemirror_mode": {
    "name": "ipython",
    "version": 3
   },
   "file_extension": ".py",
   "mimetype": "text/x-python",
   "name": "python",
   "nbconvert_exporter": "python",
   "pygments_lexer": "ipython3",
   "version": "3.10.9"
  }
 },
 "nbformat": 4,
 "nbformat_minor": 5
}
