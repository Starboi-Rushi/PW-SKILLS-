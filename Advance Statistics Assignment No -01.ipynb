{
 "cells": [
  {
   "cell_type": "markdown",
   "id": "ab17971b",
   "metadata": {},
   "source": [
    "<a id=\"1\"></a>\n",
    "\n",
    "# <p style=\"padding: 10px; background-color: #97408d; margin: 10px; color: #ffffff; font-family: newtimeroman; font-size: 100%; text-align: center; border-radius: 10px; overflow: hidden; font-weight: 50;\"> Advance Statistics Assignment No - 01</p>"
   ]
  },
  {
   "cell_type": "markdown",
   "id": "cc842aea",
   "metadata": {},
   "source": [
    "<a id=\"1\"></a>\n",
    "# <p style=\"padding: 10px; background-color: #3d1871; margin: 5px; color: #ffffff; font-family: newtimeroman; font-size: 60%; text-align: right; border-radius: 5px; overflow: hidden; font-weight: 50;\">RUSHI BHAMARE</p>\n"
   ]
  },
  {
   "cell_type": "markdown",
   "id": "0ccabd15",
   "metadata": {},
   "source": [
    "# Q1. What is the Probability density function?"
   ]
  },
  {
   "cell_type": "markdown",
   "id": "b1b1cdd5",
   "metadata": {},
   "source": [
    "A probability density function (PDF) is a statistical concept used in probability theory and statistics to describe the probability distribution of a continuous random variable. It defines the likelihood of the random variable taking on a specific value within a given range. The PDF provides a way to understand how the probability of an event or outcome is distributed across the possible values of the random variable.\n",
    "\n",
    "The PDF tells us how the probability of observing a particular value within a continuous range changes across that range. It doesn't give the probability of observing a specific value (as in the case of a probability mass function for discrete random variables) but rather the likelihood of the variable falling within a certain interval.\n",
    "\n",
    "The cumulative distribution function (CDF) is related to the PDF and provides the cumulative probability of the random variable being less than or equal to a specific value.\n",
    "\n",
    "PDFs are used for various purposes, including hypothesis testing, parameter estimation, quality control,machine lrarnng, physical sciences,engineering. "
   ]
  },
  {
   "cell_type": "markdown",
   "id": "f7bd5ed9",
   "metadata": {},
   "source": [
    "# Q2. What are the types of Probability distribution?"
   ]
  },
  {
   "cell_type": "markdown",
   "id": "a35f89f0",
   "metadata": {},
   "source": [
    "Types of probability distributions:\n",
    "\n",
    "1. Uniform Distribution: In a uniform distribution, all possible outcomes are equally likely. For a continuous uniform distribution, the probability density function is constant within a specified interval, and for a discrete uniform distribution, each outcome has the same probability.\n",
    "\n",
    "2. Normal Distribution: The normal distribution is perhaps the most well-known probability distribution. It is characterized by a bell-shaped curve and is symmetric around the mean. Many natural phenomena, such as heights and test scores, follow a normal distribution.\n",
    "\n",
    "3. Binomial Distribution: The binomial distribution models the number of successes in a fixed number of independent Bernoulli trials. It is commonly used for problems involving binary outcomes (success/failure) and has applications in fields like quality control and biology.\n",
    "\n",
    "4. Poisson Distribution: The Poisson distribution is used to model the number of events occurring in a fixed interval of time or space. It's often used in situations where events are rare but can occur randomly, such as accidents, phone calls etc\n",
    "\n",
    "5. Exponential Distribution: The exponential distribution describes the time between events in a Poisson process, where events occur randomly at a constant average rate. It's frequently used in reliability engineering and queuing theory."
   ]
  },
  {
   "cell_type": "markdown",
   "id": "58c55513",
   "metadata": {},
   "source": [
    "# Q3. Write a Python function to calculate the probability density function of a normal distribution with given mean and standard deviation at a given point."
   ]
  },
  {
   "cell_type": "code",
   "execution_count": 1,
   "id": "3980df2c",
   "metadata": {},
   "outputs": [],
   "source": [
    "import math\n",
    "\n",
    "def normal_pdf(x, mu, sigma):\n",
    "  \n",
    "    coefficient = 1 / (sigma * math.sqrt(2 * math.pi))\n",
    "    exponent = -((x - mu) ** 2) / (2 * sigma ** 2)\n",
    "    pdf = coefficient * math.exp(exponent)\n",
    "    return pdf\n"
   ]
  },
  {
   "cell_type": "code",
   "execution_count": 2,
   "id": "a3c3eabc",
   "metadata": {},
   "outputs": [
    {
     "name": "stdout",
     "output_type": "stream",
     "text": [
      "The PDF at x = 1.5 is approximately 0.1295\n"
     ]
    }
   ],
   "source": [
    "mean = 0.0\n",
    "std_dev = 1.0\n",
    "x_value = 1.5\n",
    "pdf_value = normal_pdf(x_value, mean, std_dev)\n",
    "print(f\"The PDF at x = {x_value} is approximately {pdf_value:.4f}\")"
   ]
  },
  {
   "cell_type": "markdown",
   "id": "db056fc4",
   "metadata": {},
   "source": [
    "# Q4. What are the properties of Binomial distribution? Give two examples of events where binomial distribution can be applied."
   ]
  },
  {
   "cell_type": "markdown",
   "id": "1e954290",
   "metadata": {},
   "source": [
    "The binomial distribution is a probability distribution that describes the number of successes in a fixed number of independent Bernoulli trials (experiments with two possible outcomes: success or failure), where each trial has the same probability of success.\n",
    "\n",
    "The properties of Binomial distribution:-\n",
    "1. Two Possible Outcomes:Each trial has only two possible outcomes, typically labeled as \"success\" and \"failure.\" These outcomes are mutually exclusive.\n",
    "\n",
    "2. Constant Probability of Success: The probability of success remains constant for each trial. This means that the probability of success does not change from trial to trial.\n",
    "\n",
    "3. The binomial distribution is a discrete probability distribution, meaning that it deals with countable, distinct outcomes.\n",
    "\n",
    "4. Fixed Number of Trials: The distribution is defined for a fixed number of trials.\n",
    "\n",
    "Examples:-\n",
    "1. Coin Flips: When we flip a fair coin (where the probability of getting heads, p, is 0.5) multiple times (n times), we can use the binomial distribution to calculate the probability of getting a specific number of heads in those flips. For example,we want to know the probability of getting exactly 3 heads in 5 coin flips.\n",
    "\n",
    "2. Product Defects: In a manufacturing process, if there's a known probability of a product being defective (p), and you produce a fixed number of products (n), we can use the binomial distribution to find the probability of a certain number of defective products in the batch. For instance, we might want to determine the probability of having no more than 2 defective items in a batch of 10."
   ]
  },
  {
   "cell_type": "markdown",
   "id": "1400dc2b",
   "metadata": {},
   "source": [
    "# Q5. Generate a random sample of size 1000 from a binomial distribution with probability of success 0.4 and plot a histogram of the results using matplotlib."
   ]
  },
  {
   "cell_type": "code",
   "execution_count": 3,
   "id": "986ee680",
   "metadata": {},
   "outputs": [],
   "source": [
    "import numpy as np\n",
    "import matplotlib.pyplot as plt\n",
    "\n",
    "\n",
    "n= 1000\n",
    "p= 0.4\n",
    "\n",
    "sample=np.random.binomial(n, p,size=n)"
   ]
  },
  {
   "cell_type": "code",
   "execution_count": 4,
   "id": "9a6566fa",
   "metadata": {},
   "outputs": [
    {
     "data": {
      "image/png": "[encoded data removed]",
      "text/plain": [
       "<Figure size 640x480 with 1 Axes>"
      ]
     },
     "metadata": {},
     "output_type": "display_data"
    }
   ],
   "source": [
    "plt.hist(sample,bins='fd',density=True, edgecolor='black')\n",
    "plt.xlabel('Values')\n",
    "plt.ylabel('Frequency')\n",
    "plt.title('Binomial Distribution (n=1000, p=0.4)')\n",
    "plt.show()"
   ]
  },
  {
   "cell_type": "markdown",
   "id": "b24c972a",
   "metadata": {},
   "source": [
    "# Q6. Write a Python function to calculate the cumulative distribution function of a Poisson distribution with given mean at a given point."
   ]
  },
  {
   "cell_type": "code",
   "execution_count": 7,
   "id": "39fe0e4c",
   "metadata": {},
   "outputs": [],
   "source": [
    "import math"
   ]
  },
  {
   "cell_type": "code",
   "execution_count": 5,
   "id": "ae1421bc",
   "metadata": {},
   "outputs": [],
   "source": [
    "def poisson_cdf(mean, point):\n",
    "   \n",
    "    cdf = 0\n",
    "    for k in range(point + 1):\n",
    "        cdf = cdf + math.exp(-mean) * pow(mean, k) / math.factorial(k)\n",
    "    return cdf"
   ]
  },
  {
   "cell_type": "code",
   "execution_count": 6,
   "id": "846985b9",
   "metadata": {},
   "outputs": [
    {
     "name": "stdout",
     "output_type": "stream",
     "text": [
      "Poison cdf for mean = 4 at x = 2 is 0.2381\n"
     ]
    }
   ],
   "source": [
    "result = poisson_cdf(mean=4,point=2)\n",
    "print(f'Poison cdf for mean = 4 at x = 2 is {round(result,4)}')"
   ]
  },
  {
   "cell_type": "markdown",
   "id": "e34fe8c2",
   "metadata": {},
   "source": [
    "# Q7. How Binomial distribution different from Poisson distribution?"
   ]
  },
  {
   "cell_type": "markdown",
   "id": "a742bc56",
   "metadata": {},
   "source": [
    "**Differences:-**\n",
    "**1. Number of Trials:**\n",
    "\n",
    "**Binomial Distribution:** It is used to model the number of successes (or failures) in a fixed number of independent and identical trials, denoted as \"n.\" Each trial has two possible outcomes: success (p) or failure (1-p).\n",
    "\n",
    "**Poisson Distribution:** It is used to model the number of events (such as occurrences in a fixed time or space interval) in a continuous process or interval. There is no fixed number of trials; it is often applied when the number of trials is large or unknown.\n",
    "\n",
    "**2. Parameters:**\n",
    "\n",
    "**Binomial Distribution:** It has two parameters: the number of trials (n) and the probability of success on each trial (p).\n",
    "\n",
    "**Poisson Distribution:** It has one parameter: the average rate of events (λ) occurring in the fixed interval.\n",
    "\n",
    "**3.Shape:**\n",
    "\n",
    "**Binomial Distribution:** The shape of the distribution can be bell-shaped (approximately normal) when n is large, or it can be skewed when n is small or p is extreme.\n",
    "\n",
    "**Poisson Distribution:** It typically has a right-skewed shape, which becomes more similar to a normal distribution as λ increases.\n",
    "\n",
    "**4.Assumptions:**\n",
    "\n",
    "**Binomial Distribution:** Assumes a fixed number of trials, which means it's not suitable for modeling events in continuous time or space.\n",
    "\n",
    "**Poisson Distribution:** Assumes events occur randomly and independently over time or space. It's used when the rate of events is low, and Nature of Trials:\n",
    "\n",
    "5. Nature of Trials:\n",
    "\n",
    "**Binomial Distribution:** trials are discrete, independent, and identically distributed (i.i.d.). Each trial can result in one of two mutually exclusive outcomes, such as success or failure.\n",
    "\n",
    "**Poisson Distribution:** events that occur in a continuous and non-overlapping manner, such as the number of emails received in an hour or the number of phone calls at a call center."
   ]
  },
  {
   "cell_type": "markdown",
   "id": "7472d876",
   "metadata": {},
   "source": [
    "# Q8. Generate a random sample of size 1000 from a Poisson distribution with mean 5 and calculate the sample mean and variance."
   ]
  },
  {
   "cell_type": "code",
   "execution_count": 7,
   "id": "db15d2af",
   "metadata": {},
   "outputs": [],
   "source": [
    "import numpy as np\n",
    "\n",
    "sample_size = 1000\n",
    "mean = 5\n",
    "\n",
    "random_sample = np.random.poisson(mean, size=sample_size)"
   ]
  },
  {
   "cell_type": "code",
   "execution_count": 8,
   "id": "9186a501",
   "metadata": {},
   "outputs": [],
   "source": [
    "sample_mean = np.mean(random_sample)\n",
    "sample_variance = np.var(random_sample)"
   ]
  },
  {
   "cell_type": "code",
   "execution_count": 12,
   "id": "c83cca6e",
   "metadata": {},
   "outputs": [
    {
     "name": "stdout",
     "output_type": "stream",
     "text": [
      "Sample Mean: 4.9220\n",
      "Sample Variance: 4.8279\n"
     ]
    }
   ],
   "source": [
    "print(f\"Sample Mean: {sample_mean:.4f}\")\n",
    "print(f\"Sample Variance: {sample_variance:.4f}\")"
   ]
  },
  {
   "cell_type": "markdown",
   "id": "1286f54f",
   "metadata": {},
   "source": [
    "# Q9. How mean and variance are related in Binomial distribution and Poisson distribution?"
   ]
  },
  {
   "cell_type": "markdown",
   "id": "a4efe5fa",
   "metadata": {},
   "source": [
    "**1. Binomial Distribution**\n",
    "In the binomial distribution, the mean and variance are related as follows:\n",
    "\n",
    "Mean = np\n",
    "\n",
    "Variance = np(1-p)\n",
    "\n",
    "Where n is the number of trials, p is the probability of success in each trial"
   ]
  },
  {
   "cell_type": "markdown",
   "id": "a0b6effa",
   "metadata": {},
   "source": [
    "**2. Poission Distribution**\n",
    "In the Poisson distribution, the mean (or expected value) and variance are related as follows:\n",
    "\n",
    "Mean = Variance = λ\n",
    "\n",
    "where λ is the average number of rare events in the interval."
   ]
  },
  {
   "cell_type": "markdown",
   "id": "560d4aa5",
   "metadata": {},
   "source": [
    "In summary, in the Binomial distribution, the variance depends on both the number of trials (n) and the probability of success (p), while in the Poisson distribution, the variance is solely determined by the mean (μ)."
   ]
  },
  {
   "cell_type": "markdown",
   "id": "a2a51ced",
   "metadata": {},
   "source": [
    "# Q10. In normal distribution with respect to mean position, where does the least frequent data appear?"
   ]
  },
  {
   "cell_type": "markdown",
   "id": "81828c26",
   "metadata": {},
   "source": [
    "The least frequent data points in a normal distribution appear in the tails of the distribution, which are located farthest away from the mean. The majority of data points are clustered around the mean, and as we move away from the mean, the data becomes increasingly rare, resulting in the tails of the bell curve."
   ]
  },
  {
   "attachments": {
    "normal-distribution.webp": {
     "image/webp": "[encoded data removed]"
    }
   },
   "cell_type": "markdown",
   "id": "88dcc854",
   "metadata": {},
   "source": [
    "![normal-distribution.webp](attachment:normal-distribution.webp)"
   ]
  },
  {
   "cell_type": "markdown",
   "id": "1fdcd802",
   "metadata": {},
   "source": [
    "For example, if we have a normal distribution with mean 0 and standard deviation 1, the least frequent data will appear in the tails of the distribution, which are the regions beyond 3 standard deviations from the mean.\n",
    "\n",
    "The probability of observing a value in the tails of a normal distribution is relatively low compared to the probability of observing a value closer to the mean."
   ]
  },
  {
   "cell_type": "markdown",
   "id": "5715a2fd",
   "metadata": {},
   "source": [
    "<a id=\"1\"></a>\n",
    "\n",
    "# <p style=\"padding: 10px; background-color: #0790b6; margin: 10px; color: #ffffff; font-family: newtimeroman; font-size: 100%; text-align: center; border-radius: 10px; overflow: hidden; font-weight: 50;\"> Thank you</p>"
   ]
  }
 ],
 "metadata": {
  "kernelspec": {
   "display_name": "Python 3 (ipykernel)",
   "language": "python",
   "name": "python3"
  },
  "language_info": {
   "codemirror_mode": {
    "name": "ipython",
    "version": 3
   },
   "file_extension": ".py",
   "mimetype": "text/x-python",
   "name": "python",
   "nbconvert_exporter": "python",
   "pygments_lexer": "ipython3",
   "version": "3.10.9"
  }
 },
 "nbformat": 4,
 "nbformat_minor": 5
}
