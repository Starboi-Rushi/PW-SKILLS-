{
 "cells": [
  {
   "cell_type": "markdown",
   "metadata": {},
   "source": [
    "<a id=\"1\"></a>\n",
    "\n",
    "# <p style=\"padding: 10px; background-color: #97408d; margin: 10px; color: #ffffff; font-family: newtimeroman; font-size: 100%; text-align: center; border-radius: 10px; overflow: hidden; font-weight: 50;\"> Assignment Regression No -1 </p>"
   ]
  },
  {
   "cell_type": "markdown",
   "metadata": {},
   "source": [
    "<a id=\"1\"></a>\n",
    "# <p style=\"padding: 10px; background-color: #3d1871; margin: 5px; color: #ffffff; font-family: newtimeroman; font-size: 60%; text-align: right; border-radius: 5px; overflow: hidden; font-weight: 50;\">RUSHI BHAMARE</p>\n"
   ]
  },
  {
   "cell_type": "markdown",
   "metadata": {},
   "source": [
    "# Q1. Explain the difference between simple linear regression and multiple linear regression. Provide an example of each."
   ]
  },
  {
   "cell_type": "markdown",
   "metadata": {},
   "source": [
    "Simple Linear Regression:\n",
    "Simple linear regression is a type of regression analysis where the relationship between a dependent variable (usually denoted as y) and a single independent variable (usually denoted as x) is modeled as a linear function. The equation for simple linear regression is:"
   ]
  },
  {
   "cell_type": "markdown",
   "metadata": {},
   "source": [
    "The linear regression equation is ( y = beta_0 + \\beta_1 x + epsilon ).\n"
   ]
  },
  {
   "cell_type": "markdown",
   "metadata": {},
   "source": [
    "y is the dependent variable.\n",
    "\n",
    "x is the independent variable.\n",
    "\n",
    "β0 is the y-intercept (the value of y when x is 0).\n",
    "\n",
    "β1 is the slope of the line (the change in y for a unit change in x).\n",
    "\n",
    "ϵ represents the error term."
   ]
  },
  {
   "cell_type": "markdown",
   "metadata": {},
   "source": [
    "Multiple linear regression extends the concept of simple linear regression to the case where there are multiple independent variables influencing the dependent variable. The equation for multiple linear regression is:"
   ]
  },
  {
   "cell_type": "markdown",
   "metadata": {},
   "source": [
    "# Multiple Regression Equation\n",
    "\n",
    "The multiple regression equation is given by:\n",
    "\n",
    "[ y = beta_0 + beta_1 x_1 + beta_2 x_2 + ldots + beta_n x_n + epsilon ]\n",
    "\n",
    "where:\n",
    "- (y) is the dependent variable,\n",
    "\n",
    "- (x_1, x_2, ldots, x_n) are the independent variables,\n",
    "\n",
    "- (beta_0) is the y-intercept,\n",
    "\n",
    "- (beta_1, beta_2, \\ldots, \\beta_n) are the coefficients associated with each independent variable,\n",
    "\n",
    "- (epsilon) is the error term.\n"
   ]
  },
  {
   "cell_type": "code",
   "execution_count": 7,
   "metadata": {},
   "outputs": [
    {
     "name": "stdout",
     "output_type": "stream",
     "text": [
      "[12. 14. 16.]\n"
     ]
    }
   ],
   "source": [
    "# simple linear regression\n",
    "import numpy as np\n",
    "import matplotlib.pyplot as plt\n",
    "from sklearn.linear_model import LinearRegression\n",
    "\n",
    "# Define input and output variables\n",
    "X = np.array([1, 2, 3, 4, 5]).reshape(-1, 1)\n",
    "y = np.array([2, 4, 6, 8, 10])\n",
    "\n",
    "# Create and fit the model\n",
    "model = LinearRegression()\n",
    "model.fit(X, y)\n",
    "\n",
    "# Predict output for a new input\n",
    "X_new = np.array([6, 7, 8]).reshape(-1, 1)\n",
    "y_pred = model.predict(X_new)\n",
    "\n",
    "# Print predicted values\n",
    "print(y_pred)"
   ]
  },
  {
   "cell_type": "code",
   "execution_count": 8,
   "metadata": {},
   "outputs": [
    {
     "name": "stdout",
     "output_type": "stream",
     "text": [
      "[12. 14.]\n"
     ]
    }
   ],
   "source": [
    "# Multiple Regression\n",
    "import numpy as np\n",
    "import matplotlib.pyplot as plt\n",
    "from sklearn.linear_model import LinearRegression\n",
    "\n",
    "# Define input and output variables\n",
    "X = np.array([[1, 1], [1, 2], [2, 2], [2, 3]])\n",
    "y = np.dot(X, np.array([1, 2])) + 3\n",
    "\n",
    "# Create and fit the model\n",
    "model = LinearRegression()\n",
    "model.fit(X, y)\n",
    "\n",
    "# Predict output for a new input\n",
    "X_new = np.array([[3, 3], [3, 4]])\n",
    "y_pred = model.predict(X_new)\n",
    "\n",
    "# Print predicted values\n",
    "print(y_pred)"
   ]
  },
  {
   "cell_type": "markdown",
   "metadata": {},
   "source": [
    "# Q2. Discuss the assumptions of linear regression. How can you check whether these assumptions hold in a given dataset?"
   ]
  },
  {
   "cell_type": "markdown",
   "metadata": {},
   "source": [
    "\n",
    "Linear regression makes several assumptions about the data. Violation of these assumptions may lead to biased or inefficient estimates. Here are the key assumptions of linear regression:\n",
    "\n",
    "#### Linearity:\n",
    "- Assumption: The relationship between the independent and dependent variables is linear.\n",
    "- Check: Scatter plots of variables or residual plots can be used to visually assess linearity. If a clear pattern is observed, there might be a violation.\n",
    "\n",
    "#### Independence of Residuals:\n",
    "- Assumption: The residuals (the differences between observed and predicted values) should be independent of each other.\n",
    "- Check: Durbin-Watson test for autocorrelation, or inspecting a plot of residuals against the predicted values.\n",
    "\n",
    "#### Homoscedasticity (Constant Variance):\n",
    "- Assumption: The variance of residuals should be constant across all levels of the independent variable(s).\n",
    "- Check: Plotting residuals against predicted values; if the spread of residuals increases or decreases systematically, homoscedasticity may be violated.\n",
    "\n",
    "#### Normality of Residuals:\n",
    "- Assumption: The residuals should be normally distributed.\n",
    "- Check: Histogram of residuals, Q-Q plot, or statistical tests for normality (e.g., Shapiro-Wilk test). For large sample sizes, the Central Limit Theorem helps mitigate this assumption.\n",
    "\n",
    "#### No Perfect Multicollinearity:\n",
    "- Assumption: The independent variables should not be perfectly correlated with each other.\n",
    "- Check: Variance Inflation Factor (VIF) for each independent variable. A high VIF indicates high correlation with other variables.\n",
    "\n",
    "#### No Endogeneity:\n",
    "- Assumption: The independent variables are not correlated with the error term.\n",
    "- Check: Domain knowledge and careful model specification. Instrumental Variable (IV) methods can be used to address endogeneity."
   ]
  },
  {
   "cell_type": "code",
   "execution_count": 10,
   "metadata": {},
   "outputs": [
    {
     "name": "stdout",
     "output_type": "stream",
     "text": [
      "Collecting statsmodels\n",
      "  Downloading statsmodels-0.14.0-cp311-cp311-win_amd64.whl (9.2 MB)\n",
      "     ---------------------------------------- 0.0/9.2 MB ? eta -:--:--\n",
      "     ---------------------------------------- 0.0/9.2 MB ? eta -:--:--\n",
      "     ---------------------------------------- 0.1/9.2 MB 656.4 kB/s eta 0:00:14\n",
      "      --------------------------------------- 0.2/9.2 MB 1.7 MB/s eta 0:00:06\n",
      "     -- ------------------------------------- 0.6/9.2 MB 3.9 MB/s eta 0:00:03\n",
      "     ----- ---------------------------------- 1.2/9.2 MB 5.3 MB/s eta 0:00:02\n",
      "     ------- -------------------------------- 1.8/9.2 MB 6.7 MB/s eta 0:00:02\n",
      "     ---------- ----------------------------- 2.3/9.2 MB 7.5 MB/s eta 0:00:01\n",
      "     ------------ --------------------------- 3.0/9.2 MB 7.9 MB/s eta 0:00:01\n",
      "     --------------- ------------------------ 3.5/9.2 MB 8.3 MB/s eta 0:00:01\n",
      "     ----------------- ---------------------- 4.0/9.2 MB 8.7 MB/s eta 0:00:01\n",
      "     ------------------- -------------------- 4.5/9.2 MB 9.1 MB/s eta 0:00:01\n",
      "     ---------------------- ----------------- 5.1/9.2 MB 9.2 MB/s eta 0:00:01\n",
      "     ------------------------ --------------- 5.7/9.2 MB 9.3 MB/s eta 0:00:01\n",
      "     --------------------------- ------------ 6.2/9.2 MB 9.7 MB/s eta 0:00:01\n",
      "     ----------------------------- ---------- 6.7/9.2 MB 9.7 MB/s eta 0:00:01\n",
      "     ------------------------------- -------- 7.2/9.2 MB 9.8 MB/s eta 0:00:01\n",
      "     -------------------------------- ------- 7.4/9.2 MB 9.9 MB/s eta 0:00:01\n",
      "     -------------------------------- ------- 7.5/9.2 MB 9.5 MB/s eta 0:00:01\n",
      "     ----------------------------------- ---- 8.0/9.2 MB 9.5 MB/s eta 0:00:01\n",
      "     ------------------------------------- -- 8.6/9.2 MB 9.7 MB/s eta 0:00:01\n",
      "     ---------------------------------------  9.0/9.2 MB 9.8 MB/s eta 0:00:01\n",
      "     ---------------------------------------  9.2/9.2 MB 9.8 MB/s eta 0:00:01\n",
      "     ---------------------------------------- 9.2/9.2 MB 9.5 MB/s eta 0:00:00\n",
      "Requirement already satisfied: numpy>=1.18 in c:\\users\\sppun\\appdata\\local\\packages\\pythonsoftwarefoundation.python.3.11_qbz5n2kfra8p0\\localcache\\local-packages\\python311\\site-packages (from statsmodels) (1.26.0)\n",
      "Requirement already satisfied: scipy!=1.9.2,>=1.4 in c:\\users\\sppun\\appdata\\local\\packages\\pythonsoftwarefoundation.python.3.11_qbz5n2kfra8p0\\localcache\\local-packages\\python311\\site-packages (from statsmodels) (1.11.4)\n",
      "Requirement already satisfied: pandas>=1.0 in c:\\users\\sppun\\appdata\\local\\packages\\pythonsoftwarefoundation.python.3.11_qbz5n2kfra8p0\\localcache\\local-packages\\python311\\site-packages (from statsmodels) (2.1.1)\n",
      "Collecting patsy>=0.5.2 (from statsmodels)\n",
      "  Downloading patsy-0.5.3-py2.py3-none-any.whl (233 kB)\n",
      "     ---------------------------------------- 0.0/233.8 kB ? eta -:--:--\n",
      "     ------------------------------------- 233.8/233.8 kB 14.0 MB/s eta 0:00:00\n",
      "Requirement already satisfied: packaging>=21.3 in c:\\users\\sppun\\appdata\\local\\packages\\pythonsoftwarefoundation.python.3.11_qbz5n2kfra8p0\\localcache\\local-packages\\python311\\site-packages (from statsmodels) (23.2)\n",
      "Requirement already satisfied: python-dateutil>=2.8.2 in c:\\users\\sppun\\appdata\\local\\packages\\pythonsoftwarefoundation.python.3.11_qbz5n2kfra8p0\\localcache\\local-packages\\python311\\site-packages (from pandas>=1.0->statsmodels) (2.8.2)\n",
      "Requirement already satisfied: pytz>=2020.1 in c:\\users\\sppun\\appdata\\local\\packages\\pythonsoftwarefoundation.python.3.11_qbz5n2kfra8p0\\localcache\\local-packages\\python311\\site-packages (from pandas>=1.0->statsmodels) (2023.3.post1)\n",
      "Requirement already satisfied: tzdata>=2022.1 in c:\\users\\sppun\\appdata\\local\\packages\\pythonsoftwarefoundation.python.3.11_qbz5n2kfra8p0\\localcache\\local-packages\\python311\\site-packages (from pandas>=1.0->statsmodels) (2023.3)\n",
      "Requirement already satisfied: six in c:\\users\\sppun\\appdata\\local\\packages\\pythonsoftwarefoundation.python.3.11_qbz5n2kfra8p0\\localcache\\local-packages\\python311\\site-packages (from patsy>=0.5.2->statsmodels) (1.16.0)\n",
      "Installing collected packages: patsy, statsmodels\n",
      "Successfully installed patsy-0.5.3 statsmodels-0.14.0\n",
      "Note: you may need to restart the kernel to use updated packages.\n"
     ]
    },
    {
     "name": "stderr",
     "output_type": "stream",
     "text": [
      "\n",
      "[notice] A new release of pip is available: 23.2.1 -> 23.3.1\n",
      "[notice] To update, run: C:\\Users\\sppun\\AppData\\Local\\Microsoft\\WindowsApps\\PythonSoftwareFoundation.Python.3.11_qbz5n2kfra8p0\\python.exe -m pip install --upgrade pip\n"
     ]
    }
   ],
   "source": [
    "pip install statsmodels\n"
   ]
  },
  {
   "cell_type": "code",
   "execution_count": 13,
   "metadata": {},
   "outputs": [],
   "source": [
    "import statsmodels.api as sm\n",
    "import pandas as pd\n"
   ]
  },
  {
   "cell_type": "code",
   "execution_count": 15,
   "metadata": {},
   "outputs": [
    {
     "name": "stdout",
     "output_type": "stream",
     "text": [
      "  Variable       VIF\n",
      "0       X1  2.082827\n",
      "1       X2  2.082827\n"
     ]
    },
    {
     "data": {
      "image/png": "[encoded data removed]",
      "text/plain": [
       "<Figure size 1200x800 with 4 Axes>"
      ]
     },
     "metadata": {},
     "output_type": "display_data"
    }
   ],
   "source": [
    "import numpy as np\n",
    "import statsmodels.api as sm\n",
    "import matplotlib.pyplot as plt\n",
    "import seaborn as sns\n",
    "\n",
    "# Generate some random data for demonstration purposes\n",
    "np.random.seed(42)\n",
    "X1 = 2 * np.random.rand(100, 1)\n",
    "X2 = 3 * np.random.rand(100, 1)\n",
    "y = 4 + 3 * X1 + 5 * X2 + np.random.randn(100, 1)\n",
    "\n",
    "# Create a design matrix (including the intercept term)\n",
    "X = sm.add_constant(np.column_stack((X1, X2)))\n",
    "\n",
    "# Fit the model\n",
    "model = sm.OLS(y, X).fit()\n",
    "\n",
    "# Residuals\n",
    "residuals = model.resid\n",
    "\n",
    "# Check assumptions\n",
    "fig, axes = plt.subplots(2, 2, figsize=(12, 8))\n",
    "\n",
    "# Linearity: Residuals vs Fitted Values\n",
    "axes[0, 0].scatter(model.fittedvalues, residuals)\n",
    "axes[0, 0].axhline(y=0, color='r', linestyle='--')\n",
    "axes[0, 0].set_title('Residuals vs Fitted Values')\n",
    "\n",
    "# Homoscedasticity: Residuals vs Fitted Values (check for constant spread)\n",
    "axes[0, 1].scatter(model.fittedvalues, residuals)\n",
    "axes[0, 1].axhline(y=0, color='r', linestyle='--')\n",
    "axes[0, 1].axhline(y=3 * np.std(residuals), color='r', linestyle='--')\n",
    "axes[0, 1].axhline(y=-3 * np.std(residuals), color='r', linestyle='--')\n",
    "axes[0, 1].set_title('Residuals vs Fitted Values (Homoscedasticity)')\n",
    "\n",
    "# Normality of Residuals: Q-Q Plot\n",
    "sm.qqplot(residuals, line='s', ax=axes[1, 0])\n",
    "axes[1, 0].set_title('Q-Q Plot')\n",
    "\n",
    "# No Perfect Multicollinearity: Variance Inflation Factor (VIF)\n",
    "from statsmodels.stats.outliers_influence import variance_inflation_factor\n",
    "\n",
    "vif_data = X[:, 1:]  # Exclude the intercept term\n",
    "vif = pd.DataFrame()\n",
    "vif[\"Variable\"] = [\"X1\", \"X2\"]  # Replace with actual variable names if available\n",
    "vif[\"VIF\"] = [variance_inflation_factor(vif_data, i) for i in range(vif_data.shape[1])]\n",
    "print(vif)\n",
    "\n",
    "plt.tight_layout()\n",
    "plt.show()\n"
   ]
  },
  {
   "cell_type": "markdown",
   "metadata": {},
   "source": [
    "# Q3. How do you interpret the slope and intercept in a linear regression model? Provide an example using a real-world scenario."
   ]
  },
  {
   "cell_type": "markdown",
   "metadata": {},
   "source": [
    "1.\tIntercept (0β0):\n",
    "- Interpretation: The intercept represents the predicted value of the dependent variable (y) when all independent variables are zero.\n",
    "- Example: In the context of predicting house prices, the intercept could represent the baseline price of a house when all other factors (like size, location, etc.) are zero. However, the interpretation should be cautious, as having a house with zero size or zero characteristics may not be practically meaningful.\n",
    "\n",
    "2.\tSlope (β1,β2,…):\n",
    "- Interpretation: The slope represents the change in the predicted value of the dependent variable for a one-unit change in the corresponding independent variable, holding other variables constant.\n",
    "- Example: In the house price example, if the size of a house (X) has a slope of 50, it means that, on average, for every additional square meter in size, the predicted price of the house increases by 50 units, assuming other factors remain constant.\n",
    "\n"
   ]
  },
  {
   "cell_type": "markdown",
   "metadata": {},
   "source": [
    "Let's consider a real-world scenario of predicting the salary of employees based on their years of experience. In this example:\n",
    "- by (dependent variable): Salary\n",
    "- (independent variable): Years of experience\n",
    "A linear regression model might be expressed as:\n",
    "Salary=0+1×Years of Experience+Salary=β0+β1×Years of Experience+ϵ\n",
    "- Intercept (β0):\n",
    "- Interpretation: The intercept represents the predicted salary when an employee has zero years of experience.\n",
    "- Example: If β0 is $50,000, it means that the predicted salary for an employee with zero years of experience is $50,000.\n",
    "- Slope (β1):\n",
    "- Interpretation: The slope represents the average change in salary for a one-year increase in years of experience.\n",
    "- Example: If β1 is $5,000, it means that, on average, for every additional year of experience, the predicted salary increases by $5,000, assuming other factors are constant.\n",
    "\n",
    "So, if you have a model with β0=50,000 and β1=5,000, you might interpret it as follows: \"The predicted salary for an employee with zero years of experience is $50,000, and, on average, each additional year of experience is associated with a $5,000 increase in predicted salary.\"\n",
    "\n"
   ]
  },
  {
   "cell_type": "markdown",
   "metadata": {},
   "source": [
    "# Q4. Explain the concept of gradient descent. How is it used in machine learning?"
   ]
  },
  {
   "cell_type": "markdown",
   "metadata": {},
   "source": [
    "Gradient Descent is an optimization algorithm used to minimize the cost function in machine learning models. The goal of many machine learning algorithms is to find the optimal parameters (weights) that minimize the error or loss of the model on the training data. Gradient Descent helps in finding these optimal parameters.\n",
    "\n",
    "Here's a high-level overview of how it works:\n",
    "\n",
    "Initialization:\n",
    "\n",
    "Initialize the model parameters (weights) randomly or with some predefined values.\n",
    "Compute the Gradient:\n",
    "\n",
    "Compute the gradient of the cost function with respect to each parameter. The gradient represents the direction of the steepest increase in the cost function.\n",
    "Update Parameters:\n",
    "\n",
    "Adjust the parameters in the opposite direction of the gradient to reduce the cost. This is done by multiplying the gradient by a small value called the learning rate and subtracting it from the current parameter values.\n",
    "Repeat:\n",
    "\n",
    "Repeat steps 2 and 3 until the cost function converges to a minimum or a predetermined number of iterations is reached."
   ]
  },
  {
   "cell_type": "markdown",
   "metadata": {},
   "source": [
    "Types of Gradient Descent:\n",
    "\n",
    "- Batch Gradient Descent:\n",
    "Computes the gradient of the cost function with respect to the parameters for the entire training dataset in each iteration.\n",
    "\n",
    "- Stochastic Gradient Descent (SGD):\n",
    "Computes the gradient and updates the parameters for each training example. It has faster updates but can be noisy.\n",
    "Mini-Batch Gradient Descent:\n",
    "\n",
    "A compromise between Batch and SGD, where updates are performed using a subset (mini-batch) of the training dataset."
   ]
  },
  {
   "cell_type": "markdown",
   "metadata": {},
   "source": [
    "Mathematical Representation:\n",
    "For a simple linear regression, the update rule for the weight (w) can be expressed as:\n",
    "w=w−α⋅∂w∂J(w)\n",
    "Here:\n",
    "- J(w) is the cost function.\n",
    "- ∂/∂wJ(w) is the gradient of the cost function with respect to w.\n",
    "- α is the learning rate, a small positive value that controls the step size in each iteration.\n",
    "\n"
   ]
  },
  {
   "cell_type": "markdown",
   "metadata": {},
   "source": [
    "# Q5. Describe the multiple linear regression model. How does it differ from simple linear regression?"
   ]
  },
  {
   "cell_type": "markdown",
   "metadata": {},
   "source": [
    "# Multiple Linear Regression\n",
    "\n",
    "Multiple Linear Regression is an extension of simple linear regression, enabling the modeling of the relationship between a dependent variable (y) and multiple independent variables (x1, x2, ..., xn). The general form of the multiple linear regression equation is:\n",
    "\n",
    "[ y = β0 + β1 x1 + β2 x2 + ... + βn xn + ϵ ]\n",
    "\n",
    "Here's a breakdown:\n",
    "\n",
    "- y is the dependent variable (the one you want to predict).\n",
    "- x1, x2, ..., xn are the independent variables (features that influence y).\n",
    "- β0 is the intercept (the value of y when all x variables are zero).\n",
    "- β1, β2, ..., βn are the coefficients (how much y changes with each unit change in the corresponding x variable).\n",
    "- ϵ is the error term (captures unexplained factors affecting y).\n",
    "\n",
    "## Key Differences from Simple Linear Regression\n",
    "\n",
    "1. **Number of Variables:**\n",
    "   - **Simple Linear Regression:** Involves one independent variable (x).\n",
    "   - **Multiple Linear Regression:** Involves two or more independent variables (x1, x2, ..., xn).\n",
    "\n",
    "2. **Equation:**\n",
    "   - **Simple Linear Regression:** [ y = β0 + β1 x + ϵ ]\n",
    "   - **Multiple Linear Regression:** [ y = β0 + β1 x1 + β2 x2 + ... + βn xn + ϵ ]\n",
    "\n",
    "3. **Interpretation:**\n",
    "   - **Simple Linear Regression:** The slope (β1) represents the change in y for a one-unit change in x.\n",
    "   - **Multiple Linear Regression:** Each slope (β1, β2, ..., βn) represents the change in y for a one-unit change in the corresponding x variable, holding other variables constant.\n",
    "\n",
    "4. **Complexity:**\n",
    "   - **Simple Linear Regression:** Simpler model, suitable when there's a clear linear relationship between x and y.\n",
    "   - **Multiple Linear Regression:** Handles more complex relationships involving multiple variables. Allows modeling of scenarios where y depends on multiple factors.\n",
    "\n",
    "5. **Visual Representation:**\n",
    "   - **Simple Linear Regression:** Visualized as a line on a 2D plane.\n",
    "   - **Multiple Linear Regression:** Visualized as a hyperplane in a multi-dimensional space, which can be challenging to visualize directly.\n",
    "\n",
    "## Example\n",
    "\n",
    "Let's consider predicting house prices:\n",
    "\n",
    "[ Price = β0 + β1 × Area + β2 × Bedrooms + β3 × Bathrooms + ϵ ]\n",
    "\n",
    "- **Price:** Dependent variable (what we want to predict).\n",
    "- **Area, Bedrooms, Bathrooms:** Independent variables (features affecting house prices).\n",
    "- **β0, β1, β2, β3:** Intercept and coefficients. Each coefficient represents the change in price for a one-unit change in the corresponding feature, holding other features constant.\n",
    "a"
   ]
  },
  {
   "cell_type": "markdown",
   "metadata": {},
   "source": [
    "# Q6. Explain the concept of multicollinearity in multiple linear regression. How can you detect and address this issue?"
   ]
  },
  {
   "cell_type": "markdown",
   "metadata": {},
   "source": [
    "Multicollinearity in Multiple Linear Regression\n",
    "In multiple linear regression, multicollinearity refers to a situation where two or more independent variables in the model are highly correlated, making it challenging to distinguish their individual effects on the dependent variable. This can lead to issues in estimating the coefficients and interpreting the results.\n",
    "\n",
    "Detecting Multicollinearity:\n",
    "Correlation Matrix:\n",
    "Calculate the correlation matrix for all pairs of independent variables. High correlation coefficients (close to +1 or -1) indicate potential multicollinearity.\n"
   ]
  },
  {
   "cell_type": "code",
   "execution_count": 4,
   "metadata": {},
   "outputs": [
    {
     "name": "stderr",
     "output_type": "stream",
     "text": [
      "C:\\Users\\sppun\\AppData\\Local\\Packages\\PythonSoftwareFoundation.Python.3.11_qbz5n2kfra8p0\\LocalCache\\local-packages\\Python311\\site-packages\\sklearn\\datasets\\_openml.py:1022: FutureWarning: The default value of `parser` will change from `'liac-arff'` to `'auto'` in 1.4. You can set `parser='auto'` to silence this warning. Therefore, an `ImportError` will be raised from 1.4 if the dataset is dense and pandas is not installed. Note that the pandas parser may return different data types. See the Notes Section in fetch_openml's API doc for details.\n",
      "  warn(\n"
     ]
    },
    {
     "name": "stdout",
     "output_type": "stream",
     "text": [
      "Correlation Matrix:\n",
      "             CRIM        ZN     INDUS      CHAS       NOX        RM       AGE  \\\n",
      "CRIM     1.000000 -0.200469  0.406583 -0.055892  0.420972 -0.219247  0.352734   \n",
      "ZN      -0.200469  1.000000 -0.533828 -0.042697 -0.516604  0.311991 -0.569537   \n",
      "INDUS    0.406583 -0.533828  1.000000  0.062938  0.763651 -0.391676  0.644779   \n",
      "CHAS    -0.055892 -0.042697  0.062938  1.000000  0.091203  0.091251  0.086518   \n",
      "NOX      0.420972 -0.516604  0.763651  0.091203  1.000000 -0.302188  0.731470   \n",
      "RM      -0.219247  0.311991 -0.391676  0.091251 -0.302188  1.000000 -0.240265   \n",
      "AGE      0.352734 -0.569537  0.644779  0.086518  0.731470 -0.240265  1.000000   \n",
      "DIS     -0.379670  0.664408 -0.708027 -0.099176 -0.769230  0.205246 -0.747881   \n",
      "RAD      0.625505 -0.311948  0.595129 -0.007368  0.611441 -0.209847  0.456022   \n",
      "TAX      0.582764 -0.314563  0.720760 -0.035587  0.668023 -0.292048  0.506456   \n",
      "PTRATIO  0.289946 -0.391679  0.383248 -0.121515  0.188933 -0.355501  0.261515   \n",
      "B       -0.385064  0.175520 -0.356977  0.048788 -0.380051  0.128069 -0.273534   \n",
      "LSTAT    0.455621 -0.412995  0.603800 -0.053929  0.590879 -0.613808  0.602339   \n",
      "\n",
      "              DIS       RAD       TAX   PTRATIO         B     LSTAT  \n",
      "CRIM    -0.379670  0.625505  0.582764  0.289946 -0.385064  0.455621  \n",
      "ZN       0.664408 -0.311948 -0.314563 -0.391679  0.175520 -0.412995  \n",
      "INDUS   -0.708027  0.595129  0.720760  0.383248 -0.356977  0.603800  \n",
      "CHAS    -0.099176 -0.007368 -0.035587 -0.121515  0.048788 -0.053929  \n",
      "NOX     -0.769230  0.611441  0.668023  0.188933 -0.380051  0.590879  \n",
      "RM       0.205246 -0.209847 -0.292048 -0.355501  0.128069 -0.613808  \n",
      "AGE     -0.747881  0.456022  0.506456  0.261515 -0.273534  0.602339  \n",
      "DIS      1.000000 -0.494588 -0.534432 -0.232471  0.291512 -0.496996  \n",
      "RAD     -0.494588  1.000000  0.910228  0.464741 -0.444413  0.488676  \n",
      "TAX     -0.534432  0.910228  1.000000  0.460853 -0.441808  0.543993  \n",
      "PTRATIO -0.232471  0.464741  0.460853  1.000000 -0.177383  0.374044  \n",
      "B        0.291512 -0.444413 -0.441808 -0.177383  1.000000 -0.366087  \n",
      "LSTAT   -0.496996  0.488676  0.543993  0.374044 -0.366087  1.000000  \n"
     ]
    },
    {
     "ename": "TypeError",
     "evalue": "ufunc 'isfinite' not supported for the input types, and the inputs could not be safely coerced to any supported types according to the casting rule ''safe''",
     "output_type": "error",
     "traceback": [
      "\u001b[1;31m---------------------------------------------------------------------------\u001b[0m",
      "\u001b[1;31mTypeError\u001b[0m                                 Traceback (most recent call last)",
      "\u001b[1;32md:\\Regression Assignment No - 01.ipynb Cell 27\u001b[0m line \u001b[0;36m2\n\u001b[0;32m     <a href='vscode-notebook-cell:/d%3A/Regression%20Assignment%20No%20-%2001.ipynb#X40sZmlsZQ%3D%3D?line=22'>23</a>\u001b[0m vif_data \u001b[39m=\u001b[39m pd\u001b[39m.\u001b[39mDataFrame()\n\u001b[0;32m     <a href='vscode-notebook-cell:/d%3A/Regression%20Assignment%20No%20-%2001.ipynb#X40sZmlsZQ%3D%3D?line=23'>24</a>\u001b[0m vif_data[\u001b[39m\"\u001b[39m\u001b[39mVariable\u001b[39m\u001b[39m\"\u001b[39m] \u001b[39m=\u001b[39m X\u001b[39m.\u001b[39mcolumns\n\u001b[1;32m---> <a href='vscode-notebook-cell:/d%3A/Regression%20Assignment%20No%20-%2001.ipynb#X40sZmlsZQ%3D%3D?line=24'>25</a>\u001b[0m vif_data[\u001b[39m\"\u001b[39m\u001b[39mVIF\u001b[39m\u001b[39m\"\u001b[39m] \u001b[39m=\u001b[39m [variance_inflation_factor(X\u001b[39m.\u001b[39;49mvalues, i) \u001b[39mfor\u001b[39;49;00m i \u001b[39min\u001b[39;49;00m \u001b[39mrange\u001b[39;49m(X\u001b[39m.\u001b[39;49mshape[\u001b[39m1\u001b[39;49m])]\n\u001b[0;32m     <a href='vscode-notebook-cell:/d%3A/Regression%20Assignment%20No%20-%2001.ipynb#X40sZmlsZQ%3D%3D?line=25'>26</a>\u001b[0m \u001b[39mprint\u001b[39m(\u001b[39m\"\u001b[39m\u001b[39m\\n\u001b[39;00m\u001b[39mVIF:\u001b[39m\u001b[39m\"\u001b[39m)\n\u001b[0;32m     <a href='vscode-notebook-cell:/d%3A/Regression%20Assignment%20No%20-%2001.ipynb#X40sZmlsZQ%3D%3D?line=26'>27</a>\u001b[0m \u001b[39mprint\u001b[39m(vif_data)\n",
      "\u001b[1;32md:\\Regression Assignment No - 01.ipynb Cell 27\u001b[0m line \u001b[0;36m2\n\u001b[0;32m     <a href='vscode-notebook-cell:/d%3A/Regression%20Assignment%20No%20-%2001.ipynb#X40sZmlsZQ%3D%3D?line=22'>23</a>\u001b[0m vif_data \u001b[39m=\u001b[39m pd\u001b[39m.\u001b[39mDataFrame()\n\u001b[0;32m     <a href='vscode-notebook-cell:/d%3A/Regression%20Assignment%20No%20-%2001.ipynb#X40sZmlsZQ%3D%3D?line=23'>24</a>\u001b[0m vif_data[\u001b[39m\"\u001b[39m\u001b[39mVariable\u001b[39m\u001b[39m\"\u001b[39m] \u001b[39m=\u001b[39m X\u001b[39m.\u001b[39mcolumns\n\u001b[1;32m---> <a href='vscode-notebook-cell:/d%3A/Regression%20Assignment%20No%20-%2001.ipynb#X40sZmlsZQ%3D%3D?line=24'>25</a>\u001b[0m vif_data[\u001b[39m\"\u001b[39m\u001b[39mVIF\u001b[39m\u001b[39m\"\u001b[39m] \u001b[39m=\u001b[39m [variance_inflation_factor(X\u001b[39m.\u001b[39;49mvalues, i) \u001b[39mfor\u001b[39;00m i \u001b[39min\u001b[39;00m \u001b[39mrange\u001b[39m(X\u001b[39m.\u001b[39mshape[\u001b[39m1\u001b[39m])]\n\u001b[0;32m     <a href='vscode-notebook-cell:/d%3A/Regression%20Assignment%20No%20-%2001.ipynb#X40sZmlsZQ%3D%3D?line=25'>26</a>\u001b[0m \u001b[39mprint\u001b[39m(\u001b[39m\"\u001b[39m\u001b[39m\\n\u001b[39;00m\u001b[39mVIF:\u001b[39m\u001b[39m\"\u001b[39m)\n\u001b[0;32m     <a href='vscode-notebook-cell:/d%3A/Regression%20Assignment%20No%20-%2001.ipynb#X40sZmlsZQ%3D%3D?line=26'>27</a>\u001b[0m \u001b[39mprint\u001b[39m(vif_data)\n",
      "File \u001b[1;32m~\\AppData\\Local\\Packages\\PythonSoftwareFoundation.Python.3.11_qbz5n2kfra8p0\\LocalCache\\local-packages\\Python311\\site-packages\\statsmodels\\stats\\outliers_influence.py:197\u001b[0m, in \u001b[0;36mvariance_inflation_factor\u001b[1;34m(exog, exog_idx)\u001b[0m\n\u001b[0;32m    195\u001b[0m mask \u001b[39m=\u001b[39m np\u001b[39m.\u001b[39marange(k_vars) \u001b[39m!=\u001b[39m exog_idx\n\u001b[0;32m    196\u001b[0m x_noti \u001b[39m=\u001b[39m exog[:, mask]\n\u001b[1;32m--> 197\u001b[0m r_squared_i \u001b[39m=\u001b[39m OLS(x_i, x_noti)\u001b[39m.\u001b[39mfit()\u001b[39m.\u001b[39mrsquared\n\u001b[0;32m    198\u001b[0m vif \u001b[39m=\u001b[39m \u001b[39m1.\u001b[39m \u001b[39m/\u001b[39m (\u001b[39m1.\u001b[39m \u001b[39m-\u001b[39m r_squared_i)\n\u001b[0;32m    199\u001b[0m \u001b[39mreturn\u001b[39;00m vif\n",
      "File \u001b[1;32m~\\AppData\\Local\\Packages\\PythonSoftwareFoundation.Python.3.11_qbz5n2kfra8p0\\LocalCache\\local-packages\\Python311\\site-packages\\statsmodels\\regression\\linear_model.py:922\u001b[0m, in \u001b[0;36mOLS.__init__\u001b[1;34m(self, endog, exog, missing, hasconst, **kwargs)\u001b[0m\n\u001b[0;32m    919\u001b[0m     msg \u001b[39m=\u001b[39m (\u001b[39m\"\u001b[39m\u001b[39mWeights are not supported in OLS and will be ignored\u001b[39m\u001b[39m\"\u001b[39m\n\u001b[0;32m    920\u001b[0m            \u001b[39m\"\u001b[39m\u001b[39mAn exception will be raised in the next version.\u001b[39m\u001b[39m\"\u001b[39m)\n\u001b[0;32m    921\u001b[0m     warnings\u001b[39m.\u001b[39mwarn(msg, ValueWarning)\n\u001b[1;32m--> 922\u001b[0m \u001b[39msuper\u001b[39;49m(OLS, \u001b[39mself\u001b[39;49m)\u001b[39m.\u001b[39;49m\u001b[39m__init__\u001b[39;49m(endog, exog, missing\u001b[39m=\u001b[39;49mmissing,\n\u001b[0;32m    923\u001b[0m                           hasconst\u001b[39m=\u001b[39;49mhasconst, \u001b[39m*\u001b[39;49m\u001b[39m*\u001b[39;49mkwargs)\n\u001b[0;32m    924\u001b[0m \u001b[39mif\u001b[39;00m \u001b[39m\"\u001b[39m\u001b[39mweights\u001b[39m\u001b[39m\"\u001b[39m \u001b[39min\u001b[39;00m \u001b[39mself\u001b[39m\u001b[39m.\u001b[39m_init_keys:\n\u001b[0;32m    925\u001b[0m     \u001b[39mself\u001b[39m\u001b[39m.\u001b[39m_init_keys\u001b[39m.\u001b[39mremove(\u001b[39m\"\u001b[39m\u001b[39mweights\u001b[39m\u001b[39m\"\u001b[39m)\n",
      "File \u001b[1;32m~\\AppData\\Local\\Packages\\PythonSoftwareFoundation.Python.3.11_qbz5n2kfra8p0\\LocalCache\\local-packages\\Python311\\site-packages\\statsmodels\\regression\\linear_model.py:748\u001b[0m, in \u001b[0;36mWLS.__init__\u001b[1;34m(self, endog, exog, weights, missing, hasconst, **kwargs)\u001b[0m\n\u001b[0;32m    746\u001b[0m \u001b[39melse\u001b[39;00m:\n\u001b[0;32m    747\u001b[0m     weights \u001b[39m=\u001b[39m weights\u001b[39m.\u001b[39msqueeze()\n\u001b[1;32m--> 748\u001b[0m \u001b[39msuper\u001b[39;49m(WLS, \u001b[39mself\u001b[39;49m)\u001b[39m.\u001b[39;49m\u001b[39m__init__\u001b[39;49m(endog, exog, missing\u001b[39m=\u001b[39;49mmissing,\n\u001b[0;32m    749\u001b[0m                           weights\u001b[39m=\u001b[39;49mweights, hasconst\u001b[39m=\u001b[39;49mhasconst, \u001b[39m*\u001b[39;49m\u001b[39m*\u001b[39;49mkwargs)\n\u001b[0;32m    750\u001b[0m nobs \u001b[39m=\u001b[39m \u001b[39mself\u001b[39m\u001b[39m.\u001b[39mexog\u001b[39m.\u001b[39mshape[\u001b[39m0\u001b[39m]\n\u001b[0;32m    751\u001b[0m weights \u001b[39m=\u001b[39m \u001b[39mself\u001b[39m\u001b[39m.\u001b[39mweights\n",
      "File \u001b[1;32m~\\AppData\\Local\\Packages\\PythonSoftwareFoundation.Python.3.11_qbz5n2kfra8p0\\LocalCache\\local-packages\\Python311\\site-packages\\statsmodels\\regression\\linear_model.py:202\u001b[0m, in \u001b[0;36mRegressionModel.__init__\u001b[1;34m(self, endog, exog, **kwargs)\u001b[0m\n\u001b[0;32m    201\u001b[0m \u001b[39mdef\u001b[39;00m \u001b[39m__init__\u001b[39m(\u001b[39mself\u001b[39m, endog, exog, \u001b[39m*\u001b[39m\u001b[39m*\u001b[39mkwargs):\n\u001b[1;32m--> 202\u001b[0m     \u001b[39msuper\u001b[39;49m(RegressionModel, \u001b[39mself\u001b[39;49m)\u001b[39m.\u001b[39;49m\u001b[39m__init__\u001b[39;49m(endog, exog, \u001b[39m*\u001b[39;49m\u001b[39m*\u001b[39;49mkwargs)\n\u001b[0;32m    203\u001b[0m     \u001b[39mself\u001b[39m\u001b[39m.\u001b[39mpinv_wexog: Float64Array \u001b[39m|\u001b[39m \u001b[39mNone\u001b[39;00m \u001b[39m=\u001b[39m \u001b[39mNone\u001b[39;00m\n\u001b[0;32m    204\u001b[0m     \u001b[39mself\u001b[39m\u001b[39m.\u001b[39m_data_attr\u001b[39m.\u001b[39mextend([\u001b[39m'\u001b[39m\u001b[39mpinv_wexog\u001b[39m\u001b[39m'\u001b[39m, \u001b[39m'\u001b[39m\u001b[39mwendog\u001b[39m\u001b[39m'\u001b[39m, \u001b[39m'\u001b[39m\u001b[39mwexog\u001b[39m\u001b[39m'\u001b[39m, \u001b[39m'\u001b[39m\u001b[39mweights\u001b[39m\u001b[39m'\u001b[39m])\n",
      "File \u001b[1;32m~\\AppData\\Local\\Packages\\PythonSoftwareFoundation.Python.3.11_qbz5n2kfra8p0\\LocalCache\\local-packages\\Python311\\site-packages\\statsmodels\\base\\model.py:270\u001b[0m, in \u001b[0;36mLikelihoodModel.__init__\u001b[1;34m(self, endog, exog, **kwargs)\u001b[0m\n\u001b[0;32m    269\u001b[0m \u001b[39mdef\u001b[39;00m \u001b[39m__init__\u001b[39m(\u001b[39mself\u001b[39m, endog, exog\u001b[39m=\u001b[39m\u001b[39mNone\u001b[39;00m, \u001b[39m*\u001b[39m\u001b[39m*\u001b[39mkwargs):\n\u001b[1;32m--> 270\u001b[0m     \u001b[39msuper\u001b[39;49m()\u001b[39m.\u001b[39;49m\u001b[39m__init__\u001b[39;49m(endog, exog, \u001b[39m*\u001b[39;49m\u001b[39m*\u001b[39;49mkwargs)\n\u001b[0;32m    271\u001b[0m     \u001b[39mself\u001b[39m\u001b[39m.\u001b[39minitialize()\n",
      "File \u001b[1;32m~\\AppData\\Local\\Packages\\PythonSoftwareFoundation.Python.3.11_qbz5n2kfra8p0\\LocalCache\\local-packages\\Python311\\site-packages\\statsmodels\\base\\model.py:95\u001b[0m, in \u001b[0;36mModel.__init__\u001b[1;34m(self, endog, exog, **kwargs)\u001b[0m\n\u001b[0;32m     93\u001b[0m missing \u001b[39m=\u001b[39m kwargs\u001b[39m.\u001b[39mpop(\u001b[39m'\u001b[39m\u001b[39mmissing\u001b[39m\u001b[39m'\u001b[39m, \u001b[39m'\u001b[39m\u001b[39mnone\u001b[39m\u001b[39m'\u001b[39m)\n\u001b[0;32m     94\u001b[0m hasconst \u001b[39m=\u001b[39m kwargs\u001b[39m.\u001b[39mpop(\u001b[39m'\u001b[39m\u001b[39mhasconst\u001b[39m\u001b[39m'\u001b[39m, \u001b[39mNone\u001b[39;00m)\n\u001b[1;32m---> 95\u001b[0m \u001b[39mself\u001b[39m\u001b[39m.\u001b[39mdata \u001b[39m=\u001b[39m \u001b[39mself\u001b[39;49m\u001b[39m.\u001b[39;49m_handle_data(endog, exog, missing, hasconst,\n\u001b[0;32m     96\u001b[0m                               \u001b[39m*\u001b[39;49m\u001b[39m*\u001b[39;49mkwargs)\n\u001b[0;32m     97\u001b[0m \u001b[39mself\u001b[39m\u001b[39m.\u001b[39mk_constant \u001b[39m=\u001b[39m \u001b[39mself\u001b[39m\u001b[39m.\u001b[39mdata\u001b[39m.\u001b[39mk_constant\n\u001b[0;32m     98\u001b[0m \u001b[39mself\u001b[39m\u001b[39m.\u001b[39mexog \u001b[39m=\u001b[39m \u001b[39mself\u001b[39m\u001b[39m.\u001b[39mdata\u001b[39m.\u001b[39mexog\n",
      "File \u001b[1;32m~\\AppData\\Local\\Packages\\PythonSoftwareFoundation.Python.3.11_qbz5n2kfra8p0\\LocalCache\\local-packages\\Python311\\site-packages\\statsmodels\\base\\model.py:135\u001b[0m, in \u001b[0;36mModel._handle_data\u001b[1;34m(self, endog, exog, missing, hasconst, **kwargs)\u001b[0m\n\u001b[0;32m    134\u001b[0m \u001b[39mdef\u001b[39;00m \u001b[39m_handle_data\u001b[39m(\u001b[39mself\u001b[39m, endog, exog, missing, hasconst, \u001b[39m*\u001b[39m\u001b[39m*\u001b[39mkwargs):\n\u001b[1;32m--> 135\u001b[0m     data \u001b[39m=\u001b[39m handle_data(endog, exog, missing, hasconst, \u001b[39m*\u001b[39;49m\u001b[39m*\u001b[39;49mkwargs)\n\u001b[0;32m    136\u001b[0m     \u001b[39m# kwargs arrays could have changed, easier to just attach here\u001b[39;00m\n\u001b[0;32m    137\u001b[0m     \u001b[39mfor\u001b[39;00m key \u001b[39min\u001b[39;00m kwargs:\n",
      "File \u001b[1;32m~\\AppData\\Local\\Packages\\PythonSoftwareFoundation.Python.3.11_qbz5n2kfra8p0\\LocalCache\\local-packages\\Python311\\site-packages\\statsmodels\\base\\data.py:675\u001b[0m, in \u001b[0;36mhandle_data\u001b[1;34m(endog, exog, missing, hasconst, **kwargs)\u001b[0m\n\u001b[0;32m    672\u001b[0m     exog \u001b[39m=\u001b[39m np\u001b[39m.\u001b[39masarray(exog)\n\u001b[0;32m    674\u001b[0m klass \u001b[39m=\u001b[39m handle_data_class_factory(endog, exog)\n\u001b[1;32m--> 675\u001b[0m \u001b[39mreturn\u001b[39;00m klass(endog, exog\u001b[39m=\u001b[39;49mexog, missing\u001b[39m=\u001b[39;49mmissing, hasconst\u001b[39m=\u001b[39;49mhasconst,\n\u001b[0;32m    676\u001b[0m              \u001b[39m*\u001b[39;49m\u001b[39m*\u001b[39;49mkwargs)\n",
      "File \u001b[1;32m~\\AppData\\Local\\Packages\\PythonSoftwareFoundation.Python.3.11_qbz5n2kfra8p0\\LocalCache\\local-packages\\Python311\\site-packages\\statsmodels\\base\\data.py:88\u001b[0m, in \u001b[0;36mModelData.__init__\u001b[1;34m(self, endog, exog, missing, hasconst, **kwargs)\u001b[0m\n\u001b[0;32m     86\u001b[0m \u001b[39mself\u001b[39m\u001b[39m.\u001b[39mconst_idx \u001b[39m=\u001b[39m \u001b[39mNone\u001b[39;00m\n\u001b[0;32m     87\u001b[0m \u001b[39mself\u001b[39m\u001b[39m.\u001b[39mk_constant \u001b[39m=\u001b[39m \u001b[39m0\u001b[39m\n\u001b[1;32m---> 88\u001b[0m \u001b[39mself\u001b[39;49m\u001b[39m.\u001b[39;49m_handle_constant(hasconst)\n\u001b[0;32m     89\u001b[0m \u001b[39mself\u001b[39m\u001b[39m.\u001b[39m_check_integrity()\n\u001b[0;32m     90\u001b[0m \u001b[39mself\u001b[39m\u001b[39m.\u001b[39m_cache \u001b[39m=\u001b[39m {}\n",
      "File \u001b[1;32m~\\AppData\\Local\\Packages\\PythonSoftwareFoundation.Python.3.11_qbz5n2kfra8p0\\LocalCache\\local-packages\\Python311\\site-packages\\statsmodels\\base\\data.py:133\u001b[0m, in \u001b[0;36mModelData._handle_constant\u001b[1;34m(self, hasconst)\u001b[0m\n\u001b[0;32m    131\u001b[0m check_implicit \u001b[39m=\u001b[39m \u001b[39mFalse\u001b[39;00m\n\u001b[0;32m    132\u001b[0m exog_max \u001b[39m=\u001b[39m np\u001b[39m.\u001b[39mmax(\u001b[39mself\u001b[39m\u001b[39m.\u001b[39mexog, axis\u001b[39m=\u001b[39m\u001b[39m0\u001b[39m)\n\u001b[1;32m--> 133\u001b[0m \u001b[39mif\u001b[39;00m \u001b[39mnot\u001b[39;00m np\u001b[39m.\u001b[39;49misfinite(exog_max)\u001b[39m.\u001b[39mall():\n\u001b[0;32m    134\u001b[0m     \u001b[39mraise\u001b[39;00m MissingDataError(\u001b[39m'\u001b[39m\u001b[39mexog contains inf or nans\u001b[39m\u001b[39m'\u001b[39m)\n\u001b[0;32m    135\u001b[0m exog_min \u001b[39m=\u001b[39m np\u001b[39m.\u001b[39mmin(\u001b[39mself\u001b[39m\u001b[39m.\u001b[39mexog, axis\u001b[39m=\u001b[39m\u001b[39m0\u001b[39m)\n",
      "\u001b[1;31mTypeError\u001b[0m: ufunc 'isfinite' not supported for the input types, and the inputs could not be safely coerced to any supported types according to the casting rule ''safe''"
     ]
    }
   ],
   "source": [
    "import pandas as pd\n",
    "from statsmodels.stats.outliers_influence import variance_inflation_factor\n",
    "from sklearn.datasets import fetch_openml\n",
    "from sklearn.model_selection import train_test_split\n",
    "from sklearn.linear_model import LinearRegression\n",
    "from sklearn.metrics import mean_squared_error\n",
    "\n",
    "# Fetch the Boston Housing dataset from OpenML\n",
    "boston = fetch_openml(name='boston', version=2)\n",
    "data = pd.DataFrame(boston.data, columns=boston.feature_names)\n",
    "data['PRICE'] = boston.target\n",
    "\n",
    "# Assume we have a dataframe 'data' with multiple independent variables\n",
    "X = data.drop('PRICE', axis=1)\n",
    "y = data['PRICE']\n",
    "\n",
    "# Calculate and display the correlation matrix\n",
    "correlation_matrix = X.corr()\n",
    "print(\"Correlation Matrix:\")\n",
    "print(correlation_matrix)\n",
    "\n",
    "# Calculate and display the VIF for each variable\n",
    "vif_data = pd.DataFrame()\n",
    "vif_data[\"Variable\"] = X.columns\n",
    "vif_data[\"VIF\"] = [variance_inflation_factor(X.values, i) for i in range(X.shape[1])]\n",
    "print(\"\\nVIF:\")\n",
    "print(vif_data)\n",
    "\n",
    "# Address Multicollinearity\n",
    "\n",
    "# For this example, let's drop one highly correlated variable\n",
    "# You may choose a different strategy based on your specific scenario\n",
    "variable_to_drop = 'NOX'\n",
    "X = X.drop(variable_to_drop, axis=1)\n",
    "\n",
    "# Split the data into training and testing sets\n",
    "X_train, X_test, y_train, y_test = train_test_split(X, y, test_size=0.2, random_state=42)\n",
    "\n",
    "# Train a linear regression model and evaluate its performance\n",
    "model = LinearRegression()\n",
    "model.fit(X_train, y_train)\n",
    "\n",
    "# Make predictions on the test set\n",
    "y_pred = model.predict(X_test)\n",
    "\n",
    "# Calculate and display the model's performance\n",
    "mse = mean_squared_error(y_test, y_pred)\n",
    "print(\"\\nMean Squared Error:\", mse)\n"
   ]
  },
  {
   "cell_type": "markdown",
   "metadata": {},
   "source": [
    "Addressing Multicollinearity:\n",
    "Remove Redundant Variables:\n",
    "If variables are highly correlated, consider removing one of them. Choose the variable that is less theoretically important or has less relevance to your research question.\n",
    "python\n",
    "Copy code\n",
    "# Drop one of the highly correlated variables\n",
    "df = df.drop(\"HighlyCorrelatedVariable\", axis=1)\n",
    "Feature Engineering:\n",
    "Create new variables that combine the information from highly correlated variables.\n",
    "python\n",
    "Copy code\n",
    "# Combine highly correlated variables\n",
    "df[\"NewVariable\"] = df[\"Variable1\"] + df[\"Variable2\"]\n",
    "Regularization Techniques:\n",
    "Regularization methods like Ridge or Lasso regression can help mitigate multicollinearity by penalizing large coefficients.\n",
    "python\n",
    "Copy code\n",
    "from sklearn.linear_model import Ridge\n",
    "\n",
    "# Alpha is the regularization strength\n",
    "ridge_model = Ridge(alpha=1.0)\n",
    "ridge_model.fit(X, y)\n",
    "Principal Component Analysis (PCA):\n",
    "PCA can transform the original correlated variables into a set of linearly uncorrelated variables (principal components).\n",
    "python\n",
    "Copy code\n",
    "from sklearn.decomposition import PCA\n",
    "\n",
    "# Choose the number of components\n",
    "pca = PCA(n_components=3)\n",
    "X_pca = pca.fit_transform(X)"
   ]
  },
  {
   "cell_type": "markdown",
   "metadata": {},
   "source": [
    "# Q7. Describe the polynomial regression model. How is it different from linear regression?"
   ]
  },
  {
   "cell_type": "markdown",
   "metadata": {},
   "source": [
    "# Polynomial Regression Model\n",
    "\n",
    "Polynomial regression is a type of regression analysis that models the relationship between the independent variable (x) and the dependent variable (y) as an n-th degree polynomial. The general form of a polynomial regression equation is:\n",
    "\n",
    "[ y = β₀ + β₁ x + β₂ x² + β₃ x³ + ... + βₙ xⁿ + ϵ ]\n",
    "\n",
    "Here:\n",
    "- y is the dependent variable.\n",
    "- x is the independent variable.\n",
    "- β₀, β₁, ..., βₙ are the coefficients.\n",
    "- n is the degree of the polynomial.\n",
    "- ϵ is the error term.\n",
    "\n",
    "In simple terms, polynomial regression allows for modeling relationships that aren't linear. By introducing higher-degree terms (x², x³, ...), the model becomes more flexible and can capture more complex patterns in the data.\n",
    "\n",
    "## Differences from Linear Regression\n",
    "\n",
    "### Equation Form\n",
    "\n",
    "**Linear Regression:**\n",
    "[ y = β₀ + β₁ x + ϵ ]\n",
    "\n",
    "**Polynomial Regression:**\n",
    "[ y = β₀ + β₁ x + β₂ x² + ... + βₙ xⁿ + ϵ ]\n",
    "\n",
    "### Linearity\n",
    "\n",
    "- **Linear Regression:** Assumes a linear relationship between x and y.\n",
    "- **Polynomial Regression:** Can model non-linear relationships by including higher-degree terms.\n",
    "\n",
    "### Flexibility\n",
    "\n",
    "- **Linear Regression:** Limited to straight-line relationships.\n",
    "- **Polynomial Regression:** More flexible, suitable for capturing curves and bends in the data.\n",
    "\n",
    "### Complexity\n",
    "\n",
    "- **Linear Regression:** Simpler model, easier to interpret.\n",
    "- **Polynomial Regression:** Can lead to more complex models, potentially harder to interpret.\n",
    "\n",
    "### Overfitting\n",
    "\n",
    "- **Linear Regression:** Less prone to overfitting for simple relationships.\n",
    "- **Polynomial Regression:** Prone to overfitting, especially with higher-degree polynomials. Regularization techniques may be needed.\n"
   ]
  },
  {
   "cell_type": "markdown",
   "metadata": {},
   "source": [
    "# Q8. What are the advantages and disadvantages of polynomial regression compared to linear regression? In what situations would you prefer to use polynomial regression?"
   ]
  },
  {
   "cell_type": "markdown",
   "metadata": {},
   "source": [
    "# Advantages of Polynomial Regression:\n",
    "\n",
    "1. **Increased Flexibility:**\n",
    "   - Polynomial regression can model non-linear relationships, providing increased flexibility compared to linear regression. This is particularly useful when the true relationship between variables is not linear.\n",
    "\n",
    "2. **Captures Complex Patterns:**\n",
    "   - With higher-degree terms, polynomial regression can capture complex patterns and variations in the data that linear regression may not be able to represent effectively.\n",
    "\n",
    "3. **Accurate for Non-linear Data:**\n",
    "   - When the underlying data has a non-linear structure, polynomial regression can result in a more accurate representation of the relationship between variables.\n",
    "\n",
    "4. **Useful for Curved Trends:**\n",
    "   - It is suitable for situations where the relationship between the independent and dependent variables exhibits curves or bends.\n",
    "\n",
    "# Disadvantages of Polynomial Regression:\n",
    "\n",
    "1. **Overfitting:**\n",
    "   - Polynomial regression, especially with a high degree, is prone to overfitting. The model may become too complex and fit the training data too closely, resulting in poor generalization to new, unseen data.\n",
    "\n",
    "2. **Difficulty in Interpretation:**\n",
    "   - As the degree of the polynomial increases, the model becomes more complex, making it challenging to interpret the individual contributions of each variable. This complexity can hinder the practical understanding of the model.\n",
    "\n",
    "3. **Data Requirement:**\n",
    "   - Polynomial regression may require a larger amount of data compared to linear regression, especially when using higher-degree polynomials, to avoid overfitting.\n",
    "\n",
    "# When to Prefer Polynomial Regression:\n",
    "\n",
    "1. **Curved Relationships:**\n",
    "   - Use polynomial regression when the relationship between the independent and dependent variables is not linear and exhibits curves or bends.\n",
    "\n",
    "2. **Capturing Peaks and Valleys:**\n",
    "   - If the data shows peaks and valleys, or if there are variations in the rate of change, polynomial regression can be more effective than linear regression.\n",
    "\n",
    "3. **Small Data Range:**\n",
    "   - In situations where the data ranges over a small interval, and linear regression is not capturing the variability well, polynomial regression might be a better choice.\n",
    "\n",
    "4. **Visual Representation:**\n",
    "   - When visually inspecting the data reveals a non-linear pattern, polynomial regression may be preferred.\n",
    "\n",
    "5. **Interpolation:**\n",
    "   - In cases where you need to fit the model exactly to all data points, such as in interpolation scenarios, polynomial regression can be suitable.\n",
    "\n",
    "In summary, while polynomial regression offers increased flexibility and can capture non-linear relationships, it comes with the trade-offs of overfitting and increased complexity. It is generally preferred when the data exhibits non-linear patterns or when more flexibility is needed to accurately model the relationship between variables. Careful consideration of the degree of the polynomial is essential to balance flexibility and the risk of overfitting.\n"
   ]
  },
  {
   "cell_type": "markdown",
   "metadata": {},
   "source": [
    "<a id=\"1\"></a>\n",
    "\n",
    "# <p style=\"padding: 10px; background-color: #97408d; margin: 10px; color: #ffffff; font-family: newtimeroman; font-size: 100%; text-align: center; border-radius: 10px; overflow: hidden; font-weight: 50;\"> THANK YOU </p>"
   ]
  }
 ],
 "metadata": {
  "kernelspec": {
   "display_name": "Python 3",
   "language": "python",
   "name": "python3"
  },
  "language_info": {
   "codemirror_mode": {
    "name": "ipython",
    "version": 3
   },
   "file_extension": ".py",
   "mimetype": "text/x-python",
   "name": "python",
   "nbconvert_exporter": "python",
   "pygments_lexer": "ipython3",
   "version": "3.11.6"
  }
 },
 "nbformat": 4,
 "nbformat_minor": 2
}
