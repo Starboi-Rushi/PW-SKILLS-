{
 "cells": [
  {
   "cell_type": "markdown",
   "id": "a51fa207",
   "metadata": {},
   "source": [
    "**Q1. Create a vehicle class with an init method having instance variables as name_of_vehicle, max_speed\n",
    "and average_of_vehicle.**"
   ]
  },
  {
   "cell_type": "code",
   "execution_count": 30,
   "id": "3013f9d6",
   "metadata": {},
   "outputs": [],
   "source": [
    "class vehicle :\n",
    "    def __init__(self, name_of_vehicle, max_speed, average_of_vehicle):\n",
    "        self.name_of_vehicle = name_of_vehicle\n",
    "        self.max_speed = max_speed\n",
    "        self.average_of_vehicle = average_of_vehicle\n",
    "        \n",
    "    def return_vehicle_details(self) :\n",
    "        return self.name_of_vehicle,self.max_speed,self.average_of_vehicle"
   ]
  },
  {
   "cell_type": "code",
   "execution_count": 31,
   "id": "c6e2fb66",
   "metadata": {},
   "outputs": [],
   "source": [
    "nexon = vehicle(\"tata nexon\", 240 , 22)"
   ]
  },
  {
   "cell_type": "code",
   "execution_count": 32,
   "id": "43957afa",
   "metadata": {},
   "outputs": [
    {
     "data": {
      "text/plain": [
       "('tata nexon', 240, 22)"
      ]
     },
     "execution_count": 32,
     "metadata": {},
     "output_type": "execute_result"
    }
   ],
   "source": [
    "nexon.return_vehicle_details()"
   ]
  },
  {
   "cell_type": "markdown",
   "id": "9dc8af5d",
   "metadata": {},
   "source": [
    "**Q2. Create a child class car from the vehicle class created in Que 1, which will inherit the vehicle class.\n",
    "Create a method named seating_capacity which takes capacity as an argument and returns the name of\n",
    "the vehicle and its seating capacity.**"
   ]
  },
  {
   "cell_type": "code",
   "execution_count": 41,
   "id": "7f7468fd",
   "metadata": {},
   "outputs": [],
   "source": [
    "class car(vehicle) :\n",
    "    \n",
    "    \n",
    "    def __init__(self,name_of_vehicle, max_speed, average_of_vehicle,seating_capacity):\n",
    "         super().__init__(name_of_vehicle, max_speed, average_of_vehicle)\n",
    "         self.seating_capacity =seating_capacity\n",
    "            \n",
    "    def show_car_details(self) :\n",
    "        return  self.name_of_vehicle,self.max_speed,self.average_of_vehicle,self.seating_capacity\n",
    "        \n",
    "        "
   ]
  },
  {
   "cell_type": "code",
   "execution_count": 46,
   "id": "30955a54",
   "metadata": {},
   "outputs": [],
   "source": [
    "abc = car(\"tata nexon\",240,21,7)"
   ]
  },
  {
   "cell_type": "code",
   "execution_count": 47,
   "id": "f0bf8556",
   "metadata": {},
   "outputs": [
    {
     "data": {
      "text/plain": [
       "('tata nexon', 240, 21, 7)"
      ]
     },
     "execution_count": 47,
     "metadata": {},
     "output_type": "execute_result"
    }
   ],
   "source": [
    "abc.show_car_details()"
   ]
  },
  {
   "cell_type": "code",
   "execution_count": 48,
   "id": "4fa21c88",
   "metadata": {},
   "outputs": [
    {
     "data": {
      "text/plain": [
       "('tata nexon', 240, 21)"
      ]
     },
     "execution_count": 48,
     "metadata": {},
     "output_type": "execute_result"
    }
   ],
   "source": [
    "abc.return_vehicle_details()"
   ]
  },
  {
   "cell_type": "markdown",
   "id": "f39b23ad",
   "metadata": {},
   "source": [
    "**Q3. What is multiple inheritance? Write a python code to demonstrate multiple inheritance.**"
   ]
  },
  {
   "cell_type": "code",
   "execution_count": 50,
   "id": "a49813c5",
   "metadata": {},
   "outputs": [],
   "source": [
    "class Parent1:\n",
    "    def assign_string_one(self,str1):\n",
    "        self.str1 = str1\n",
    "    def show_string_one(self):\n",
    "            return self.str1\n",
    "        "
   ]
  },
  {
   "cell_type": "code",
   "execution_count": 51,
   "id": "348b6aa8",
   "metadata": {},
   "outputs": [],
   "source": [
    "class Parent2:\n",
    "    def assign_string_two(self,str2):\n",
    "        self.str2 = str2\n",
    "    def show_string_two(self):\n",
    "            return self.str2"
   ]
  },
  {
   "cell_type": "code",
   "execution_count": 52,
   "id": "36af1aff",
   "metadata": {},
   "outputs": [],
   "source": [
    "class Child(Parent1,Parent2):\n",
    "    def assign_string_three(self,str3):\n",
    "        self.str3 = str3\n",
    "    def show_string_three(self):\n",
    "        return self.str3"
   ]
  },
  {
   "cell_type": "code",
   "execution_count": 53,
   "id": "afad67e6",
   "metadata": {},
   "outputs": [],
   "source": [
    "my_child = Child()"
   ]
  },
  {
   "cell_type": "code",
   "execution_count": 54,
   "id": "bdc63c5c",
   "metadata": {},
   "outputs": [],
   "source": [
    "my_child.assign_string_one(\"I am string of parent 1\")"
   ]
  },
  {
   "cell_type": "code",
   "execution_count": 55,
   "id": "4b435ff9",
   "metadata": {},
   "outputs": [],
   "source": [
    "my_child.assign_string_two(\"I am string of parent 2\")"
   ]
  },
  {
   "cell_type": "code",
   "execution_count": 56,
   "id": "2fb33f2b",
   "metadata": {},
   "outputs": [],
   "source": [
    "my_child.assign_string_three(\"I am string of parent 3\")"
   ]
  },
  {
   "cell_type": "code",
   "execution_count": 59,
   "id": "f91af3b2",
   "metadata": {},
   "outputs": [
    {
     "data": {
      "text/plain": [
       "'I am string of parent 1'"
      ]
     },
     "execution_count": 59,
     "metadata": {},
     "output_type": "execute_result"
    }
   ],
   "source": [
    "my_child.show_string_one()"
   ]
  },
  {
   "cell_type": "code",
   "execution_count": 60,
   "id": "580e7cf9",
   "metadata": {},
   "outputs": [
    {
     "data": {
      "text/plain": [
       "'I am string of parent 2'"
      ]
     },
     "execution_count": 60,
     "metadata": {},
     "output_type": "execute_result"
    }
   ],
   "source": [
    "my_child.show_string_two()"
   ]
  },
  {
   "cell_type": "markdown",
   "id": "f166d99c",
   "metadata": {},
   "source": [
    "**Q4. What are getter and setter in python? Create a class and create a getter and a setter method in this\n",
    "class.**"
   ]
  },
  {
   "cell_type": "code",
   "execution_count": 63,
   "id": "6fec5452",
   "metadata": {},
   "outputs": [],
   "source": [
    "class student:\n",
    "    def __init__(self, name, age):\n",
    "        self.__name = name \n",
    "        self.__age = age\n",
    "   \n",
    "\n",
    "    def get_name(self):\n",
    "        return self.__name\n",
    "\n",
    "    def set_name(self, name):\n",
    "        if len(name) >= 3:\n",
    "            self.__name = name\n",
    "        else:\n",
    "            print(\"Name can not be written\")\n",
    "   \n",
    "\n",
    "    def get_age(self):\n",
    "        return self.__age\n",
    "\n",
    "   \n",
    "    def set_age(self, age):\n",
    "        if age >= 0:\n",
    "            self.__age = age\n",
    "        else:\n",
    "            print(\"Age cannot be negative.\")\n"
   ]
  },
  {
   "cell_type": "code",
   "execution_count": 65,
   "id": "976d4e09",
   "metadata": {},
   "outputs": [],
   "source": [
    "st =student(\"Vaibhav\", 23)"
   ]
  },
  {
   "cell_type": "code",
   "execution_count": 66,
   "id": "eb9c33d7",
   "metadata": {},
   "outputs": [
    {
     "data": {
      "text/plain": [
       "23"
      ]
     },
     "execution_count": 66,
     "metadata": {},
     "output_type": "execute_result"
    }
   ],
   "source": [
    "st.get_age()"
   ]
  },
  {
   "cell_type": "code",
   "execution_count": 67,
   "id": "1e7dfe6c",
   "metadata": {},
   "outputs": [
    {
     "data": {
      "text/plain": [
       "'Vaibhav'"
      ]
     },
     "execution_count": 67,
     "metadata": {},
     "output_type": "execute_result"
    }
   ],
   "source": [
    "st.get_name()"
   ]
  },
  {
   "cell_type": "code",
   "execution_count": 68,
   "id": "cec44ecb",
   "metadata": {},
   "outputs": [],
   "source": [
    "st.set_age(2222)"
   ]
  },
  {
   "cell_type": "code",
   "execution_count": 69,
   "id": "ed052b3e",
   "metadata": {},
   "outputs": [
    {
     "data": {
      "text/plain": [
       "2222"
      ]
     },
     "execution_count": 69,
     "metadata": {},
     "output_type": "execute_result"
    }
   ],
   "source": [
    "st.get_age()"
   ]
  },
  {
   "cell_type": "markdown",
   "id": "3ba26be8",
   "metadata": {},
   "source": [
    "**Q5.What is method overriding in python? Write a python code to demonstrate method overriding.**"
   ]
  },
  {
   "cell_type": "code",
   "execution_count": 76,
   "id": "e258cf42",
   "metadata": {},
   "outputs": [],
   "source": [
    "class Shape:\n",
    "    def area(self):\n",
    "        pass\n",
    "\n",
    "class Square(Shape):\n",
    "    def __init__(self, side_length):\n",
    "        self.side_length = side_length\n",
    "\n",
    "    def area(self):\n",
    "        return self.side_length * self.side_length\n",
    "\n",
    "class Circle(Shape):\n",
    "    def __init__(self, radius):\n",
    "        self.radius = radius\n",
    "\n",
    "    def area(self):\n",
    "        return 3.14159 * self.radius * self.radius\n"
   ]
  },
  {
   "cell_type": "code",
   "execution_count": 77,
   "id": "bb7bf603",
   "metadata": {},
   "outputs": [],
   "source": [
    "square = Square(5)\n",
    "circle = Circle(3)"
   ]
  },
  {
   "cell_type": "code",
   "execution_count": 78,
   "id": "52314082",
   "metadata": {},
   "outputs": [
    {
     "data": {
      "text/plain": [
       "25"
      ]
     },
     "execution_count": 78,
     "metadata": {},
     "output_type": "execute_result"
    }
   ],
   "source": [
    "square.area()"
   ]
  },
  {
   "cell_type": "code",
   "execution_count": 79,
   "id": "b06ce401",
   "metadata": {},
   "outputs": [
    {
     "data": {
      "text/plain": [
       "28.274309999999996"
      ]
     },
     "execution_count": 79,
     "metadata": {},
     "output_type": "execute_result"
    }
   ],
   "source": [
    "circle.area()"
   ]
  },
  {
   "cell_type": "code",
   "execution_count": null,
   "id": "01bc9483",
   "metadata": {},
   "outputs": [],
   "source": []
  }
 ],
 "metadata": {
  "kernelspec": {
   "display_name": "Python 3 (ipykernel)",
   "language": "python",
   "name": "python3"
  },
  "language_info": {
   "codemirror_mode": {
    "name": "ipython",
    "version": 3
   },
   "file_extension": ".py",
   "mimetype": "text/x-python",
   "name": "python",
   "nbconvert_exporter": "python",
   "pygments_lexer": "ipython3",
   "version": "3.10.9"
  }
 },
 "nbformat": 4,
 "nbformat_minor": 5
}
