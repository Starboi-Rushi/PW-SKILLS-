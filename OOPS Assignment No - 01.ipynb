{
 "cells": [
  {
   "cell_type": "markdown",
   "id": "f378e01d",
   "metadata": {},
   "source": [
    "**Q1. Explain Class and Object with respect to Object-Oriented Programming. Give a suitable example.**"
   ]
  },
  {
   "cell_type": "markdown",
   "id": "b7e4cb47",
   "metadata": {},
   "source": [
    "**CLASS = \n",
    "A class is a model or template used to create objects. It establishes the composition and operation of its objects. In other words, a class describes the characteristics (data) and methods (functions) that an object will have and be able to do.**"
   ]
  },
  {
   "cell_type": "markdown",
   "id": "79d3b038",
   "metadata": {},
   "source": [
    "**OBJECT = Object: An object is a class instance. It is a physical illustration of a certain concept or idea. Objects can perform actions (methods) that are specified by the class and have their own distinct data (attributes). By containing both data and function, objects enable structured data handling and manipulation.**"
   ]
  },
  {
   "cell_type": "code",
   "execution_count": 9,
   "id": "78e62d30",
   "metadata": {},
   "outputs": [],
   "source": [
    "class car:\n",
    "    def __init__(self, make, model, year):\n",
    "        self.make = make\n",
    "        self.model = model\n",
    "        self.year = year\n",
    "        self.is_running = False\n",
    "    \n",
    "    def start(self):\n",
    "        self.is_running = True\n",
    "        print(\"Car is running.\")\n",
    "    \n",
    "    def stop(self):\n",
    "        self.is_running = False\n",
    "        print(\"Car has been stopped.\")\n"
   ]
  },
  {
   "cell_type": "code",
   "execution_count": 10,
   "id": "9cef0105",
   "metadata": {},
   "outputs": [],
   "source": [
    "car1 = car(\"Tata\",\"Nexon\",2023)"
   ]
  },
  {
   "cell_type": "code",
   "execution_count": 20,
   "id": "e5941454",
   "metadata": {},
   "outputs": [],
   "source": [
    "car2 = car(\"Suzuki\",\"Swift\",2019)"
   ]
  },
  {
   "cell_type": "code",
   "execution_count": 21,
   "id": "c0c7e61a",
   "metadata": {},
   "outputs": [
    {
     "name": "stdout",
     "output_type": "stream",
     "text": [
      "Car is running.\n"
     ]
    }
   ],
   "source": [
    "car1.start()"
   ]
  },
  {
   "cell_type": "code",
   "execution_count": 22,
   "id": "737e299a",
   "metadata": {},
   "outputs": [
    {
     "name": "stdout",
     "output_type": "stream",
     "text": [
      "Car has been stopped.\n"
     ]
    }
   ],
   "source": [
    "car2.stop()"
   ]
  },
  {
   "cell_type": "code",
   "execution_count": 23,
   "id": "b16d43e5",
   "metadata": {},
   "outputs": [
    {
     "data": {
      "text/plain": [
       "'Tata'"
      ]
     },
     "execution_count": 23,
     "metadata": {},
     "output_type": "execute_result"
    }
   ],
   "source": [
    "car1.make"
   ]
  },
  {
   "cell_type": "code",
   "execution_count": 24,
   "id": "be4974a8",
   "metadata": {},
   "outputs": [
    {
     "data": {
      "text/plain": [
       "'Nexon'"
      ]
     },
     "execution_count": 24,
     "metadata": {},
     "output_type": "execute_result"
    }
   ],
   "source": [
    "car1.model"
   ]
  },
  {
   "cell_type": "code",
   "execution_count": 25,
   "id": "9072354f",
   "metadata": {},
   "outputs": [
    {
     "data": {
      "text/plain": [
       "'Swift'"
      ]
     },
     "execution_count": 25,
     "metadata": {},
     "output_type": "execute_result"
    }
   ],
   "source": [
    "car2.model"
   ]
  },
  {
   "cell_type": "code",
   "execution_count": 26,
   "id": "19bdec4f",
   "metadata": {},
   "outputs": [
    {
     "data": {
      "text/plain": [
       "2019"
      ]
     },
     "execution_count": 26,
     "metadata": {},
     "output_type": "execute_result"
    }
   ],
   "source": [
    "car2.year"
   ]
  },
  {
   "cell_type": "code",
   "execution_count": 27,
   "id": "70fc12cd",
   "metadata": {},
   "outputs": [
    {
     "data": {
      "text/plain": [
       "2023"
      ]
     },
     "execution_count": 27,
     "metadata": {},
     "output_type": "execute_result"
    }
   ],
   "source": [
    "car1.year"
   ]
  },
  {
   "cell_type": "markdown",
   "id": "91c039dd",
   "metadata": {},
   "source": [
    "**Q2. Name the four pillars of OOPs.**"
   ]
  },
  {
   "cell_type": "code",
   "execution_count": 32,
   "id": "d45ece74",
   "metadata": {},
   "outputs": [
    {
     "data": {
      "text/plain": [
       "' 1. Abstraction\\n    2. Encapsulation\\n    3. Polymorphism\\n    4. Inheritance '"
      ]
     },
     "execution_count": 32,
     "metadata": {},
     "output_type": "execute_result"
    }
   ],
   "source": [
    "''' 1. Abstraction\n",
    "    2. Encapsulation\n",
    "    3. Polymorphism\n",
    "    4. Inheritance '''"
   ]
  },
  {
   "cell_type": "markdown",
   "id": "e0159f8a",
   "metadata": {},
   "source": [
    "**Q3. Explain why the __init__() function is used. Give a suitable example.**"
   ]
  },
  {
   "cell_type": "markdown",
   "id": "9282400f",
   "metadata": {},
   "source": [
    "**The __init__() function, also known as the constructor, is a special method in Python classes\n",
    " When an object is created, it is used to initialize the attributes (data members) of the object. The __init__() function's main function is to initialize the object's state and provide default or user-specified values for its attributes.**"
   ]
  },
  {
   "cell_type": "code",
   "execution_count": 35,
   "id": "d3613935",
   "metadata": {},
   "outputs": [
    {
     "data": {
      "text/plain": [
       "' 1. Initialization\\n    2. Attribute assignment\\n    3. Customization\\n    4.Constructor logic '"
      ]
     },
     "execution_count": 35,
     "metadata": {},
     "output_type": "execute_result"
    }
   ],
   "source": [
    "# USES OF __init__ function\n",
    "''' 1. Initialization\n",
    "    2. Attribute assignment\n",
    "    3. Customization\n",
    "    4.Constructor logic '''"
   ]
  },
  {
   "cell_type": "code",
   "execution_count": 38,
   "id": "6df2275d",
   "metadata": {},
   "outputs": [],
   "source": [
    "class person:\n",
    "    def __init__(self, name, age):\n",
    "        self.name = name\n",
    "        self.age = age\n",
    "\n",
    "    def introduce(self):\n",
    "        print(\"Hello, my name is\",self.name,\" and I am\",self.age ,\"years old.\")\n"
   ]
  },
  {
   "cell_type": "code",
   "execution_count": 39,
   "id": "db7d487a",
   "metadata": {},
   "outputs": [],
   "source": [
    "p1 = person(\"Rushi\",23)"
   ]
  },
  {
   "cell_type": "code",
   "execution_count": 40,
   "id": "d49d8a8f",
   "metadata": {},
   "outputs": [],
   "source": [
    "p2 = person(\"vaibhav\", 24)"
   ]
  },
  {
   "cell_type": "code",
   "execution_count": 41,
   "id": "cc4f634a",
   "metadata": {},
   "outputs": [
    {
     "data": {
      "text/plain": [
       "23"
      ]
     },
     "execution_count": 41,
     "metadata": {},
     "output_type": "execute_result"
    }
   ],
   "source": [
    "p1.age"
   ]
  },
  {
   "cell_type": "code",
   "execution_count": 42,
   "id": "d4c93213",
   "metadata": {},
   "outputs": [
    {
     "data": {
      "text/plain": [
       "'Rushi'"
      ]
     },
     "execution_count": 42,
     "metadata": {},
     "output_type": "execute_result"
    }
   ],
   "source": [
    "p1.name"
   ]
  },
  {
   "cell_type": "code",
   "execution_count": 44,
   "id": "203917fe",
   "metadata": {},
   "outputs": [
    {
     "name": "stdout",
     "output_type": "stream",
     "text": [
      "Hello, my name is Rushi  and I am 23 years old.\n"
     ]
    }
   ],
   "source": [
    "p1.introduce()"
   ]
  },
  {
   "cell_type": "code",
   "execution_count": 46,
   "id": "fc4ea004",
   "metadata": {},
   "outputs": [
    {
     "name": "stdout",
     "output_type": "stream",
     "text": [
      "Hello, my name is vaibhav  and I am 24 years old.\n"
     ]
    }
   ],
   "source": [
    "p2.introduce()"
   ]
  },
  {
   "cell_type": "markdown",
   "id": "5eb6ded0",
   "metadata": {},
   "source": [
    "**Q4. Why self is used in OOPs?**"
   ]
  },
  {
   "cell_type": "markdown",
   "id": "06199ced",
   "metadata": {},
   "source": [
    "In object-oriented programming (OOP), the self keyword is used to refer to the instance of the class within the class itself. It is a common convention in Python (and some other object-oriented languages) to use self as the first parameter in method definitions. The purpose of self is to allow methods to access and manipulate the attributes and methods of the object to which they belong. It helps in maintaining the separation and organization of data and behavior within an object."
   ]
  },
  {
   "cell_type": "markdown",
   "id": "6d18e221",
   "metadata": {},
   "source": [
    "We can also use anithing in place of self, it is not basically reserved keyword.\n",
    "but It is commonly used and for understanding perpose everyone use self"
   ]
  },
  {
   "cell_type": "code",
   "execution_count": 47,
   "id": "a432909c",
   "metadata": {},
   "outputs": [],
   "source": [
    "class Dog:\n",
    "    def __init__(self, name, age):\n",
    "        self.name = name\n",
    "        self.age = age\n",
    "\n",
    "    def bark(self):\n",
    "        print(\"Dog is barking\")\n"
   ]
  },
  {
   "cell_type": "code",
   "execution_count": 49,
   "id": "cf1c5735",
   "metadata": {},
   "outputs": [],
   "source": [
    "d1 = Dog(\"Moti\", 2)"
   ]
  },
  {
   "cell_type": "code",
   "execution_count": 51,
   "id": "7e4c358f",
   "metadata": {},
   "outputs": [
    {
     "name": "stdout",
     "output_type": "stream",
     "text": [
      "Dog is barking\n"
     ]
    }
   ],
   "source": [
    "d1.bark()"
   ]
  },
  {
   "cell_type": "code",
   "execution_count": 52,
   "id": "ff20ddf5",
   "metadata": {},
   "outputs": [
    {
     "data": {
      "text/plain": [
       "'Moti'"
      ]
     },
     "execution_count": 52,
     "metadata": {},
     "output_type": "execute_result"
    }
   ],
   "source": [
    "d1.name"
   ]
  },
  {
   "cell_type": "code",
   "execution_count": 53,
   "id": "8650173c",
   "metadata": {},
   "outputs": [
    {
     "data": {
      "text/plain": [
       "2"
      ]
     },
     "execution_count": 53,
     "metadata": {},
     "output_type": "execute_result"
    }
   ],
   "source": [
    "d1.age"
   ]
  },
  {
   "cell_type": "code",
   "execution_count": 54,
   "id": "fb786547",
   "metadata": {},
   "outputs": [],
   "source": [
    "# without self"
   ]
  },
  {
   "cell_type": "code",
   "execution_count": 63,
   "id": "12a08cdb",
   "metadata": {},
   "outputs": [],
   "source": [
    "class Dog:\n",
    "    def __init__(rushi, name, age):\n",
    "        rushi.name = name\n",
    "        rushi.age = age\n",
    "\n",
    "    def bark(rushi):\n",
    "        print(f\"{rushi.name} is barking!\")\n"
   ]
  },
  {
   "cell_type": "code",
   "execution_count": 64,
   "id": "7581170d",
   "metadata": {},
   "outputs": [],
   "source": [
    "d2 = Dog(\"ROCK\",4)"
   ]
  },
  {
   "cell_type": "code",
   "execution_count": 65,
   "id": "49bc763b",
   "metadata": {},
   "outputs": [
    {
     "data": {
      "text/plain": [
       "4"
      ]
     },
     "execution_count": 65,
     "metadata": {},
     "output_type": "execute_result"
    }
   ],
   "source": [
    "d2.age"
   ]
  },
  {
   "cell_type": "code",
   "execution_count": 66,
   "id": "963061e9",
   "metadata": {},
   "outputs": [
    {
     "data": {
      "text/plain": [
       "'ROCK'"
      ]
     },
     "execution_count": 66,
     "metadata": {},
     "output_type": "execute_result"
    }
   ],
   "source": [
    "d2.name"
   ]
  },
  {
   "cell_type": "code",
   "execution_count": 67,
   "id": "52861f71",
   "metadata": {},
   "outputs": [
    {
     "name": "stdout",
     "output_type": "stream",
     "text": [
      "ROCK is barking!\n"
     ]
    }
   ],
   "source": [
    "d2.bark()"
   ]
  },
  {
   "cell_type": "markdown",
   "id": "9ad52c3f",
   "metadata": {},
   "source": [
    "**Q5. What is inheritance? Give an example for each type of inheritance.**"
   ]
  },
  {
   "cell_type": "markdown",
   "id": "35d38bac",
   "metadata": {},
   "source": [
    "Inheritance = \n",
    "It allows a new class to inherit attributes and methods from an existing class. The existing class is often referred to as the superclass or base class, and the new class is called the subclass or derived class. Inheritance facilitates code reuse, promotes modularity, and supports the establishment of \"is-a\" relationships between classes.\n",
    "\n",
    "There are basically Three types of Inheritance\n",
    "1. Single inheritance\n",
    "2. muliple inheritance\n",
    "3. multilevel inheritance"
   ]
  },
  {
   "cell_type": "code",
   "execution_count": 69,
   "id": "306cb054",
   "metadata": {},
   "outputs": [],
   "source": [
    "# single inheritance\n",
    "class vehicle:\n",
    "    def __init__(self, brand, year):\n",
    "        self.brand = brand\n",
    "        self.year = year\n",
    "\n",
    "    def start_engine(self):\n",
    "        return \" engine started\"\n",
    "\n",
    "class Car(vehicle):\n",
    "    def __init__(self, brand, year, model):\n",
    "        super().__init__(brand, year)\n",
    "        self.model = model\n",
    "\n",
    "    def drive(self):\n",
    "        return ( self.year, self.brand, self.model)"
   ]
  },
  {
   "cell_type": "code",
   "execution_count": 71,
   "id": "1829b569",
   "metadata": {},
   "outputs": [],
   "source": [
    "v1 = vehicle(\"TATA\",2020) # create object"
   ]
  },
  {
   "cell_type": "code",
   "execution_count": 72,
   "id": "af0d91f8",
   "metadata": {},
   "outputs": [
    {
     "data": {
      "text/plain": [
       "' engine started'"
      ]
     },
     "execution_count": 72,
     "metadata": {},
     "output_type": "execute_result"
    }
   ],
   "source": [
    "v1.start_engine()"
   ]
  },
  {
   "cell_type": "code",
   "execution_count": 73,
   "id": "82c958f8",
   "metadata": {},
   "outputs": [
    {
     "data": {
      "text/plain": [
       "'TATA'"
      ]
     },
     "execution_count": 73,
     "metadata": {},
     "output_type": "execute_result"
    }
   ],
   "source": [
    "v1.brand"
   ]
  },
  {
   "cell_type": "code",
   "execution_count": 74,
   "id": "afaedab7",
   "metadata": {},
   "outputs": [
    {
     "data": {
      "text/plain": [
       "2020"
      ]
     },
     "execution_count": 74,
     "metadata": {},
     "output_type": "execute_result"
    }
   ],
   "source": [
    "v1.year"
   ]
  },
  {
   "cell_type": "code",
   "execution_count": 75,
   "id": "a010ec07",
   "metadata": {},
   "outputs": [],
   "source": [
    "# multiple inheritance"
   ]
  },
  {
   "cell_type": "code",
   "execution_count": 79,
   "id": "83203e83",
   "metadata": {},
   "outputs": [],
   "source": [
    "class Father:\n",
    "    def skills(self):\n",
    "        return \"Farming\"\n",
    "\n",
    "class Mother:\n",
    "    def skil(self):\n",
    "        return \"Cooking\"\n",
    "\n",
    "class Child(Father, Mother):\n",
    "    pass\n",
    "\n",
    "child = Child()"
   ]
  },
  {
   "cell_type": "code",
   "execution_count": 80,
   "id": "8b58e84d",
   "metadata": {},
   "outputs": [
    {
     "data": {
      "text/plain": [
       "'Farming'"
      ]
     },
     "execution_count": 80,
     "metadata": {},
     "output_type": "execute_result"
    }
   ],
   "source": [
    "child.skills()"
   ]
  },
  {
   "cell_type": "code",
   "execution_count": 81,
   "id": "58969ed6",
   "metadata": {},
   "outputs": [
    {
     "data": {
      "text/plain": [
       "'Cooking'"
      ]
     },
     "execution_count": 81,
     "metadata": {},
     "output_type": "execute_result"
    }
   ],
   "source": [
    "child.skil()"
   ]
  },
  {
   "cell_type": "code",
   "execution_count": 82,
   "id": "5bb0d637",
   "metadata": {},
   "outputs": [],
   "source": [
    "# multilevel Inheritance\n",
    "class Animal:\n",
    "    def __init__(self, name):\n",
    "        self.name = name\n",
    "\n",
    "class Mammal(Animal):\n",
    "    def speak(self):\n",
    "        pass\n",
    "\n",
    "class Dog(Mammal):\n",
    "    def speak(self):\n",
    "        return \"Woof!\"\n",
    "\n",
    "dog = Dog(\"Buddy\")\n"
   ]
  },
  {
   "cell_type": "code",
   "execution_count": 83,
   "id": "8407f075",
   "metadata": {},
   "outputs": [
    {
     "data": {
      "text/plain": [
       "'Buddy'"
      ]
     },
     "execution_count": 83,
     "metadata": {},
     "output_type": "execute_result"
    }
   ],
   "source": [
    "dog.name"
   ]
  },
  {
   "cell_type": "code",
   "execution_count": 85,
   "id": "5d9f8cf1",
   "metadata": {},
   "outputs": [
    {
     "data": {
      "text/plain": [
       "'Woof!'"
      ]
     },
     "execution_count": 85,
     "metadata": {},
     "output_type": "execute_result"
    }
   ],
   "source": [
    "dog.speak()"
   ]
  },
  {
   "cell_type": "markdown",
   "id": "1d8a287d",
   "metadata": {},
   "source": [
    "# THANK YOU"
   ]
  },
  {
   "cell_type": "code",
   "execution_count": null,
   "id": "13e8231b",
   "metadata": {},
   "outputs": [],
   "source": []
  }
 ],
 "metadata": {
  "kernelspec": {
   "display_name": "Python 3 (ipykernel)",
   "language": "python",
   "name": "python3"
  },
  "language_info": {
   "codemirror_mode": {
    "name": "ipython",
    "version": 3
   },
   "file_extension": ".py",
   "mimetype": "text/x-python",
   "name": "python",
   "nbconvert_exporter": "python",
   "pygments_lexer": "ipython3",
   "version": "3.10.9"
  }
 },
 "nbformat": 4,
 "nbformat_minor": 5
}
